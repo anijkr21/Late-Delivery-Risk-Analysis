{
 "cells": [
  {
   "cell_type": "markdown",
   "id": "3bcec612",
   "metadata": {
    "pycharm": {
     "is_executing": true,
     "name": "#%%\n"
    }
   },
   "source": [
    "# 1 Importing Libraries"
   ]
  },
  {
   "cell_type": "code",
   "execution_count": 1,
   "id": "b08796ed",
   "metadata": {},
   "outputs": [],
   "source": [
    "import pandas as pd\n",
    "import numpy as np\n",
    "import matplotlib.pyplot as plt\n",
    "import seaborn as sns\n",
    "\n",
    "from warnings import filterwarnings\n",
    "filterwarnings('ignore')\n",
    "from sklearn.model_selection import train_test_split\n",
    "\n",
    "import statsmodels\n",
    "import statsmodels.api as sm\n",
    "\n",
    "from sklearn.preprocessing import StandardScaler,LabelEncoder\n",
    "\n",
    "from sklearn import metrics\n",
    "from sklearn.linear_model import LogisticRegression\n",
    "from sklearn.metrics import classification_report\n",
    "from sklearn.metrics import cohen_kappa_score\n",
    "from sklearn.metrics import confusion_matrix\n",
    "from sklearn.metrics import roc_curve, roc_auc_score\n",
    "from sklearn.metrics import accuracy_score\n",
    "from sklearn.metrics import ConfusionMatrixDisplay\n",
    "\n",
    "from sklearn.tree import DecisionTreeClassifier\n",
    "from sklearn.ensemble import RandomForestClassifier\n",
    "from sklearn import tree\n",
    "from sklearn.model_selection import GridSearchCV\n",
    "\n",
    "import pydotplus\n",
    "from IPython.display import Image \n",
    "\n",
    "from sklearn.feature_selection import RFE"
   ]
  },
  {
   "cell_type": "markdown",
   "id": "e3ed4731",
   "metadata": {},
   "source": [
    "# 2 Data Preparation"
   ]
  },
  {
   "cell_type": "markdown",
   "id": "69ea2f1a",
   "metadata": {},
   "source": [
    "### 2.1 Read Data"
   ]
  },
  {
   "cell_type": "code",
   "execution_count": 2,
   "id": "8c5eb8df",
   "metadata": {
    "pycharm": {
     "name": "#%%\n"
    }
   },
   "outputs": [],
   "source": [
    "df = pd.read_csv('D:/DSE/Capstone Project/DataCo/DataCoSupplyChainDataset.csv', encoding='latin')"
   ]
  },
  {
   "cell_type": "code",
   "execution_count": 3,
   "id": "095fc091",
   "metadata": {
    "pycharm": {
     "name": "#%%\n"
    }
   },
   "outputs": [],
   "source": [
    "pd.options.display.max_columns = None"
   ]
  },
  {
   "cell_type": "code",
   "execution_count": 4,
   "id": "a3e8b25a",
   "metadata": {
    "pycharm": {
     "name": "#%%\n"
    }
   },
   "outputs": [
    {
     "data": {
      "text/html": [
       "<div>\n",
       "<style scoped>\n",
       "    .dataframe tbody tr th:only-of-type {\n",
       "        vertical-align: middle;\n",
       "    }\n",
       "\n",
       "    .dataframe tbody tr th {\n",
       "        vertical-align: top;\n",
       "    }\n",
       "\n",
       "    .dataframe thead th {\n",
       "        text-align: right;\n",
       "    }\n",
       "</style>\n",
       "<table border=\"1\" class=\"dataframe\">\n",
       "  <thead>\n",
       "    <tr style=\"text-align: right;\">\n",
       "      <th></th>\n",
       "      <th>Type</th>\n",
       "      <th>Days for shipping (real)</th>\n",
       "      <th>Days for shipment (scheduled)</th>\n",
       "      <th>Benefit per order</th>\n",
       "      <th>Sales per customer</th>\n",
       "      <th>Delivery Status</th>\n",
       "      <th>Late_delivery_risk</th>\n",
       "      <th>Category Id</th>\n",
       "      <th>Category Name</th>\n",
       "      <th>Customer City</th>\n",
       "      <th>Customer Country</th>\n",
       "      <th>Customer Email</th>\n",
       "      <th>Customer Fname</th>\n",
       "      <th>Customer Id</th>\n",
       "      <th>Customer Lname</th>\n",
       "      <th>Customer Password</th>\n",
       "      <th>Customer Segment</th>\n",
       "      <th>Customer State</th>\n",
       "      <th>Customer Street</th>\n",
       "      <th>Customer Zipcode</th>\n",
       "      <th>Department Id</th>\n",
       "      <th>Department Name</th>\n",
       "      <th>Latitude</th>\n",
       "      <th>Longitude</th>\n",
       "      <th>Market</th>\n",
       "      <th>Order City</th>\n",
       "      <th>Order Country</th>\n",
       "      <th>Order Customer Id</th>\n",
       "      <th>order date (DateOrders)</th>\n",
       "      <th>Order Id</th>\n",
       "      <th>Order Item Cardprod Id</th>\n",
       "      <th>Order Item Discount</th>\n",
       "      <th>Order Item Discount Rate</th>\n",
       "      <th>Order Item Id</th>\n",
       "      <th>Order Item Product Price</th>\n",
       "      <th>Order Item Profit Ratio</th>\n",
       "      <th>Order Item Quantity</th>\n",
       "      <th>Sales</th>\n",
       "      <th>Order Item Total</th>\n",
       "      <th>Order Profit Per Order</th>\n",
       "      <th>Order Region</th>\n",
       "      <th>Order State</th>\n",
       "      <th>Order Status</th>\n",
       "      <th>Order Zipcode</th>\n",
       "      <th>Product Card Id</th>\n",
       "      <th>Product Category Id</th>\n",
       "      <th>Product Description</th>\n",
       "      <th>Product Image</th>\n",
       "      <th>Product Name</th>\n",
       "      <th>Product Price</th>\n",
       "      <th>Product Status</th>\n",
       "      <th>shipping date (DateOrders)</th>\n",
       "      <th>Shipping Mode</th>\n",
       "    </tr>\n",
       "  </thead>\n",
       "  <tbody>\n",
       "    <tr>\n",
       "      <th>0</th>\n",
       "      <td>DEBIT</td>\n",
       "      <td>3</td>\n",
       "      <td>4</td>\n",
       "      <td>91.250000</td>\n",
       "      <td>314.640015</td>\n",
       "      <td>Advance shipping</td>\n",
       "      <td>0</td>\n",
       "      <td>73</td>\n",
       "      <td>Sporting Goods</td>\n",
       "      <td>Caguas</td>\n",
       "      <td>Puerto Rico</td>\n",
       "      <td>XXXXXXXXX</td>\n",
       "      <td>Cally</td>\n",
       "      <td>20755</td>\n",
       "      <td>Holloway</td>\n",
       "      <td>XXXXXXXXX</td>\n",
       "      <td>Consumer</td>\n",
       "      <td>PR</td>\n",
       "      <td>5365 Noble Nectar Island</td>\n",
       "      <td>725.0</td>\n",
       "      <td>2</td>\n",
       "      <td>Fitness</td>\n",
       "      <td>18.251453</td>\n",
       "      <td>-66.037056</td>\n",
       "      <td>Pacific Asia</td>\n",
       "      <td>Bekasi</td>\n",
       "      <td>Indonesia</td>\n",
       "      <td>20755</td>\n",
       "      <td>1/31/2018 22:56</td>\n",
       "      <td>77202</td>\n",
       "      <td>1360</td>\n",
       "      <td>13.110000</td>\n",
       "      <td>0.04</td>\n",
       "      <td>180517</td>\n",
       "      <td>327.75</td>\n",
       "      <td>0.29</td>\n",
       "      <td>1</td>\n",
       "      <td>327.75</td>\n",
       "      <td>314.640015</td>\n",
       "      <td>91.250000</td>\n",
       "      <td>Southeast Asia</td>\n",
       "      <td>Java Occidental</td>\n",
       "      <td>COMPLETE</td>\n",
       "      <td>NaN</td>\n",
       "      <td>1360</td>\n",
       "      <td>73</td>\n",
       "      <td>NaN</td>\n",
       "      <td>http://images.acmesports.sports/Smart+watch</td>\n",
       "      <td>Smart watch</td>\n",
       "      <td>327.75</td>\n",
       "      <td>0</td>\n",
       "      <td>2/3/2018 22:56</td>\n",
       "      <td>Standard Class</td>\n",
       "    </tr>\n",
       "    <tr>\n",
       "      <th>1</th>\n",
       "      <td>TRANSFER</td>\n",
       "      <td>5</td>\n",
       "      <td>4</td>\n",
       "      <td>-249.089996</td>\n",
       "      <td>311.359985</td>\n",
       "      <td>Late delivery</td>\n",
       "      <td>1</td>\n",
       "      <td>73</td>\n",
       "      <td>Sporting Goods</td>\n",
       "      <td>Caguas</td>\n",
       "      <td>Puerto Rico</td>\n",
       "      <td>XXXXXXXXX</td>\n",
       "      <td>Irene</td>\n",
       "      <td>19492</td>\n",
       "      <td>Luna</td>\n",
       "      <td>XXXXXXXXX</td>\n",
       "      <td>Consumer</td>\n",
       "      <td>PR</td>\n",
       "      <td>2679 Rustic Loop</td>\n",
       "      <td>725.0</td>\n",
       "      <td>2</td>\n",
       "      <td>Fitness</td>\n",
       "      <td>18.279451</td>\n",
       "      <td>-66.037064</td>\n",
       "      <td>Pacific Asia</td>\n",
       "      <td>Bikaner</td>\n",
       "      <td>India</td>\n",
       "      <td>19492</td>\n",
       "      <td>1/13/2018 12:27</td>\n",
       "      <td>75939</td>\n",
       "      <td>1360</td>\n",
       "      <td>16.389999</td>\n",
       "      <td>0.05</td>\n",
       "      <td>179254</td>\n",
       "      <td>327.75</td>\n",
       "      <td>-0.80</td>\n",
       "      <td>1</td>\n",
       "      <td>327.75</td>\n",
       "      <td>311.359985</td>\n",
       "      <td>-249.089996</td>\n",
       "      <td>South Asia</td>\n",
       "      <td>Rajastán</td>\n",
       "      <td>PENDING</td>\n",
       "      <td>NaN</td>\n",
       "      <td>1360</td>\n",
       "      <td>73</td>\n",
       "      <td>NaN</td>\n",
       "      <td>http://images.acmesports.sports/Smart+watch</td>\n",
       "      <td>Smart watch</td>\n",
       "      <td>327.75</td>\n",
       "      <td>0</td>\n",
       "      <td>1/18/2018 12:27</td>\n",
       "      <td>Standard Class</td>\n",
       "    </tr>\n",
       "    <tr>\n",
       "      <th>2</th>\n",
       "      <td>CASH</td>\n",
       "      <td>4</td>\n",
       "      <td>4</td>\n",
       "      <td>-247.779999</td>\n",
       "      <td>309.720001</td>\n",
       "      <td>Shipping on time</td>\n",
       "      <td>0</td>\n",
       "      <td>73</td>\n",
       "      <td>Sporting Goods</td>\n",
       "      <td>San Jose</td>\n",
       "      <td>EE. UU.</td>\n",
       "      <td>XXXXXXXXX</td>\n",
       "      <td>Gillian</td>\n",
       "      <td>19491</td>\n",
       "      <td>Maldonado</td>\n",
       "      <td>XXXXXXXXX</td>\n",
       "      <td>Consumer</td>\n",
       "      <td>CA</td>\n",
       "      <td>8510 Round Bear Gate</td>\n",
       "      <td>95125.0</td>\n",
       "      <td>2</td>\n",
       "      <td>Fitness</td>\n",
       "      <td>37.292233</td>\n",
       "      <td>-121.881279</td>\n",
       "      <td>Pacific Asia</td>\n",
       "      <td>Bikaner</td>\n",
       "      <td>India</td>\n",
       "      <td>19491</td>\n",
       "      <td>1/13/2018 12:06</td>\n",
       "      <td>75938</td>\n",
       "      <td>1360</td>\n",
       "      <td>18.030001</td>\n",
       "      <td>0.06</td>\n",
       "      <td>179253</td>\n",
       "      <td>327.75</td>\n",
       "      <td>-0.80</td>\n",
       "      <td>1</td>\n",
       "      <td>327.75</td>\n",
       "      <td>309.720001</td>\n",
       "      <td>-247.779999</td>\n",
       "      <td>South Asia</td>\n",
       "      <td>Rajastán</td>\n",
       "      <td>CLOSED</td>\n",
       "      <td>NaN</td>\n",
       "      <td>1360</td>\n",
       "      <td>73</td>\n",
       "      <td>NaN</td>\n",
       "      <td>http://images.acmesports.sports/Smart+watch</td>\n",
       "      <td>Smart watch</td>\n",
       "      <td>327.75</td>\n",
       "      <td>0</td>\n",
       "      <td>1/17/2018 12:06</td>\n",
       "      <td>Standard Class</td>\n",
       "    </tr>\n",
       "    <tr>\n",
       "      <th>3</th>\n",
       "      <td>DEBIT</td>\n",
       "      <td>3</td>\n",
       "      <td>4</td>\n",
       "      <td>22.860001</td>\n",
       "      <td>304.809998</td>\n",
       "      <td>Advance shipping</td>\n",
       "      <td>0</td>\n",
       "      <td>73</td>\n",
       "      <td>Sporting Goods</td>\n",
       "      <td>Los Angeles</td>\n",
       "      <td>EE. UU.</td>\n",
       "      <td>XXXXXXXXX</td>\n",
       "      <td>Tana</td>\n",
       "      <td>19490</td>\n",
       "      <td>Tate</td>\n",
       "      <td>XXXXXXXXX</td>\n",
       "      <td>Home Office</td>\n",
       "      <td>CA</td>\n",
       "      <td>3200 Amber Bend</td>\n",
       "      <td>90027.0</td>\n",
       "      <td>2</td>\n",
       "      <td>Fitness</td>\n",
       "      <td>34.125946</td>\n",
       "      <td>-118.291016</td>\n",
       "      <td>Pacific Asia</td>\n",
       "      <td>Townsville</td>\n",
       "      <td>Australia</td>\n",
       "      <td>19490</td>\n",
       "      <td>1/13/2018 11:45</td>\n",
       "      <td>75937</td>\n",
       "      <td>1360</td>\n",
       "      <td>22.940001</td>\n",
       "      <td>0.07</td>\n",
       "      <td>179252</td>\n",
       "      <td>327.75</td>\n",
       "      <td>0.08</td>\n",
       "      <td>1</td>\n",
       "      <td>327.75</td>\n",
       "      <td>304.809998</td>\n",
       "      <td>22.860001</td>\n",
       "      <td>Oceania</td>\n",
       "      <td>Queensland</td>\n",
       "      <td>COMPLETE</td>\n",
       "      <td>NaN</td>\n",
       "      <td>1360</td>\n",
       "      <td>73</td>\n",
       "      <td>NaN</td>\n",
       "      <td>http://images.acmesports.sports/Smart+watch</td>\n",
       "      <td>Smart watch</td>\n",
       "      <td>327.75</td>\n",
       "      <td>0</td>\n",
       "      <td>1/16/2018 11:45</td>\n",
       "      <td>Standard Class</td>\n",
       "    </tr>\n",
       "    <tr>\n",
       "      <th>4</th>\n",
       "      <td>PAYMENT</td>\n",
       "      <td>2</td>\n",
       "      <td>4</td>\n",
       "      <td>134.210007</td>\n",
       "      <td>298.250000</td>\n",
       "      <td>Advance shipping</td>\n",
       "      <td>0</td>\n",
       "      <td>73</td>\n",
       "      <td>Sporting Goods</td>\n",
       "      <td>Caguas</td>\n",
       "      <td>Puerto Rico</td>\n",
       "      <td>XXXXXXXXX</td>\n",
       "      <td>Orli</td>\n",
       "      <td>19489</td>\n",
       "      <td>Hendricks</td>\n",
       "      <td>XXXXXXXXX</td>\n",
       "      <td>Corporate</td>\n",
       "      <td>PR</td>\n",
       "      <td>8671 Iron Anchor Corners</td>\n",
       "      <td>725.0</td>\n",
       "      <td>2</td>\n",
       "      <td>Fitness</td>\n",
       "      <td>18.253769</td>\n",
       "      <td>-66.037048</td>\n",
       "      <td>Pacific Asia</td>\n",
       "      <td>Townsville</td>\n",
       "      <td>Australia</td>\n",
       "      <td>19489</td>\n",
       "      <td>1/13/2018 11:24</td>\n",
       "      <td>75936</td>\n",
       "      <td>1360</td>\n",
       "      <td>29.500000</td>\n",
       "      <td>0.09</td>\n",
       "      <td>179251</td>\n",
       "      <td>327.75</td>\n",
       "      <td>0.45</td>\n",
       "      <td>1</td>\n",
       "      <td>327.75</td>\n",
       "      <td>298.250000</td>\n",
       "      <td>134.210007</td>\n",
       "      <td>Oceania</td>\n",
       "      <td>Queensland</td>\n",
       "      <td>PENDING_PAYMENT</td>\n",
       "      <td>NaN</td>\n",
       "      <td>1360</td>\n",
       "      <td>73</td>\n",
       "      <td>NaN</td>\n",
       "      <td>http://images.acmesports.sports/Smart+watch</td>\n",
       "      <td>Smart watch</td>\n",
       "      <td>327.75</td>\n",
       "      <td>0</td>\n",
       "      <td>1/15/2018 11:24</td>\n",
       "      <td>Standard Class</td>\n",
       "    </tr>\n",
       "  </tbody>\n",
       "</table>\n",
       "</div>"
      ],
      "text/plain": [
       "       Type  Days for shipping (real)  Days for shipment (scheduled)  \\\n",
       "0     DEBIT                         3                              4   \n",
       "1  TRANSFER                         5                              4   \n",
       "2      CASH                         4                              4   \n",
       "3     DEBIT                         3                              4   \n",
       "4   PAYMENT                         2                              4   \n",
       "\n",
       "   Benefit per order  Sales per customer   Delivery Status  \\\n",
       "0          91.250000          314.640015  Advance shipping   \n",
       "1        -249.089996          311.359985     Late delivery   \n",
       "2        -247.779999          309.720001  Shipping on time   \n",
       "3          22.860001          304.809998  Advance shipping   \n",
       "4         134.210007          298.250000  Advance shipping   \n",
       "\n",
       "   Late_delivery_risk  Category Id   Category Name Customer City  \\\n",
       "0                   0           73  Sporting Goods        Caguas   \n",
       "1                   1           73  Sporting Goods        Caguas   \n",
       "2                   0           73  Sporting Goods      San Jose   \n",
       "3                   0           73  Sporting Goods   Los Angeles   \n",
       "4                   0           73  Sporting Goods        Caguas   \n",
       "\n",
       "  Customer Country Customer Email Customer Fname  Customer Id Customer Lname  \\\n",
       "0      Puerto Rico      XXXXXXXXX          Cally        20755       Holloway   \n",
       "1      Puerto Rico      XXXXXXXXX          Irene        19492           Luna   \n",
       "2          EE. UU.      XXXXXXXXX        Gillian        19491      Maldonado   \n",
       "3          EE. UU.      XXXXXXXXX           Tana        19490           Tate   \n",
       "4      Puerto Rico      XXXXXXXXX           Orli        19489      Hendricks   \n",
       "\n",
       "  Customer Password Customer Segment Customer State           Customer Street  \\\n",
       "0         XXXXXXXXX         Consumer             PR  5365 Noble Nectar Island   \n",
       "1         XXXXXXXXX         Consumer             PR          2679 Rustic Loop   \n",
       "2         XXXXXXXXX         Consumer             CA      8510 Round Bear Gate   \n",
       "3         XXXXXXXXX      Home Office             CA           3200 Amber Bend   \n",
       "4         XXXXXXXXX        Corporate             PR  8671 Iron Anchor Corners   \n",
       "\n",
       "   Customer Zipcode  Department Id Department Name   Latitude   Longitude  \\\n",
       "0             725.0              2         Fitness  18.251453  -66.037056   \n",
       "1             725.0              2         Fitness  18.279451  -66.037064   \n",
       "2           95125.0              2         Fitness  37.292233 -121.881279   \n",
       "3           90027.0              2         Fitness  34.125946 -118.291016   \n",
       "4             725.0              2         Fitness  18.253769  -66.037048   \n",
       "\n",
       "         Market  Order City Order Country  Order Customer Id  \\\n",
       "0  Pacific Asia      Bekasi     Indonesia              20755   \n",
       "1  Pacific Asia     Bikaner         India              19492   \n",
       "2  Pacific Asia     Bikaner         India              19491   \n",
       "3  Pacific Asia  Townsville     Australia              19490   \n",
       "4  Pacific Asia  Townsville     Australia              19489   \n",
       "\n",
       "  order date (DateOrders)  Order Id  Order Item Cardprod Id  \\\n",
       "0         1/31/2018 22:56     77202                    1360   \n",
       "1         1/13/2018 12:27     75939                    1360   \n",
       "2         1/13/2018 12:06     75938                    1360   \n",
       "3         1/13/2018 11:45     75937                    1360   \n",
       "4         1/13/2018 11:24     75936                    1360   \n",
       "\n",
       "   Order Item Discount  Order Item Discount Rate  Order Item Id  \\\n",
       "0            13.110000                      0.04         180517   \n",
       "1            16.389999                      0.05         179254   \n",
       "2            18.030001                      0.06         179253   \n",
       "3            22.940001                      0.07         179252   \n",
       "4            29.500000                      0.09         179251   \n",
       "\n",
       "   Order Item Product Price  Order Item Profit Ratio  Order Item Quantity  \\\n",
       "0                    327.75                     0.29                    1   \n",
       "1                    327.75                    -0.80                    1   \n",
       "2                    327.75                    -0.80                    1   \n",
       "3                    327.75                     0.08                    1   \n",
       "4                    327.75                     0.45                    1   \n",
       "\n",
       "    Sales  Order Item Total  Order Profit Per Order    Order Region  \\\n",
       "0  327.75        314.640015               91.250000  Southeast Asia   \n",
       "1  327.75        311.359985             -249.089996      South Asia   \n",
       "2  327.75        309.720001             -247.779999      South Asia   \n",
       "3  327.75        304.809998               22.860001         Oceania   \n",
       "4  327.75        298.250000              134.210007         Oceania   \n",
       "\n",
       "       Order State     Order Status  Order Zipcode  Product Card Id  \\\n",
       "0  Java Occidental         COMPLETE            NaN             1360   \n",
       "1         Rajastán          PENDING            NaN             1360   \n",
       "2         Rajastán           CLOSED            NaN             1360   \n",
       "3       Queensland         COMPLETE            NaN             1360   \n",
       "4       Queensland  PENDING_PAYMENT            NaN             1360   \n",
       "\n",
       "   Product Category Id  Product Description  \\\n",
       "0                   73                  NaN   \n",
       "1                   73                  NaN   \n",
       "2                   73                  NaN   \n",
       "3                   73                  NaN   \n",
       "4                   73                  NaN   \n",
       "\n",
       "                                  Product Image  Product Name  Product Price  \\\n",
       "0  http://images.acmesports.sports/Smart+watch   Smart watch          327.75   \n",
       "1  http://images.acmesports.sports/Smart+watch   Smart watch          327.75   \n",
       "2  http://images.acmesports.sports/Smart+watch   Smart watch          327.75   \n",
       "3  http://images.acmesports.sports/Smart+watch   Smart watch          327.75   \n",
       "4  http://images.acmesports.sports/Smart+watch   Smart watch          327.75   \n",
       "\n",
       "   Product Status shipping date (DateOrders)   Shipping Mode  \n",
       "0               0             2/3/2018 22:56  Standard Class  \n",
       "1               0            1/18/2018 12:27  Standard Class  \n",
       "2               0            1/17/2018 12:06  Standard Class  \n",
       "3               0            1/16/2018 11:45  Standard Class  \n",
       "4               0            1/15/2018 11:24  Standard Class  "
      ]
     },
     "execution_count": 4,
     "metadata": {},
     "output_type": "execute_result"
    }
   ],
   "source": [
    "df.head()"
   ]
  },
  {
   "cell_type": "markdown",
   "id": "a64e8103",
   "metadata": {},
   "source": [
    "### 2.2 Check the Data"
   ]
  },
  {
   "cell_type": "code",
   "execution_count": 5,
   "id": "52458709",
   "metadata": {
    "pycharm": {
     "name": "#%%\n"
    }
   },
   "outputs": [
    {
     "name": "stdout",
     "output_type": "stream",
     "text": [
      "<class 'pandas.core.frame.DataFrame'>\n",
      "RangeIndex: 180519 entries, 0 to 180518\n",
      "Data columns (total 53 columns):\n",
      " #   Column                         Non-Null Count   Dtype  \n",
      "---  ------                         --------------   -----  \n",
      " 0   Type                           180519 non-null  object \n",
      " 1   Days for shipping (real)       180519 non-null  int64  \n",
      " 2   Days for shipment (scheduled)  180519 non-null  int64  \n",
      " 3   Benefit per order              180519 non-null  float64\n",
      " 4   Sales per customer             180519 non-null  float64\n",
      " 5   Delivery Status                180519 non-null  object \n",
      " 6   Late_delivery_risk             180519 non-null  int64  \n",
      " 7   Category Id                    180519 non-null  int64  \n",
      " 8   Category Name                  180519 non-null  object \n",
      " 9   Customer City                  180519 non-null  object \n",
      " 10  Customer Country               180519 non-null  object \n",
      " 11  Customer Email                 180519 non-null  object \n",
      " 12  Customer Fname                 180519 non-null  object \n",
      " 13  Customer Id                    180519 non-null  int64  \n",
      " 14  Customer Lname                 180511 non-null  object \n",
      " 15  Customer Password              180519 non-null  object \n",
      " 16  Customer Segment               180519 non-null  object \n",
      " 17  Customer State                 180519 non-null  object \n",
      " 18  Customer Street                180519 non-null  object \n",
      " 19  Customer Zipcode               180516 non-null  float64\n",
      " 20  Department Id                  180519 non-null  int64  \n",
      " 21  Department Name                180519 non-null  object \n",
      " 22  Latitude                       180519 non-null  float64\n",
      " 23  Longitude                      180519 non-null  float64\n",
      " 24  Market                         180519 non-null  object \n",
      " 25  Order City                     180519 non-null  object \n",
      " 26  Order Country                  180519 non-null  object \n",
      " 27  Order Customer Id              180519 non-null  int64  \n",
      " 28  order date (DateOrders)        180519 non-null  object \n",
      " 29  Order Id                       180519 non-null  int64  \n",
      " 30  Order Item Cardprod Id         180519 non-null  int64  \n",
      " 31  Order Item Discount            180519 non-null  float64\n",
      " 32  Order Item Discount Rate       180519 non-null  float64\n",
      " 33  Order Item Id                  180519 non-null  int64  \n",
      " 34  Order Item Product Price       180519 non-null  float64\n",
      " 35  Order Item Profit Ratio        180519 non-null  float64\n",
      " 36  Order Item Quantity            180519 non-null  int64  \n",
      " 37  Sales                          180519 non-null  float64\n",
      " 38  Order Item Total               180519 non-null  float64\n",
      " 39  Order Profit Per Order         180519 non-null  float64\n",
      " 40  Order Region                   180519 non-null  object \n",
      " 41  Order State                    180519 non-null  object \n",
      " 42  Order Status                   180519 non-null  object \n",
      " 43  Order Zipcode                  24840 non-null   float64\n",
      " 44  Product Card Id                180519 non-null  int64  \n",
      " 45  Product Category Id            180519 non-null  int64  \n",
      " 46  Product Description            0 non-null       float64\n",
      " 47  Product Image                  180519 non-null  object \n",
      " 48  Product Name                   180519 non-null  object \n",
      " 49  Product Price                  180519 non-null  float64\n",
      " 50  Product Status                 180519 non-null  int64  \n",
      " 51  shipping date (DateOrders)     180519 non-null  object \n",
      " 52  Shipping Mode                  180519 non-null  object \n",
      "dtypes: float64(15), int64(14), object(24)\n",
      "memory usage: 73.0+ MB\n"
     ]
    }
   ],
   "source": [
    "df.info()"
   ]
  },
  {
   "cell_type": "code",
   "execution_count": 6,
   "id": "57245731",
   "metadata": {},
   "outputs": [],
   "source": [
    "# Converting Datetime Variables\n",
    "df['order_date'] = pd.to_datetime(df['order date (DateOrders)'])\n",
    "\n",
    "df['order_year'] = pd.DatetimeIndex(df['order_date']).year\n",
    "df['order_month'] = pd.DatetimeIndex(df['order_date']).month\n",
    "df['order_day'] = pd.DatetimeIndex(df['order_date']).day\n",
    "\n",
    "df.drop(['order date (DateOrders)','shipping date (DateOrders)'],axis=1,inplace=True)\n",
    "df.drop(['order_date'],axis=1,inplace=True)"
   ]
  },
  {
   "cell_type": "markdown",
   "id": "0a4052e9",
   "metadata": {},
   "source": [
    "### 2.3 Remove Insignificant Varibles"
   ]
  },
  {
   "cell_type": "code",
   "execution_count": 7,
   "id": "e91fa6d7",
   "metadata": {},
   "outputs": [],
   "source": [
    "# Dropping irrelevant columns\n",
    "not_needed=['Product Image','Product Status','Customer Email','Customer Password','Customer Fname','Customer Lname','Product Name','Delivery Status']\n",
    "df.drop(not_needed,axis=1,inplace=True)"
   ]
  },
  {
   "cell_type": "code",
   "execution_count": 8,
   "id": "1e5816a1",
   "metadata": {
    "pycharm": {
     "name": "#%%\n"
    }
   },
   "outputs": [],
   "source": [
    "# Dropping Duplicate Columns\n",
    "dup_col = ['Product Category Id','Order Item Product Price','Order Item Cardprod Id','Order Profit Per Order','Sales per customer','Order Customer Id']\n",
    "df.drop(dup_col,axis=1,inplace=True)"
   ]
  },
  {
   "cell_type": "code",
   "execution_count": 9,
   "id": "9b46c719",
   "metadata": {},
   "outputs": [],
   "source": [
    "# Dropping Columns with many Missing Values\n",
    "miss_percent = (df.isnull().sum()*100/df.isnull().count())\n",
    "k = miss_percent[miss_percent>80]\n",
    "df.drop(k.index,axis=1,inplace=True)"
   ]
  },
  {
   "cell_type": "markdown",
   "id": "59ea6504",
   "metadata": {},
   "source": [
    "### 2.4 Distribution of Variables"
   ]
  },
  {
   "cell_type": "code",
   "execution_count": 10,
   "id": "2dd36ec4",
   "metadata": {},
   "outputs": [
    {
     "data": {
      "text/plain": [
       "Index(['Type', 'Category Name', 'Customer City', 'Customer Country',\n",
       "       'Customer Segment', 'Customer State', 'Customer Street',\n",
       "       'Department Name', 'Market', 'Order City', 'Order Country',\n",
       "       'Order Region', 'Order State', 'Order Status', 'Shipping Mode'],\n",
       "      dtype='object')"
      ]
     },
     "execution_count": 10,
     "metadata": {},
     "output_type": "execute_result"
    }
   ],
   "source": [
    "category =  df.select_dtypes(include='object').columns\n",
    "category"
   ]
  },
  {
   "cell_type": "code",
   "execution_count": 11,
   "id": "286b631b",
   "metadata": {},
   "outputs": [],
   "source": [
    "numeric = df.select_dtypes(include='number').columns\n",
    "numeric = numeric.drop('Late_delivery_risk')"
   ]
  },
  {
   "cell_type": "code",
   "execution_count": 12,
   "id": "470930ed",
   "metadata": {},
   "outputs": [
    {
     "data": {
      "text/plain": [
       "Index(['Days for shipping (real)', 'Days for shipment (scheduled)',\n",
       "       'Benefit per order', 'Category Id', 'Customer Id', 'Customer Zipcode',\n",
       "       'Department Id', 'Latitude', 'Longitude', 'Order Id',\n",
       "       'Order Item Discount', 'Order Item Discount Rate', 'Order Item Id',\n",
       "       'Order Item Profit Ratio', 'Order Item Quantity', 'Sales',\n",
       "       'Order Item Total', 'Product Card Id', 'Product Price', 'order_year',\n",
       "       'order_month', 'order_day'],\n",
       "      dtype='object')"
      ]
     },
     "execution_count": 12,
     "metadata": {},
     "output_type": "execute_result"
    }
   ],
   "source": [
    "numeric"
   ]
  },
  {
   "cell_type": "raw",
   "id": "70ea0369",
   "metadata": {
    "pycharm": {
     "name": "#%%\n"
    }
   },
   "source": [
    "for i in df[numeric].columns:\n",
    "    sns.boxplot(df[i])\n",
    "    plt.show()\n",
    "    print('\\n','Skewness of ',i,'is : ',df[i].skew())\n",
    "    "
   ]
  },
  {
   "cell_type": "raw",
   "id": "c9f2c6b3",
   "metadata": {
    "pycharm": {
     "name": "#%%\n"
    },
    "scrolled": true
   },
   "source": [
    "for i in df.select_dtypes(include='object').columns:\n",
    "    plt.xticks(rotation=90)\n",
    "    sns.countplot(df[i])\n",
    "    print('\\n',i)\n",
    "    plt.show()"
   ]
  },
  {
   "cell_type": "code",
   "execution_count": 13,
   "id": "47fffcf8",
   "metadata": {},
   "outputs": [
    {
     "data": {
      "image/png": "[encoded data removed]",
      "text/plain": [
       "<Figure size 432x288 with 1 Axes>"
      ]
     },
     "metadata": {
      "needs_background": "light"
     },
     "output_type": "display_data"
    }
   ],
   "source": [
    "# Plotting Target Variable\n",
    "sns.countplot(data=df, x='Late_delivery_risk')\n",
    "plt.show()"
   ]
  },
  {
   "cell_type": "markdown",
   "id": "6ccfb7c9",
   "metadata": {},
   "source": [
    "### Missing Value Treatment"
   ]
  },
  {
   "cell_type": "code",
   "execution_count": 14,
   "id": "e3b92cde",
   "metadata": {},
   "outputs": [
    {
     "data": {
      "text/plain": [
       "Type                             False\n",
       "Days for shipping (real)         False\n",
       "Days for shipment (scheduled)    False\n",
       "Benefit per order                False\n",
       "Late_delivery_risk               False\n",
       "Category Id                      False\n",
       "Category Name                    False\n",
       "Customer City                    False\n",
       "Customer Country                 False\n",
       "Customer Id                      False\n",
       "Customer Segment                 False\n",
       "Customer State                   False\n",
       "Customer Street                  False\n",
       "Customer Zipcode                  True\n",
       "Department Id                    False\n",
       "Department Name                  False\n",
       "Latitude                         False\n",
       "Longitude                        False\n",
       "Market                           False\n",
       "Order City                       False\n",
       "Order Country                    False\n",
       "Order Id                         False\n",
       "Order Item Discount              False\n",
       "Order Item Discount Rate         False\n",
       "Order Item Id                    False\n",
       "Order Item Profit Ratio          False\n",
       "Order Item Quantity              False\n",
       "Sales                            False\n",
       "Order Item Total                 False\n",
       "Order Region                     False\n",
       "Order State                      False\n",
       "Order Status                     False\n",
       "Product Card Id                  False\n",
       "Product Price                    False\n",
       "Shipping Mode                    False\n",
       "order_year                       False\n",
       "order_month                      False\n",
       "order_day                        False\n",
       "dtype: bool"
      ]
     },
     "execution_count": 14,
     "metadata": {},
     "output_type": "execute_result"
    }
   ],
   "source": [
    "df.isnull().sum()>0"
   ]
  },
  {
   "cell_type": "code",
   "execution_count": 15,
   "id": "f6294677",
   "metadata": {},
   "outputs": [
    {
     "data": {
      "text/html": [
       "<div>\n",
       "<style scoped>\n",
       "    .dataframe tbody tr th:only-of-type {\n",
       "        vertical-align: middle;\n",
       "    }\n",
       "\n",
       "    .dataframe tbody tr th {\n",
       "        vertical-align: top;\n",
       "    }\n",
       "\n",
       "    .dataframe thead th {\n",
       "        text-align: right;\n",
       "    }\n",
       "</style>\n",
       "<table border=\"1\" class=\"dataframe\">\n",
       "  <thead>\n",
       "    <tr style=\"text-align: right;\">\n",
       "      <th></th>\n",
       "      <th>Type</th>\n",
       "      <th>Days for shipping (real)</th>\n",
       "      <th>Days for shipment (scheduled)</th>\n",
       "      <th>Benefit per order</th>\n",
       "      <th>Late_delivery_risk</th>\n",
       "      <th>Category Id</th>\n",
       "      <th>Category Name</th>\n",
       "      <th>Customer City</th>\n",
       "      <th>Customer Country</th>\n",
       "      <th>Customer Id</th>\n",
       "      <th>Customer Segment</th>\n",
       "      <th>Customer State</th>\n",
       "      <th>Customer Street</th>\n",
       "      <th>Customer Zipcode</th>\n",
       "      <th>Department Id</th>\n",
       "      <th>Department Name</th>\n",
       "      <th>Latitude</th>\n",
       "      <th>Longitude</th>\n",
       "      <th>Market</th>\n",
       "      <th>Order City</th>\n",
       "      <th>Order Country</th>\n",
       "      <th>Order Id</th>\n",
       "      <th>Order Item Discount</th>\n",
       "      <th>Order Item Discount Rate</th>\n",
       "      <th>Order Item Id</th>\n",
       "      <th>Order Item Profit Ratio</th>\n",
       "      <th>Order Item Quantity</th>\n",
       "      <th>Sales</th>\n",
       "      <th>Order Item Total</th>\n",
       "      <th>Order Region</th>\n",
       "      <th>Order State</th>\n",
       "      <th>Order Status</th>\n",
       "      <th>Product Card Id</th>\n",
       "      <th>Product Price</th>\n",
       "      <th>Shipping Mode</th>\n",
       "      <th>order_year</th>\n",
       "      <th>order_month</th>\n",
       "      <th>order_day</th>\n",
       "    </tr>\n",
       "  </thead>\n",
       "  <tbody>\n",
       "    <tr>\n",
       "      <th>35704</th>\n",
       "      <td>DEBIT</td>\n",
       "      <td>2</td>\n",
       "      <td>1</td>\n",
       "      <td>66.379997</td>\n",
       "      <td>1</td>\n",
       "      <td>65</td>\n",
       "      <td>Consumer Electronics</td>\n",
       "      <td>CA</td>\n",
       "      <td>EE. UU.</td>\n",
       "      <td>14577</td>\n",
       "      <td>Consumer</td>\n",
       "      <td>95758</td>\n",
       "      <td>Elk Grove</td>\n",
       "      <td>NaN</td>\n",
       "      <td>10</td>\n",
       "      <td>Technology</td>\n",
       "      <td>39.134159</td>\n",
       "      <td>-123.718552</td>\n",
       "      <td>Europe</td>\n",
       "      <td>Valence</td>\n",
       "      <td>Francia</td>\n",
       "      <td>71024</td>\n",
       "      <td>63.220001</td>\n",
       "      <td>0.25</td>\n",
       "      <td>174339</td>\n",
       "      <td>0.35</td>\n",
       "      <td>1</td>\n",
       "      <td>252.880005</td>\n",
       "      <td>189.660004</td>\n",
       "      <td>Western Europe</td>\n",
       "      <td>Auvernia-Ródano-Alpes</td>\n",
       "      <td>COMPLETE</td>\n",
       "      <td>1352</td>\n",
       "      <td>252.880005</td>\n",
       "      <td>First Class</td>\n",
       "      <td>2017</td>\n",
       "      <td>11</td>\n",
       "      <td>2</td>\n",
       "    </tr>\n",
       "    <tr>\n",
       "      <th>46440</th>\n",
       "      <td>PAYMENT</td>\n",
       "      <td>4</td>\n",
       "      <td>4</td>\n",
       "      <td>10.910000</td>\n",
       "      <td>0</td>\n",
       "      <td>75</td>\n",
       "      <td>Video Games</td>\n",
       "      <td>CA</td>\n",
       "      <td>EE. UU.</td>\n",
       "      <td>17171</td>\n",
       "      <td>Corporate</td>\n",
       "      <td>95758</td>\n",
       "      <td>Elk Grove</td>\n",
       "      <td>NaN</td>\n",
       "      <td>9</td>\n",
       "      <td>Discs Shop</td>\n",
       "      <td>38.408573</td>\n",
       "      <td>-121.449112</td>\n",
       "      <td>Pacific Asia</td>\n",
       "      <td>Manila</td>\n",
       "      <td>Filipinas</td>\n",
       "      <td>73618</td>\n",
       "      <td>0.800000</td>\n",
       "      <td>0.02</td>\n",
       "      <td>176933</td>\n",
       "      <td>0.28</td>\n",
       "      <td>1</td>\n",
       "      <td>39.750000</td>\n",
       "      <td>38.959999</td>\n",
       "      <td>Southeast Asia</td>\n",
       "      <td>Capital Nacional</td>\n",
       "      <td>PENDING_PAYMENT</td>\n",
       "      <td>1362</td>\n",
       "      <td>39.750000</td>\n",
       "      <td>Standard Class</td>\n",
       "      <td>2017</td>\n",
       "      <td>12</td>\n",
       "      <td>10</td>\n",
       "    </tr>\n",
       "    <tr>\n",
       "      <th>82511</th>\n",
       "      <td>DEBIT</td>\n",
       "      <td>4</td>\n",
       "      <td>4</td>\n",
       "      <td>59.990002</td>\n",
       "      <td>0</td>\n",
       "      <td>63</td>\n",
       "      <td>Children's Clothing</td>\n",
       "      <td>CA</td>\n",
       "      <td>EE. UU.</td>\n",
       "      <td>14046</td>\n",
       "      <td>Consumer</td>\n",
       "      <td>91732</td>\n",
       "      <td>El Monte</td>\n",
       "      <td>NaN</td>\n",
       "      <td>4</td>\n",
       "      <td>Apparel</td>\n",
       "      <td>34.071892</td>\n",
       "      <td>-118.013886</td>\n",
       "      <td>Europe</td>\n",
       "      <td>Sheffield</td>\n",
       "      <td>Reino Unido</td>\n",
       "      <td>70493</td>\n",
       "      <td>57.139999</td>\n",
       "      <td>0.16</td>\n",
       "      <td>173808</td>\n",
       "      <td>0.20</td>\n",
       "      <td>1</td>\n",
       "      <td>357.100006</td>\n",
       "      <td>299.959992</td>\n",
       "      <td>Northern Europe</td>\n",
       "      <td>Inglaterra</td>\n",
       "      <td>COMPLETE</td>\n",
       "      <td>1350</td>\n",
       "      <td>357.100006</td>\n",
       "      <td>Standard Class</td>\n",
       "      <td>2017</td>\n",
       "      <td>10</td>\n",
       "      <td>26</td>\n",
       "    </tr>\n",
       "  </tbody>\n",
       "</table>\n",
       "</div>"
      ],
      "text/plain": [
       "          Type  Days for shipping (real)  Days for shipment (scheduled)  \\\n",
       "35704    DEBIT                         2                              1   \n",
       "46440  PAYMENT                         4                              4   \n",
       "82511    DEBIT                         4                              4   \n",
       "\n",
       "       Benefit per order  Late_delivery_risk  Category Id  \\\n",
       "35704          66.379997                   1           65   \n",
       "46440          10.910000                   0           75   \n",
       "82511          59.990002                   0           63   \n",
       "\n",
       "              Category Name Customer City Customer Country  Customer Id  \\\n",
       "35704  Consumer Electronics            CA          EE. UU.        14577   \n",
       "46440           Video Games            CA          EE. UU.        17171   \n",
       "82511   Children's Clothing            CA          EE. UU.        14046   \n",
       "\n",
       "      Customer Segment Customer State Customer Street  Customer Zipcode  \\\n",
       "35704         Consumer          95758       Elk Grove               NaN   \n",
       "46440        Corporate          95758       Elk Grove               NaN   \n",
       "82511         Consumer          91732        El Monte               NaN   \n",
       "\n",
       "       Department Id Department Name   Latitude   Longitude        Market  \\\n",
       "35704             10      Technology  39.134159 -123.718552        Europe   \n",
       "46440              9      Discs Shop  38.408573 -121.449112  Pacific Asia   \n",
       "82511              4         Apparel  34.071892 -118.013886        Europe   \n",
       "\n",
       "      Order City Order Country  Order Id  Order Item Discount  \\\n",
       "35704    Valence       Francia     71024            63.220001   \n",
       "46440     Manila     Filipinas     73618             0.800000   \n",
       "82511  Sheffield   Reino Unido     70493            57.139999   \n",
       "\n",
       "       Order Item Discount Rate  Order Item Id  Order Item Profit Ratio  \\\n",
       "35704                      0.25         174339                     0.35   \n",
       "46440                      0.02         176933                     0.28   \n",
       "82511                      0.16         173808                     0.20   \n",
       "\n",
       "       Order Item Quantity       Sales  Order Item Total     Order Region  \\\n",
       "35704                    1  252.880005        189.660004   Western Europe   \n",
       "46440                    1   39.750000         38.959999   Southeast Asia   \n",
       "82511                    1  357.100006        299.959992  Northern Europe   \n",
       "\n",
       "                 Order State     Order Status  Product Card Id  Product Price  \\\n",
       "35704  Auvernia-Ródano-Alpes         COMPLETE             1352     252.880005   \n",
       "46440       Capital Nacional  PENDING_PAYMENT             1362      39.750000   \n",
       "82511             Inglaterra         COMPLETE             1350     357.100006   \n",
       "\n",
       "        Shipping Mode  order_year  order_month  order_day  \n",
       "35704     First Class        2017           11          2  \n",
       "46440  Standard Class        2017           12         10  \n",
       "82511  Standard Class        2017           10         26  "
      ]
     },
     "execution_count": 15,
     "metadata": {},
     "output_type": "execute_result"
    }
   ],
   "source": [
    "# For Customer Zipcode\n",
    "cust_zip = df[df['Customer Zipcode'].isnull()]\n",
    "cust_zip"
   ]
  },
  {
   "cell_type": "code",
   "execution_count": 16,
   "id": "bc7c07b6",
   "metadata": {},
   "outputs": [],
   "source": [
    "for i in cust_zip.index:\n",
    "    df.iloc[i,df.columns.get_loc('Customer Zipcode')] = df.iloc[i,df.columns.get_loc('Customer State')]\n",
    "    df.iloc[i,df.columns.get_loc('Customer State')]   = df.iloc[i,df.columns.get_loc('Customer City')]\n",
    "    df.iloc[i,df.columns.get_loc('Customer City')]    = df.iloc[i,df.columns.get_loc('Customer Street')]\n"
   ]
  },
  {
   "cell_type": "code",
   "execution_count": 17,
   "id": "f8b694bc",
   "metadata": {},
   "outputs": [],
   "source": [
    "df['Customer Zipcode'] = df['Customer Zipcode'].astype('float')"
   ]
  },
  {
   "cell_type": "code",
   "execution_count": 18,
   "id": "37e488cc",
   "metadata": {},
   "outputs": [
    {
     "data": {
      "text/html": [
       "<div>\n",
       "<style scoped>\n",
       "    .dataframe tbody tr th:only-of-type {\n",
       "        vertical-align: middle;\n",
       "    }\n",
       "\n",
       "    .dataframe tbody tr th {\n",
       "        vertical-align: top;\n",
       "    }\n",
       "\n",
       "    .dataframe thead th {\n",
       "        text-align: right;\n",
       "    }\n",
       "</style>\n",
       "<table border=\"1\" class=\"dataframe\">\n",
       "  <thead>\n",
       "    <tr style=\"text-align: right;\">\n",
       "      <th></th>\n",
       "      <th>Type</th>\n",
       "      <th>Days for shipping (real)</th>\n",
       "      <th>Days for shipment (scheduled)</th>\n",
       "      <th>Benefit per order</th>\n",
       "      <th>Late_delivery_risk</th>\n",
       "      <th>Category Id</th>\n",
       "      <th>Category Name</th>\n",
       "      <th>Customer City</th>\n",
       "      <th>Customer Country</th>\n",
       "      <th>Customer Id</th>\n",
       "      <th>Customer Segment</th>\n",
       "      <th>Customer State</th>\n",
       "      <th>Customer Street</th>\n",
       "      <th>Customer Zipcode</th>\n",
       "      <th>Department Id</th>\n",
       "      <th>Department Name</th>\n",
       "      <th>Latitude</th>\n",
       "      <th>Longitude</th>\n",
       "      <th>Market</th>\n",
       "      <th>Order City</th>\n",
       "      <th>Order Country</th>\n",
       "      <th>Order Id</th>\n",
       "      <th>Order Item Discount</th>\n",
       "      <th>Order Item Discount Rate</th>\n",
       "      <th>Order Item Id</th>\n",
       "      <th>Order Item Profit Ratio</th>\n",
       "      <th>Order Item Quantity</th>\n",
       "      <th>Sales</th>\n",
       "      <th>Order Item Total</th>\n",
       "      <th>Order Region</th>\n",
       "      <th>Order State</th>\n",
       "      <th>Order Status</th>\n",
       "      <th>Product Card Id</th>\n",
       "      <th>Product Price</th>\n",
       "      <th>Shipping Mode</th>\n",
       "      <th>order_year</th>\n",
       "      <th>order_month</th>\n",
       "      <th>order_day</th>\n",
       "    </tr>\n",
       "  </thead>\n",
       "  <tbody>\n",
       "    <tr>\n",
       "      <th>35704</th>\n",
       "      <td>DEBIT</td>\n",
       "      <td>2</td>\n",
       "      <td>1</td>\n",
       "      <td>66.379997</td>\n",
       "      <td>1</td>\n",
       "      <td>65</td>\n",
       "      <td>Consumer Electronics</td>\n",
       "      <td>Elk Grove</td>\n",
       "      <td>EE. UU.</td>\n",
       "      <td>14577</td>\n",
       "      <td>Consumer</td>\n",
       "      <td>CA</td>\n",
       "      <td>Elk Grove</td>\n",
       "      <td>95758.0</td>\n",
       "      <td>10</td>\n",
       "      <td>Technology</td>\n",
       "      <td>39.134159</td>\n",
       "      <td>-123.718552</td>\n",
       "      <td>Europe</td>\n",
       "      <td>Valence</td>\n",
       "      <td>Francia</td>\n",
       "      <td>71024</td>\n",
       "      <td>63.220001</td>\n",
       "      <td>0.25</td>\n",
       "      <td>174339</td>\n",
       "      <td>0.35</td>\n",
       "      <td>1</td>\n",
       "      <td>252.880005</td>\n",
       "      <td>189.660004</td>\n",
       "      <td>Western Europe</td>\n",
       "      <td>Auvernia-Ródano-Alpes</td>\n",
       "      <td>COMPLETE</td>\n",
       "      <td>1352</td>\n",
       "      <td>252.880005</td>\n",
       "      <td>First Class</td>\n",
       "      <td>2017</td>\n",
       "      <td>11</td>\n",
       "      <td>2</td>\n",
       "    </tr>\n",
       "    <tr>\n",
       "      <th>46440</th>\n",
       "      <td>PAYMENT</td>\n",
       "      <td>4</td>\n",
       "      <td>4</td>\n",
       "      <td>10.910000</td>\n",
       "      <td>0</td>\n",
       "      <td>75</td>\n",
       "      <td>Video Games</td>\n",
       "      <td>Elk Grove</td>\n",
       "      <td>EE. UU.</td>\n",
       "      <td>17171</td>\n",
       "      <td>Corporate</td>\n",
       "      <td>CA</td>\n",
       "      <td>Elk Grove</td>\n",
       "      <td>95758.0</td>\n",
       "      <td>9</td>\n",
       "      <td>Discs Shop</td>\n",
       "      <td>38.408573</td>\n",
       "      <td>-121.449112</td>\n",
       "      <td>Pacific Asia</td>\n",
       "      <td>Manila</td>\n",
       "      <td>Filipinas</td>\n",
       "      <td>73618</td>\n",
       "      <td>0.800000</td>\n",
       "      <td>0.02</td>\n",
       "      <td>176933</td>\n",
       "      <td>0.28</td>\n",
       "      <td>1</td>\n",
       "      <td>39.750000</td>\n",
       "      <td>38.959999</td>\n",
       "      <td>Southeast Asia</td>\n",
       "      <td>Capital Nacional</td>\n",
       "      <td>PENDING_PAYMENT</td>\n",
       "      <td>1362</td>\n",
       "      <td>39.750000</td>\n",
       "      <td>Standard Class</td>\n",
       "      <td>2017</td>\n",
       "      <td>12</td>\n",
       "      <td>10</td>\n",
       "    </tr>\n",
       "    <tr>\n",
       "      <th>82511</th>\n",
       "      <td>DEBIT</td>\n",
       "      <td>4</td>\n",
       "      <td>4</td>\n",
       "      <td>59.990002</td>\n",
       "      <td>0</td>\n",
       "      <td>63</td>\n",
       "      <td>Children's Clothing</td>\n",
       "      <td>El Monte</td>\n",
       "      <td>EE. UU.</td>\n",
       "      <td>14046</td>\n",
       "      <td>Consumer</td>\n",
       "      <td>CA</td>\n",
       "      <td>El Monte</td>\n",
       "      <td>91732.0</td>\n",
       "      <td>4</td>\n",
       "      <td>Apparel</td>\n",
       "      <td>34.071892</td>\n",
       "      <td>-118.013886</td>\n",
       "      <td>Europe</td>\n",
       "      <td>Sheffield</td>\n",
       "      <td>Reino Unido</td>\n",
       "      <td>70493</td>\n",
       "      <td>57.139999</td>\n",
       "      <td>0.16</td>\n",
       "      <td>173808</td>\n",
       "      <td>0.20</td>\n",
       "      <td>1</td>\n",
       "      <td>357.100006</td>\n",
       "      <td>299.959992</td>\n",
       "      <td>Northern Europe</td>\n",
       "      <td>Inglaterra</td>\n",
       "      <td>COMPLETE</td>\n",
       "      <td>1350</td>\n",
       "      <td>357.100006</td>\n",
       "      <td>Standard Class</td>\n",
       "      <td>2017</td>\n",
       "      <td>10</td>\n",
       "      <td>26</td>\n",
       "    </tr>\n",
       "  </tbody>\n",
       "</table>\n",
       "</div>"
      ],
      "text/plain": [
       "          Type  Days for shipping (real)  Days for shipment (scheduled)  \\\n",
       "35704    DEBIT                         2                              1   \n",
       "46440  PAYMENT                         4                              4   \n",
       "82511    DEBIT                         4                              4   \n",
       "\n",
       "       Benefit per order  Late_delivery_risk  Category Id  \\\n",
       "35704          66.379997                   1           65   \n",
       "46440          10.910000                   0           75   \n",
       "82511          59.990002                   0           63   \n",
       "\n",
       "              Category Name Customer City Customer Country  Customer Id  \\\n",
       "35704  Consumer Electronics     Elk Grove          EE. UU.        14577   \n",
       "46440           Video Games     Elk Grove          EE. UU.        17171   \n",
       "82511   Children's Clothing      El Monte          EE. UU.        14046   \n",
       "\n",
       "      Customer Segment Customer State Customer Street  Customer Zipcode  \\\n",
       "35704         Consumer             CA       Elk Grove           95758.0   \n",
       "46440        Corporate             CA       Elk Grove           95758.0   \n",
       "82511         Consumer             CA        El Monte           91732.0   \n",
       "\n",
       "       Department Id Department Name   Latitude   Longitude        Market  \\\n",
       "35704             10      Technology  39.134159 -123.718552        Europe   \n",
       "46440              9      Discs Shop  38.408573 -121.449112  Pacific Asia   \n",
       "82511              4         Apparel  34.071892 -118.013886        Europe   \n",
       "\n",
       "      Order City Order Country  Order Id  Order Item Discount  \\\n",
       "35704    Valence       Francia     71024            63.220001   \n",
       "46440     Manila     Filipinas     73618             0.800000   \n",
       "82511  Sheffield   Reino Unido     70493            57.139999   \n",
       "\n",
       "       Order Item Discount Rate  Order Item Id  Order Item Profit Ratio  \\\n",
       "35704                      0.25         174339                     0.35   \n",
       "46440                      0.02         176933                     0.28   \n",
       "82511                      0.16         173808                     0.20   \n",
       "\n",
       "       Order Item Quantity       Sales  Order Item Total     Order Region  \\\n",
       "35704                    1  252.880005        189.660004   Western Europe   \n",
       "46440                    1   39.750000         38.959999   Southeast Asia   \n",
       "82511                    1  357.100006        299.959992  Northern Europe   \n",
       "\n",
       "                 Order State     Order Status  Product Card Id  Product Price  \\\n",
       "35704  Auvernia-Ródano-Alpes         COMPLETE             1352     252.880005   \n",
       "46440       Capital Nacional  PENDING_PAYMENT             1362      39.750000   \n",
       "82511             Inglaterra         COMPLETE             1350     357.100006   \n",
       "\n",
       "        Shipping Mode  order_year  order_month  order_day  \n",
       "35704     First Class        2017           11          2  \n",
       "46440  Standard Class        2017           12         10  \n",
       "82511  Standard Class        2017           10         26  "
      ]
     },
     "execution_count": 18,
     "metadata": {},
     "output_type": "execute_result"
    }
   ],
   "source": [
    "df.iloc[cust_zip.index]"
   ]
  },
  {
   "cell_type": "markdown",
   "id": "6c430478",
   "metadata": {},
   "source": [
    "### 2.6 Label Encoding Categorical Variables"
   ]
  },
  {
   "cell_type": "code",
   "execution_count": 19,
   "id": "62ac625b",
   "metadata": {},
   "outputs": [],
   "source": [
    "lbl=LabelEncoder()\n",
    "\n",
    "for i in category:\n",
    "    df[i] = lbl.fit_transform(df[i])\n",
    "   "
   ]
  },
  {
   "cell_type": "code",
   "execution_count": 20,
   "id": "b638fe52",
   "metadata": {},
   "outputs": [],
   "source": [
    "unwanted_cols =   ['Customer Id','Order Item Id','Product Card Id', 'Days for shipment (scheduled)','Days for shipping (real)', \n",
    "                   'Customer Street','Order Id','Longitude','Latitude']\n",
    "df.drop(unwanted_cols,axis=1,inplace=True)"
   ]
  },
  {
   "cell_type": "code",
   "execution_count": 21,
   "id": "331a7cbc",
   "metadata": {},
   "outputs": [
    {
     "data": {
      "text/plain": [
       "(180519, 29)"
      ]
     },
     "execution_count": 21,
     "metadata": {},
     "output_type": "execute_result"
    }
   ],
   "source": [
    "df.shape"
   ]
  },
  {
   "cell_type": "code",
   "execution_count": 22,
   "id": "12bbb420",
   "metadata": {},
   "outputs": [
    {
     "name": "stdout",
     "output_type": "stream",
     "text": [
      "Index(['Type', 'Benefit per order', 'Category Id', 'Category Name',\n",
      "       'Customer City', 'Customer Country', 'Customer Segment',\n",
      "       'Customer State', 'Customer Zipcode', 'Department Id',\n",
      "       'Department Name', 'Market', 'Order City', 'Order Country',\n",
      "       'Order Item Discount', 'Order Item Discount Rate',\n",
      "       'Order Item Profit Ratio', 'Order Item Quantity', 'Sales',\n",
      "       'Order Item Total', 'Order Region', 'Order State', 'Order Status',\n",
      "       'Product Price', 'Shipping Mode', 'order_year', 'order_month',\n",
      "       'order_day'],\n",
      "      dtype='object')\n"
     ]
    }
   ],
   "source": [
    "feature_names  =  df.columns.drop('Late_delivery_risk')\n",
    "print(feature_names)"
   ]
  },
  {
   "cell_type": "markdown",
   "id": "88770147",
   "metadata": {},
   "source": [
    "### 2.7 Train Test Split"
   ]
  },
  {
   "cell_type": "code",
   "execution_count": 23,
   "id": "d0787f9c",
   "metadata": {},
   "outputs": [
    {
     "name": "stdout",
     "output_type": "stream",
     "text": [
      "X_train (144415, 28)\n",
      "y_train (144415,)\n",
      "X_test (36104, 28)\n",
      "y_test (36104,)\n"
     ]
    }
   ],
   "source": [
    "X = df.drop('Late_delivery_risk',axis=1)\n",
    "y = df['Late_delivery_risk']\n",
    "\n",
    "X_train, X_test, y_train, y_test = train_test_split(X, y, random_state= 10, test_size = 0.2)\n",
    "\n",
    "print('X_train', X_train.shape)\n",
    "print('y_train', y_train.shape)\n",
    "\n",
    "print('X_test', X_test.shape)\n",
    "print('y_test', y_test.shape)"
   ]
  },
  {
   "cell_type": "markdown",
   "id": "5b355dc0",
   "metadata": {},
   "source": [
    "#### Create a generalized function to calculate the metrics for the train and the test set."
   ]
  },
  {
   "cell_type": "code",
   "execution_count": 24,
   "id": "02d01c34",
   "metadata": {},
   "outputs": [],
   "source": [
    "def get_train_report(model):\n",
    "    train_pred = model.predict(X_train)\n",
    "    return(classification_report(y_train, train_pred))"
   ]
  },
  {
   "cell_type": "code",
   "execution_count": 25,
   "id": "855cf0c8",
   "metadata": {},
   "outputs": [],
   "source": [
    "def get_test_report(model):\n",
    "    test_pred = model.predict(X_test)\n",
    "    return(classification_report(y_test, test_pred))"
   ]
  },
  {
   "cell_type": "code",
   "execution_count": 26,
   "id": "9934e7d1",
   "metadata": {},
   "outputs": [],
   "source": [
    "def roc_auc_train(model):\n",
    "    train_pred = model.predict(X_train)\n",
    "    return(roc_auc_score(y_train, train_pred))"
   ]
  },
  {
   "cell_type": "code",
   "execution_count": 27,
   "id": "fe34fd45",
   "metadata": {},
   "outputs": [],
   "source": [
    "def roc_auc_test(model):\n",
    "    test_pred = model.predict(X_test)\n",
    "    return(roc_auc_score(y_test, test_pred))"
   ]
  },
  {
   "cell_type": "code",
   "execution_count": 28,
   "id": "91941864",
   "metadata": {},
   "outputs": [],
   "source": [
    "decision_tree_classification = DecisionTreeClassifier(criterion = 'entropy', random_state = 10)"
   ]
  },
  {
   "cell_type": "code",
   "execution_count": 29,
   "id": "ff152062",
   "metadata": {},
   "outputs": [
    {
     "name": "stdout",
     "output_type": "stream",
     "text": [
      "CPU times: total: 11.6 s\n",
      "Wall time: 12 s\n"
     ]
    }
   ],
   "source": [
    "%%time\n",
    "decision_tree = decision_tree_classification.fit(X_train, y_train)"
   ]
  },
  {
   "cell_type": "code",
   "execution_count": 30,
   "id": "3f4eb59e",
   "metadata": {},
   "outputs": [
    {
     "name": "stdout",
     "output_type": "stream",
     "text": [
      "              precision    recall  f1-score   support\n",
      "\n",
      "           0       1.00      1.00      1.00     65382\n",
      "           1       1.00      1.00      1.00     79033\n",
      "\n",
      "    accuracy                           1.00    144415\n",
      "   macro avg       1.00      1.00      1.00    144415\n",
      "weighted avg       1.00      1.00      1.00    144415\n",
      "\n"
     ]
    }
   ],
   "source": [
    "train_report = get_train_report(decision_tree)\n",
    "\n",
    "print(train_report)"
   ]
  },
  {
   "cell_type": "code",
   "execution_count": 31,
   "id": "93beb3ec",
   "metadata": {},
   "outputs": [
    {
     "name": "stdout",
     "output_type": "stream",
     "text": [
      "              precision    recall  f1-score   support\n",
      "\n",
      "           0       0.82      0.82      0.82     16160\n",
      "           1       0.86      0.85      0.85     19944\n",
      "\n",
      "    accuracy                           0.84     36104\n",
      "   macro avg       0.84      0.84      0.84     36104\n",
      "weighted avg       0.84      0.84      0.84     36104\n",
      "\n"
     ]
    }
   ],
   "source": [
    "test_report = get_test_report(decision_tree)\n",
    "\n",
    "print(test_report)"
   ]
  },
  {
   "cell_type": "code",
   "execution_count": 32,
   "id": "b41e9adf",
   "metadata": {},
   "outputs": [],
   "source": [
    "rf = RandomForestClassifier(criterion='entropy', random_state=10)"
   ]
  },
  {
   "cell_type": "code",
   "execution_count": 33,
   "id": "f0e26cb6",
   "metadata": {},
   "outputs": [
    {
     "name": "stdout",
     "output_type": "stream",
     "text": [
      "CPU times: total: 2min 59s\n",
      "Wall time: 3min 12s\n"
     ]
    }
   ],
   "source": [
    "%%time\n",
    "random_forest = rf.fit(X_train, y_train)"
   ]
  },
  {
   "cell_type": "code",
   "execution_count": 34,
   "id": "aaa82b67",
   "metadata": {},
   "outputs": [
    {
     "name": "stdout",
     "output_type": "stream",
     "text": [
      "              precision    recall  f1-score   support\n",
      "\n",
      "           0       1.00      1.00      1.00     65382\n",
      "           1       1.00      1.00      1.00     79033\n",
      "\n",
      "    accuracy                           1.00    144415\n",
      "   macro avg       1.00      1.00      1.00    144415\n",
      "weighted avg       1.00      1.00      1.00    144415\n",
      "\n"
     ]
    }
   ],
   "source": [
    "train_report_rf = get_train_report(random_forest)\n",
    "\n",
    "print(train_report_rf)"
   ]
  },
  {
   "cell_type": "code",
   "execution_count": 35,
   "id": "5b3b32e2",
   "metadata": {},
   "outputs": [
    {
     "name": "stdout",
     "output_type": "stream",
     "text": [
      "              precision    recall  f1-score   support\n",
      "\n",
      "           0       0.72      0.88      0.79     16160\n",
      "           1       0.88      0.73      0.80     19944\n",
      "\n",
      "    accuracy                           0.80     36104\n",
      "   macro avg       0.80      0.80      0.80     36104\n",
      "weighted avg       0.81      0.80      0.80     36104\n",
      "\n"
     ]
    }
   ],
   "source": [
    "test_report_rf = get_test_report(random_forest)\n",
    "\n",
    "print(test_report_rf)"
   ]
  },
  {
   "cell_type": "code",
   "execution_count": 36,
   "id": "1976fa4f",
   "metadata": {},
   "outputs": [
    {
     "data": {
      "text/plain": [
       "{'ccp_alpha': 0.0,\n",
       " 'class_weight': None,\n",
       " 'criterion': 'entropy',\n",
       " 'max_depth': None,\n",
       " 'max_features': None,\n",
       " 'max_leaf_nodes': None,\n",
       " 'min_impurity_decrease': 0.0,\n",
       " 'min_samples_leaf': 1,\n",
       " 'min_samples_split': 2,\n",
       " 'min_weight_fraction_leaf': 0.0,\n",
       " 'random_state': 10,\n",
       " 'splitter': 'best'}"
      ]
     },
     "execution_count": 36,
     "metadata": {},
     "output_type": "execute_result"
    }
   ],
   "source": [
    "decision_tree.get_params()"
   ]
  },
  {
   "cell_type": "code",
   "execution_count": 37,
   "id": "c020ff36",
   "metadata": {},
   "outputs": [],
   "source": [
    "from scipy.stats import randint as sp_randint"
   ]
  },
  {
   "cell_type": "raw",
   "id": "f4004dc1",
   "metadata": {},
   "source": [
    "params = {'max_depth':[2,3,4,5,6], 'min_samples_leaf':[0.001, 0.01, 0.1, 1, 5, 10, 20], 'criterion':['gini', 'entropy']}"
   ]
  },
  {
   "cell_type": "raw",
   "id": "1ed87f85",
   "metadata": {},
   "source": [
    "gsearch_dt = GridSearchCV(estimator=decision_tree, param_grid=params, scoring='roc_auc', cv=5, return_train_score=True)"
   ]
  },
  {
   "cell_type": "raw",
   "id": "4cc879ee",
   "metadata": {},
   "source": [
    "%%time\n",
    "gsearch_dt.fit(X_train, y_train)"
   ]
  },
  {
   "cell_type": "raw",
   "id": "39fba2b8",
   "metadata": {},
   "source": [
    "gsearch_dt.best_params_"
   ]
  },
  {
   "cell_type": "raw",
   "id": "64c5aae0",
   "metadata": {},
   "source": [
    "dtc = DecisionTreeClassifier(**gsearch_dt.best_params_)\n",
    "\n",
    "dt_grid_search = dtc.fit(X_train, y_train)"
   ]
  },
  {
   "cell_type": "raw",
   "id": "f64cc6da",
   "metadata": {},
   "source": [
    "train_report_dt_grid_search = get_train_report(dt_grid_search)\n",
    "\n",
    "print(train_report_dt_grid_search)"
   ]
  },
  {
   "cell_type": "raw",
   "id": "37232e1d",
   "metadata": {},
   "source": [
    "test_report_dt_grid_search = get_test_report(dt_grid_search)\n",
    "\n",
    "print(test_report_dt_grid_search)"
   ]
  },
  {
   "cell_type": "raw",
   "id": "66e450fd",
   "metadata": {},
   "source": [
    "roc_auc_train(dt_grid_search)"
   ]
  },
  {
   "cell_type": "raw",
   "id": "69c82ed5",
   "metadata": {},
   "source": [
    "roc_auc_test(dt_grid_search)"
   ]
  },
  {
   "cell_type": "raw",
   "id": "51c90187",
   "metadata": {},
   "source": [
    "from sklearn.model_selection import RandomizedSearchCV"
   ]
  },
  {
   "cell_type": "raw",
   "id": "6225621d",
   "metadata": {},
   "source": [
    "rf.get_params()"
   ]
  },
  {
   "cell_type": "raw",
   "id": "4e33784a",
   "metadata": {},
   "source": [
    "params = {'max_depth':[2,3,4,5,6], 'min_samples_leaf':[0.001, 0.01, 0.1, 1, 5, 10, 20], 'criterion':['gini', 'entropy'],\n",
    "          'n_estimators':[5,10,20,30,40,50,100], 'max_features':[1,2,3,4,5,6,7,8,9,10,11,12,13,14,15]}"
   ]
  },
  {
   "cell_type": "raw",
   "id": "defde352",
   "metadata": {},
   "source": [
    "gsearch_rf = GridSearchCV(estimator=rf, param_grid=params, scoring='roc_auc', cv=5, return_train_score=True)"
   ]
  },
  {
   "cell_type": "raw",
   "id": "e774f2dd",
   "metadata": {},
   "source": [
    "%%time\n",
    "gsearch_rf.fit(X_train, y_train)"
   ]
  },
  {
   "cell_type": "raw",
   "id": "897acfef",
   "metadata": {},
   "source": [
    "gsearch_rf.best_params_"
   ]
  },
  {
   "cell_type": "raw",
   "id": "d0a635f3",
   "metadata": {},
   "source": [
    "rfc_gsearch = RandomForestClassifier(**gsearch.best_params_)\n",
    "\n",
    "rfc_gsearch.fit(X_train, y_train)"
   ]
  },
  {
   "cell_type": "code",
   "execution_count": 38,
   "id": "41caefd3",
   "metadata": {},
   "outputs": [],
   "source": [
    "from sklearn.ensemble import AdaBoostClassifier, GradientBoostingClassifier\n",
    "from xgboost import XGBClassifier"
   ]
  },
  {
   "cell_type": "markdown",
   "id": "a43d52f6",
   "metadata": {},
   "source": [
    "## ADA BOOST on DT"
   ]
  },
  {
   "cell_type": "code",
   "execution_count": 41,
   "id": "57b1f1fa",
   "metadata": {},
   "outputs": [],
   "source": [
    "ada_dt = AdaBoostClassifier(base_estimator=decision_tree, n_estimators=40, random_state=10)"
   ]
  },
  {
   "cell_type": "code",
   "execution_count": 42,
   "id": "81d63ce5",
   "metadata": {},
   "outputs": [
    {
     "name": "stdout",
     "output_type": "stream",
     "text": [
      "CPU times: total: 8.95 s\n",
      "Wall time: 9.03 s\n"
     ]
    },
    {
     "data": {
      "text/plain": [
       "AdaBoostClassifier(base_estimator=DecisionTreeClassifier(criterion='entropy',\n",
       "                                                         random_state=10),\n",
       "                   n_estimators=40, random_state=10)"
      ]
     },
     "execution_count": 42,
     "metadata": {},
     "output_type": "execute_result"
    }
   ],
   "source": [
    "%%time\n",
    "ada_dt.fit(X_train, y_train)"
   ]
  },
  {
   "cell_type": "code",
   "execution_count": 44,
   "id": "b3487f01",
   "metadata": {},
   "outputs": [
    {
     "name": "stdout",
     "output_type": "stream",
     "text": [
      "              precision    recall  f1-score   support\n",
      "\n",
      "           0       1.00      1.00      1.00     65382\n",
      "           1       1.00      1.00      1.00     79033\n",
      "\n",
      "    accuracy                           1.00    144415\n",
      "   macro avg       1.00      1.00      1.00    144415\n",
      "weighted avg       1.00      1.00      1.00    144415\n",
      "\n"
     ]
    }
   ],
   "source": [
    "ada_dt_train_rep = get_train_report(ada_dt)\n",
    "print(ada_dt_train_rep)"
   ]
  },
  {
   "cell_type": "code",
   "execution_count": 45,
   "id": "ab48131a",
   "metadata": {},
   "outputs": [
    {
     "name": "stdout",
     "output_type": "stream",
     "text": [
      "              precision    recall  f1-score   support\n",
      "\n",
      "           0       0.82      0.83      0.82     16160\n",
      "           1       0.86      0.85      0.86     19944\n",
      "\n",
      "    accuracy                           0.84     36104\n",
      "   macro avg       0.84      0.84      0.84     36104\n",
      "weighted avg       0.84      0.84      0.84     36104\n",
      "\n"
     ]
    }
   ],
   "source": [
    "ada_dt_test_rep = get_test_report(ada_dt)\n",
    "print(ada_dt_test_rep)"
   ]
  },
  {
   "cell_type": "code",
   "execution_count": 46,
   "id": "d8b19e83",
   "metadata": {},
   "outputs": [
    {
     "data": {
      "text/plain": [
       "1.0"
      ]
     },
     "execution_count": 46,
     "metadata": {},
     "output_type": "execute_result"
    }
   ],
   "source": [
    "roc_auc_train(ada_dt)"
   ]
  },
  {
   "cell_type": "code",
   "execution_count": 47,
   "id": "01542efb",
   "metadata": {},
   "outputs": [
    {
     "data": {
      "text/plain": [
       "0.8395633392310349"
      ]
     },
     "execution_count": 47,
     "metadata": {},
     "output_type": "execute_result"
    }
   ],
   "source": [
    "roc_auc_test(ada_dt)"
   ]
  },
  {
   "cell_type": "markdown",
   "id": "4be680d1",
   "metadata": {},
   "source": [
    "## ADA BOOST on RF"
   ]
  },
  {
   "cell_type": "code",
   "execution_count": 48,
   "id": "4453287f",
   "metadata": {},
   "outputs": [],
   "source": [
    "ada_rf = AdaBoostClassifier(base_estimator=rf, n_estimators=40, random_state=10)"
   ]
  },
  {
   "cell_type": "code",
   "execution_count": 49,
   "id": "a46cfcc9",
   "metadata": {},
   "outputs": [
    {
     "name": "stdout",
     "output_type": "stream",
     "text": [
      "CPU times: total: 1min 41s\n",
      "Wall time: 1min 48s\n"
     ]
    },
    {
     "data": {
      "text/plain": [
       "AdaBoostClassifier(base_estimator=RandomForestClassifier(criterion='entropy',\n",
       "                                                         random_state=10),\n",
       "                   n_estimators=40, random_state=10)"
      ]
     },
     "execution_count": 49,
     "metadata": {},
     "output_type": "execute_result"
    }
   ],
   "source": [
    "%%time\n",
    "ada_rf.fit(X_train, y_train)"
   ]
  },
  {
   "cell_type": "code",
   "execution_count": 50,
   "id": "4e6ae6d0",
   "metadata": {},
   "outputs": [
    {
     "name": "stdout",
     "output_type": "stream",
     "text": [
      "              precision    recall  f1-score   support\n",
      "\n",
      "           0       1.00      1.00      1.00     65382\n",
      "           1       1.00      1.00      1.00     79033\n",
      "\n",
      "    accuracy                           1.00    144415\n",
      "   macro avg       1.00      1.00      1.00    144415\n",
      "weighted avg       1.00      1.00      1.00    144415\n",
      "\n"
     ]
    }
   ],
   "source": [
    "ada_rf_train_rep = get_train_report(ada_rf)\n",
    "print(ada_rf_train_rep)"
   ]
  },
  {
   "cell_type": "code",
   "execution_count": 51,
   "id": "5aaf5823",
   "metadata": {},
   "outputs": [
    {
     "name": "stdout",
     "output_type": "stream",
     "text": [
      "              precision    recall  f1-score   support\n",
      "\n",
      "           0       0.72      0.88      0.79     16160\n",
      "           1       0.88      0.72      0.79     19944\n",
      "\n",
      "    accuracy                           0.79     36104\n",
      "   macro avg       0.80      0.80      0.79     36104\n",
      "weighted avg       0.81      0.79      0.79     36104\n",
      "\n"
     ]
    }
   ],
   "source": [
    "ada_rf_test_rep = get_test_report(ada_rf)\n",
    "print(ada_rf_test_rep)"
   ]
  },
  {
   "cell_type": "code",
   "execution_count": 52,
   "id": "650d32d1",
   "metadata": {},
   "outputs": [
    {
     "data": {
      "text/plain": [
       "1.0"
      ]
     },
     "execution_count": 52,
     "metadata": {},
     "output_type": "execute_result"
    }
   ],
   "source": [
    "roc_auc_train(ada_rf)"
   ]
  },
  {
   "cell_type": "code",
   "execution_count": 53,
   "id": "ac28ebe3",
   "metadata": {},
   "outputs": [
    {
     "data": {
      "text/plain": [
       "0.8008650086579054"
      ]
     },
     "execution_count": 53,
     "metadata": {},
     "output_type": "execute_result"
    }
   ],
   "source": [
    "roc_auc_test(ada_rf)"
   ]
  },
  {
   "cell_type": "markdown",
   "id": "b4ffbe98",
   "metadata": {},
   "source": [
    "## Gradient Boost"
   ]
  },
  {
   "cell_type": "code",
   "execution_count": 54,
   "id": "85e759bd",
   "metadata": {},
   "outputs": [],
   "source": [
    "gboost_model = GradientBoostingClassifier(n_estimators = 150, random_state = 10)"
   ]
  },
  {
   "cell_type": "code",
   "execution_count": 55,
   "id": "fda6c756",
   "metadata": {},
   "outputs": [
    {
     "name": "stdout",
     "output_type": "stream",
     "text": [
      "CPU times: total: 2min 10s\n",
      "Wall time: 2min 25s\n"
     ]
    },
    {
     "data": {
      "text/plain": [
       "GradientBoostingClassifier(n_estimators=150, random_state=10)"
      ]
     },
     "execution_count": 55,
     "metadata": {},
     "output_type": "execute_result"
    }
   ],
   "source": [
    "%%time\n",
    "gboost_model.fit(X_train, y_train)"
   ]
  },
  {
   "cell_type": "code",
   "execution_count": 56,
   "id": "81d89543",
   "metadata": {},
   "outputs": [
    {
     "name": "stdout",
     "output_type": "stream",
     "text": [
      "              precision    recall  f1-score   support\n",
      "\n",
      "           0       0.63      0.89      0.74     65382\n",
      "           1       0.87      0.57      0.69     79033\n",
      "\n",
      "    accuracy                           0.72    144415\n",
      "   macro avg       0.75      0.73      0.71    144415\n",
      "weighted avg       0.76      0.72      0.71    144415\n",
      "\n"
     ]
    }
   ],
   "source": [
    "gboost_train_rep = get_train_report(gboost_model)\n",
    "print(gboost_train_rep)"
   ]
  },
  {
   "cell_type": "code",
   "execution_count": 57,
   "id": "50f49485",
   "metadata": {},
   "outputs": [
    {
     "name": "stdout",
     "output_type": "stream",
     "text": [
      "              precision    recall  f1-score   support\n",
      "\n",
      "           0       0.62      0.89      0.73     16160\n",
      "           1       0.87      0.56      0.68     19944\n",
      "\n",
      "    accuracy                           0.71     36104\n",
      "   macro avg       0.75      0.73      0.71     36104\n",
      "weighted avg       0.76      0.71      0.71     36104\n",
      "\n"
     ]
    }
   ],
   "source": [
    "gboost_test_rep = get_test_report(gboost_model)\n",
    "print(gboost_test_rep)"
   ]
  },
  {
   "cell_type": "code",
   "execution_count": 58,
   "id": "1e5be309",
   "metadata": {},
   "outputs": [
    {
     "data": {
      "text/plain": [
       "0.7315862347145563"
      ]
     },
     "execution_count": 58,
     "metadata": {},
     "output_type": "execute_result"
    }
   ],
   "source": [
    "roc_auc_train(gboost_model)"
   ]
  },
  {
   "cell_type": "code",
   "execution_count": 59,
   "id": "3aafbc74",
   "metadata": {},
   "outputs": [
    {
     "data": {
      "text/plain": [
       "0.7286452934553385"
      ]
     },
     "execution_count": 59,
     "metadata": {},
     "output_type": "execute_result"
    }
   ],
   "source": [
    "roc_auc_test(gboost_model)"
   ]
  },
  {
   "cell_type": "markdown",
   "id": "a9afbd03",
   "metadata": {},
   "source": [
    "## XGBoost"
   ]
  },
  {
   "cell_type": "code",
   "execution_count": 60,
   "id": "93ca0033",
   "metadata": {},
   "outputs": [],
   "source": [
    "xgb_model = XGBClassifier(max_depth = 10, gamma = 1)"
   ]
  },
  {
   "cell_type": "code",
   "execution_count": 61,
   "id": "6cc34731",
   "metadata": {},
   "outputs": [
    {
     "name": "stdout",
     "output_type": "stream",
     "text": [
      "CPU times: total: 1min 57s\n",
      "Wall time: 46.1 s\n"
     ]
    },
    {
     "data": {
      "text/plain": [
       "XGBClassifier(base_score=0.5, booster='gbtree', callbacks=None,\n",
       "              colsample_bylevel=1, colsample_bynode=1, colsample_bytree=1,\n",
       "              early_stopping_rounds=None, enable_categorical=False,\n",
       "              eval_metric=None, gamma=1, gpu_id=-1, grow_policy='depthwise',\n",
       "              importance_type=None, interaction_constraints='',\n",
       "              learning_rate=0.300000012, max_bin=256, max_cat_to_onehot=4,\n",
       "              max_delta_step=0, max_depth=10, max_leaves=0, min_child_weight=1,\n",
       "              missing=nan, monotone_constraints='()', n_estimators=100,\n",
       "              n_jobs=0, num_parallel_tree=1, predictor='auto', random_state=0,\n",
       "              reg_alpha=0, reg_lambda=1, ...)"
      ]
     },
     "execution_count": 61,
     "metadata": {},
     "output_type": "execute_result"
    }
   ],
   "source": [
    "%%time\n",
    "xgb_model.fit(X_train, y_train)"
   ]
  },
  {
   "cell_type": "code",
   "execution_count": 62,
   "id": "8e83783b",
   "metadata": {},
   "outputs": [
    {
     "name": "stdout",
     "output_type": "stream",
     "text": [
      "              precision    recall  f1-score   support\n",
      "\n",
      "           0       0.86      0.94      0.90     65382\n",
      "           1       0.95      0.87      0.91     79033\n",
      "\n",
      "    accuracy                           0.90    144415\n",
      "   macro avg       0.90      0.91      0.90    144415\n",
      "weighted avg       0.91      0.90      0.90    144415\n",
      "\n"
     ]
    }
   ],
   "source": [
    "xgb_train_rep = get_train_report(xgb_model)\n",
    "print(xgb_train_rep)"
   ]
  },
  {
   "cell_type": "code",
   "execution_count": 63,
   "id": "7db8f831",
   "metadata": {},
   "outputs": [
    {
     "name": "stdout",
     "output_type": "stream",
     "text": [
      "              precision    recall  f1-score   support\n",
      "\n",
      "           0       0.75      0.86      0.80     16160\n",
      "           1       0.87      0.77      0.82     19944\n",
      "\n",
      "    accuracy                           0.81     36104\n",
      "   macro avg       0.81      0.82      0.81     36104\n",
      "weighted avg       0.82      0.81      0.81     36104\n",
      "\n"
     ]
    }
   ],
   "source": [
    "xgb_test_rep = get_test_report(xgb_model)\n",
    "print(xgb_test_rep)"
   ]
  },
  {
   "cell_type": "code",
   "execution_count": 64,
   "id": "366a5247",
   "metadata": {},
   "outputs": [
    {
     "data": {
      "text/plain": [
       "0.9072398889780956"
      ]
     },
     "execution_count": 64,
     "metadata": {},
     "output_type": "execute_result"
    }
   ],
   "source": [
    "roc_auc_train(xgb_model)"
   ]
  },
  {
   "cell_type": "code",
   "execution_count": 65,
   "id": "6df250d5",
   "metadata": {},
   "outputs": [
    {
     "data": {
      "text/plain": [
       "0.8160399489858734"
      ]
     },
     "execution_count": 65,
     "metadata": {},
     "output_type": "execute_result"
    }
   ],
   "source": [
    "roc_auc_test(xgb_model)"
   ]
  },
  {
   "cell_type": "markdown",
   "id": "7f9c10a1",
   "metadata": {},
   "source": [
    "## Grid Search on XGBoost"
   ]
  },
  {
   "cell_type": "code",
   "execution_count": 66,
   "id": "ea4a48ee",
   "metadata": {},
   "outputs": [],
   "source": [
    "tuning_parameters = {'learning_rate': [0.1, 0.2, 0.3, 0.4, 0.5, 0.6],\n",
    "                     'max_depth': range(3,10),\n",
    "                     'gamma': [0, 1, 2, 3, 4]}"
   ]
  },
  {
   "cell_type": "code",
   "execution_count": 67,
   "id": "0755cdd7",
   "metadata": {},
   "outputs": [],
   "source": [
    "xgb_model = XGBClassifier()"
   ]
  },
  {
   "cell_type": "code",
   "execution_count": 68,
   "id": "92f2e7ef",
   "metadata": {},
   "outputs": [],
   "source": [
    "xgb_gsearch = GridSearchCV(estimator = xgb_model, param_grid = tuning_parameters, cv = 5, scoring = 'roc_auc')"
   ]
  },
  {
   "cell_type": "code",
   "execution_count": 73,
   "id": "a014bf67",
   "metadata": {},
   "outputs": [
    {
     "name": "stdout",
     "output_type": "stream",
     "text": [
      "CPU times: total: 16h 35min 47s\n",
      "Wall time: 5h 20min 7s\n"
     ]
    },
    {
     "data": {
      "text/plain": [
       "GridSearchCV(cv=5,\n",
       "             estimator=XGBClassifier(base_score=None, booster=None,\n",
       "                                     callbacks=None, colsample_bylevel=None,\n",
       "                                     colsample_bynode=None,\n",
       "                                     colsample_bytree=None,\n",
       "                                     early_stopping_rounds=None,\n",
       "                                     enable_categorical=False, eval_metric=None,\n",
       "                                     gamma=None, gpu_id=None, grow_policy=None,\n",
       "                                     importance_type=None,\n",
       "                                     interaction_constraints=None,\n",
       "                                     learning_rate=None, max_bin=None,\n",
       "                                     max_ca...,\n",
       "                                     max_delta_step=None, max_depth=None,\n",
       "                                     max_leaves=None, min_child_weight=None,\n",
       "                                     missing=nan, monotone_constraints=None,\n",
       "                                     n_estimators=100, n_jobs=None,\n",
       "                                     num_parallel_tree=None, predictor=None,\n",
       "                                     random_state=None, reg_alpha=None,\n",
       "                                     reg_lambda=None, ...),\n",
       "             param_grid={'gamma': [0, 1, 2, 3, 4],\n",
       "                         'learning_rate': [0.1, 0.2, 0.3, 0.4, 0.5, 0.6],\n",
       "                         'max_depth': range(3, 10)},\n",
       "             scoring='roc_auc')"
      ]
     },
     "execution_count": 73,
     "metadata": {},
     "output_type": "execute_result"
    }
   ],
   "source": [
    "%%time\n",
    "xgb_gsearch.fit(X_train, y_train)"
   ]
  },
  {
   "cell_type": "code",
   "execution_count": 74,
   "id": "f1964b16",
   "metadata": {},
   "outputs": [
    {
     "data": {
      "text/plain": [
       "{'gamma': 0, 'learning_rate': 0.6, 'max_depth': 9}"
      ]
     },
     "execution_count": 74,
     "metadata": {},
     "output_type": "execute_result"
    }
   ],
   "source": [
    "xgb_gsearch.best_params_"
   ]
  },
  {
   "cell_type": "code",
   "execution_count": 75,
   "id": "63d9a9c0",
   "metadata": {},
   "outputs": [],
   "source": [
    "xgb_gs = XGBClassifier(**xgb_gsearch.best_params_)"
   ]
  },
  {
   "cell_type": "code",
   "execution_count": 76,
   "id": "a6d4e3ff",
   "metadata": {},
   "outputs": [],
   "source": [
    "xgb_model = xgb_gs.fit(X_train, y_train)"
   ]
  },
  {
   "cell_type": "code",
   "execution_count": 77,
   "id": "a547e8d0",
   "metadata": {},
   "outputs": [
    {
     "name": "stdout",
     "output_type": "stream",
     "text": [
      "              precision    recall  f1-score   support\n",
      "\n",
      "           0       0.91      0.96      0.93     65382\n",
      "           1       0.96      0.93      0.94     79033\n",
      "\n",
      "    accuracy                           0.94    144415\n",
      "   macro avg       0.94      0.94      0.94    144415\n",
      "weighted avg       0.94      0.94      0.94    144415\n",
      "\n"
     ]
    }
   ],
   "source": [
    "xgb_gs_train_rep = get_train_report(xgb_model)\n",
    "print(xgb_gs_train_rep)"
   ]
  },
  {
   "cell_type": "code",
   "execution_count": 78,
   "id": "eec602bf",
   "metadata": {},
   "outputs": [
    {
     "name": "stdout",
     "output_type": "stream",
     "text": [
      "              precision    recall  f1-score   support\n",
      "\n",
      "           0       0.78      0.83      0.81     16160\n",
      "           1       0.86      0.81      0.83     19944\n",
      "\n",
      "    accuracy                           0.82     36104\n",
      "   macro avg       0.82      0.82      0.82     36104\n",
      "weighted avg       0.82      0.82      0.82     36104\n",
      "\n"
     ]
    }
   ],
   "source": [
    "xgb_gs_test_rep = get_test_report(xgb_model)\n",
    "print(xgb_gs_test_rep)"
   ]
  },
  {
   "cell_type": "code",
   "execution_count": 79,
   "id": "c499b8af",
   "metadata": {},
   "outputs": [
    {
     "data": {
      "text/plain": [
       "0.9411535794874787"
      ]
     },
     "execution_count": 79,
     "metadata": {},
     "output_type": "execute_result"
    }
   ],
   "source": [
    "roc_auc_train(xgb_model)"
   ]
  },
  {
   "cell_type": "code",
   "execution_count": 80,
   "id": "1c711679",
   "metadata": {},
   "outputs": [
    {
     "data": {
      "text/plain": [
       "0.8210778298046411"
      ]
     },
     "execution_count": 80,
     "metadata": {},
     "output_type": "execute_result"
    }
   ],
   "source": [
    "roc_auc_test(xgb_model)"
   ]
  },
  {
   "cell_type": "markdown",
   "id": "edca0bcd",
   "metadata": {},
   "source": [
    "## LightBGM"
   ]
  },
  {
   "cell_type": "code",
   "execution_count": 38,
   "id": "7be99aee",
   "metadata": {},
   "outputs": [],
   "source": [
    "from lightgbm import LGBMClassifier"
   ]
  },
  {
   "cell_type": "code",
   "execution_count": 39,
   "id": "2144e14c",
   "metadata": {},
   "outputs": [],
   "source": [
    "lgbc = LGBMClassifier(random_state=42)"
   ]
  },
  {
   "cell_type": "code",
   "execution_count": 40,
   "id": "191b60c3",
   "metadata": {},
   "outputs": [
    {
     "name": "stdout",
     "output_type": "stream",
     "text": [
      "CPU times: total: 9.19 s\n",
      "Wall time: 4.91 s\n"
     ]
    }
   ],
   "source": [
    "%%time\n",
    "lgbc_model = lgbc.fit(X_train, y_train)"
   ]
  },
  {
   "cell_type": "code",
   "execution_count": 41,
   "id": "c201647a",
   "metadata": {},
   "outputs": [
    {
     "name": "stdout",
     "output_type": "stream",
     "text": [
      "              precision    recall  f1-score   support\n",
      "\n",
      "           0       0.64      0.91      0.75     65382\n",
      "           1       0.88      0.58      0.70     79033\n",
      "\n",
      "    accuracy                           0.73    144415\n",
      "   macro avg       0.76      0.75      0.73    144415\n",
      "weighted avg       0.77      0.73      0.73    144415\n",
      "\n"
     ]
    }
   ],
   "source": [
    "lgbc_train_rep = get_train_report(lgbc_model)\n",
    "print(lgbc_train_rep)"
   ]
  },
  {
   "cell_type": "code",
   "execution_count": 42,
   "id": "08b0f784",
   "metadata": {},
   "outputs": [
    {
     "name": "stdout",
     "output_type": "stream",
     "text": [
      "              precision    recall  f1-score   support\n",
      "\n",
      "           0       0.63      0.90      0.74     16160\n",
      "           1       0.88      0.57      0.69     19944\n",
      "\n",
      "    accuracy                           0.72     36104\n",
      "   macro avg       0.75      0.74      0.72     36104\n",
      "weighted avg       0.77      0.72      0.72     36104\n",
      "\n"
     ]
    }
   ],
   "source": [
    "lgbc_test_rep = get_test_report(lgbc_model)\n",
    "print(lgbc_test_rep)"
   ]
  },
  {
   "cell_type": "code",
   "execution_count": 44,
   "id": "b68f7e20",
   "metadata": {},
   "outputs": [
    {
     "data": {
      "text/plain": [
       "0.7453540820007657"
      ]
     },
     "execution_count": 44,
     "metadata": {},
     "output_type": "execute_result"
    }
   ],
   "source": [
    "roc_auc_train(lgbc_model)"
   ]
  },
  {
   "cell_type": "code",
   "execution_count": 45,
   "id": "f9512ad5",
   "metadata": {},
   "outputs": [
    {
     "data": {
      "text/plain": [
       "0.7377626909802893"
      ]
     },
     "execution_count": 45,
     "metadata": {},
     "output_type": "execute_result"
    }
   ],
   "source": [
    "roc_auc_test(lgbc_model)"
   ]
  },
  {
   "cell_type": "markdown",
   "id": "c8dcceb7",
   "metadata": {},
   "source": [
    "## GridSearch on LightBGM"
   ]
  },
  {
   "cell_type": "code",
   "execution_count": 49,
   "id": "170e5292",
   "metadata": {},
   "outputs": [],
   "source": [
    "tuning_parameters = {'learning_rate': [0.1, 0.2, 0.3, 0.4, 0.5, 0.6],\n",
    "                     'max_depth': range(3,10)}"
   ]
  },
  {
   "cell_type": "code",
   "execution_count": 50,
   "id": "edd3c9aa",
   "metadata": {},
   "outputs": [],
   "source": [
    "lgbc_gsearch = GridSearchCV(estimator = lgbc_model, param_grid = tuning_parameters, cv = 5, scoring = 'roc_auc',\n",
    "                            return_train_score=True)"
   ]
  },
  {
   "cell_type": "code",
   "execution_count": 51,
   "id": "2cc96687",
   "metadata": {},
   "outputs": [
    {
     "name": "stdout",
     "output_type": "stream",
     "text": [
      "CPU times: total: 31min 23s\n",
      "Wall time: 16min 49s\n"
     ]
    },
    {
     "data": {
      "text/plain": [
       "GridSearchCV(cv=5, estimator=LGBMClassifier(random_state=42),\n",
       "             param_grid={'learning_rate': [0.1, 0.2, 0.3, 0.4, 0.5, 0.6],\n",
       "                         'max_depth': range(3, 10)},\n",
       "             return_train_score=True, scoring='roc_auc')"
      ]
     },
     "execution_count": 51,
     "metadata": {},
     "output_type": "execute_result"
    }
   ],
   "source": [
    "%%time\n",
    "lgbc_gsearch.fit(X_train, y_train)"
   ]
  },
  {
   "cell_type": "code",
   "execution_count": 52,
   "id": "7b38f45d",
   "metadata": {},
   "outputs": [
    {
     "data": {
      "text/plain": [
       "{'learning_rate': 0.6, 'max_depth': 9}"
      ]
     },
     "execution_count": 52,
     "metadata": {},
     "output_type": "execute_result"
    }
   ],
   "source": [
    "lgbc_gsearch.best_params_"
   ]
  },
  {
   "cell_type": "code",
   "execution_count": 55,
   "id": "98e6dfe4",
   "metadata": {},
   "outputs": [],
   "source": [
    "lgbc_gs = LGBMClassifier(**lgbc_gsearch.best_params_)"
   ]
  },
  {
   "cell_type": "code",
   "execution_count": 57,
   "id": "091ef398",
   "metadata": {},
   "outputs": [],
   "source": [
    "lgbc_model = lgbc_gs.fit(X_train, y_train)"
   ]
  },
  {
   "cell_type": "code",
   "execution_count": 58,
   "id": "0782be30",
   "metadata": {},
   "outputs": [
    {
     "name": "stdout",
     "output_type": "stream",
     "text": [
      "              precision    recall  f1-score   support\n",
      "\n",
      "           0       0.73      0.88      0.80     65382\n",
      "           1       0.88      0.73      0.80     79033\n",
      "\n",
      "    accuracy                           0.80    144415\n",
      "   macro avg       0.80      0.80      0.80    144415\n",
      "weighted avg       0.81      0.80      0.80    144415\n",
      "\n"
     ]
    }
   ],
   "source": [
    "lgbc_gs_train_rep = get_train_report(lgbc_model)\n",
    "print(lgbc_gs_train_rep)"
   ]
  },
  {
   "cell_type": "code",
   "execution_count": 59,
   "id": "0b90df21",
   "metadata": {},
   "outputs": [
    {
     "name": "stdout",
     "output_type": "stream",
     "text": [
      "              precision    recall  f1-score   support\n",
      "\n",
      "           0       0.68      0.83      0.75     16160\n",
      "           1       0.84      0.69      0.76     19944\n",
      "\n",
      "    accuracy                           0.75     36104\n",
      "   macro avg       0.76      0.76      0.75     36104\n",
      "weighted avg       0.77      0.75      0.75     36104\n",
      "\n"
     ]
    }
   ],
   "source": [
    "lgbc_gs_test_rep = get_test_report(lgbc_model)\n",
    "print(lgbc_gs_test_rep)"
   ]
  },
  {
   "cell_type": "code",
   "execution_count": 60,
   "id": "31670302",
   "metadata": {},
   "outputs": [],
   "source": [
    "tuning_parameters1 = {'learning_rate': [0.7, 0.8, 0.9, 1, 1.1, 1.2],\n",
    "                     'max_depth': range(10,15)}"
   ]
  },
  {
   "cell_type": "code",
   "execution_count": 61,
   "id": "f736527d",
   "metadata": {},
   "outputs": [],
   "source": [
    "lgbc_gsearch = GridSearchCV(estimator = lgbc_model, param_grid = tuning_parameters1, cv = 5, scoring = 'roc_auc',\n",
    "                            return_train_score=True)"
   ]
  },
  {
   "cell_type": "code",
   "execution_count": 62,
   "id": "6a221efa",
   "metadata": {},
   "outputs": [
    {
     "name": "stdout",
     "output_type": "stream",
     "text": [
      "CPU times: total: 21min 39s\n",
      "Wall time: 11min 58s\n"
     ]
    },
    {
     "data": {
      "text/plain": [
       "GridSearchCV(cv=5, estimator=LGBMClassifier(learning_rate=0.6, max_depth=9),\n",
       "             param_grid={'learning_rate': [0.7, 0.8, 0.9, 1, 1.1, 1.2],\n",
       "                         'max_depth': range(10, 15)},\n",
       "             return_train_score=True, scoring='roc_auc')"
      ]
     },
     "execution_count": 62,
     "metadata": {},
     "output_type": "execute_result"
    }
   ],
   "source": [
    "%%time\n",
    "lgbc_gsearch.fit(X_train, y_train)"
   ]
  },
  {
   "cell_type": "code",
   "execution_count": 63,
   "id": "6ede246e",
   "metadata": {},
   "outputs": [
    {
     "data": {
      "text/plain": [
       "{'learning_rate': 1.1, 'max_depth': 12}"
      ]
     },
     "execution_count": 63,
     "metadata": {},
     "output_type": "execute_result"
    }
   ],
   "source": [
    "lgbc_gsearch.best_params_"
   ]
  },
  {
   "cell_type": "code",
   "execution_count": 64,
   "id": "f56cc437",
   "metadata": {},
   "outputs": [],
   "source": [
    "lgbc_gs = LGBMClassifier(**lgbc_gsearch.best_params_)"
   ]
  },
  {
   "cell_type": "code",
   "execution_count": 65,
   "id": "b3df7f7c",
   "metadata": {},
   "outputs": [],
   "source": [
    "lgbc_model = lgbc_gs.fit(X_train, y_train)"
   ]
  },
  {
   "cell_type": "code",
   "execution_count": 66,
   "id": "442b7756",
   "metadata": {},
   "outputs": [
    {
     "name": "stdout",
     "output_type": "stream",
     "text": [
      "              precision    recall  f1-score   support\n",
      "\n",
      "           0       0.77      0.86      0.81     65382\n",
      "           1       0.87      0.79      0.83     79033\n",
      "\n",
      "    accuracy                           0.82    144415\n",
      "   macro avg       0.82      0.82      0.82    144415\n",
      "weighted avg       0.82      0.82      0.82    144415\n",
      "\n"
     ]
    }
   ],
   "source": [
    "lgbc_gs_train_rep = get_train_report(lgbc_model)\n",
    "print(lgbc_gs_train_rep)"
   ]
  },
  {
   "cell_type": "code",
   "execution_count": 67,
   "id": "7b12ecbf",
   "metadata": {},
   "outputs": [
    {
     "name": "stdout",
     "output_type": "stream",
     "text": [
      "              precision    recall  f1-score   support\n",
      "\n",
      "           0       0.71      0.79      0.75     16160\n",
      "           1       0.81      0.73      0.77     19944\n",
      "\n",
      "    accuracy                           0.76     36104\n",
      "   macro avg       0.76      0.76      0.76     36104\n",
      "weighted avg       0.77      0.76      0.76     36104\n",
      "\n"
     ]
    }
   ],
   "source": [
    "lgbc_gs_test_rep = get_test_report(lgbc_model)\n",
    "print(lgbc_gs_test_rep)"
   ]
  },
  {
   "cell_type": "code",
   "execution_count": null,
   "id": "ca1777d6",
   "metadata": {},
   "outputs": [],
   "source": []
  }
 ],
 "metadata": {
  "kernelspec": {
   "display_name": "Python 3 (ipykernel)",
   "language": "python",
   "name": "python3"
  },
  "language_info": {
   "codemirror_mode": {
    "name": "ipython",
    "version": 3
   },
   "file_extension": ".py",
   "mimetype": "text/x-python",
   "name": "python",
   "nbconvert_exporter": "python",
   "pygments_lexer": "ipython3",
   "version": "3.9.12"
  }
 },
 "nbformat": 4,
 "nbformat_minor": 5
}
