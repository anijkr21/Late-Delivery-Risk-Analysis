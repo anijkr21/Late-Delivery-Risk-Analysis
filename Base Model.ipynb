{
 "cells": [
  {
   "cell_type": "markdown",
   "id": "3bcec612",
   "metadata": {
    "pycharm": {
     "is_executing": true,
     "name": "#%%\n"
    }
   },
   "source": [
    "# 1 Importing Libraries"
   ]
  },
  {
   "cell_type": "code",
   "execution_count": null,
   "id": "b08796ed",
   "metadata": {},
   "outputs": [],
   "source": [
    "import pandas as pd\n",
    "import numpy as np\n",
    "import matplotlib.pyplot as plt\n",
    "import seaborn as sns\n",
    "\n",
    "from warnings import filterwarnings\n",
    "filterwarnings('ignore')\n",
    "from sklearn.model_selection import train_test_split\n",
    "\n",
    "import statsmodels\n",
    "import statsmodels.api as sm\n",
    "\n",
    "from sklearn.preprocessing import StandardScaler,LabelEncoder\n",
    "\n",
    "from sklearn                  import metrics\n",
    "from sklearn.linear_model     import LogisticRegression\n",
    "from sklearn.metrics          import classification_report\n",
    "from sklearn.metrics          import cohen_kappa_score\n",
    "from sklearn.metrics          import confusion_matrix\n",
    "from sklearn.metrics          import roc_curve\n",
    "from sklearn.metrics          import accuracy_score\n",
    "from sklearn.metrics          import ConfusionMatrixDisplay\n",
    "\n",
    "from sklearn.tree             import DecisionTreeClassifier\n",
    "from sklearn.ensemble         import RandomForestClassifier\n",
    "from sklearn                  import tree\n",
    "from sklearn.model_selection  import GridSearchCV\n",
    "from six                      import StringIO\n",
    "import pydotplus\n",
    "from IPython.display          import Image \n",
    "from sklearn.inspection       import permutation_importance\n",
    "\n",
    "from sklearn.feature_selection import RFE\n",
    "plt.rcParams['figure.figsize'] = [15,8]"
   ]
  },
  {
   "cell_type": "code",
   "execution_count": null,
   "id": "5e40ac9e",
   "metadata": {},
   "outputs": [],
   "source": [
    "def missing_zero_values_table(df):\n",
    "        zero_val = (df == 0.00).astype(int).sum(axis=0)\n",
    "        mis_val = df.isnull().sum()\n",
    "        mis_val_percent = 100 * df.isnull().sum() / len(df)\n",
    "        mz_table = pd.concat([zero_val, mis_val, mis_val_percent], axis=1)\n",
    "        mz_table = mz_table.rename(\n",
    "        columns = {0 : 'Zero Values', 1 : 'Missing Values', 2 : '% of Total Values'})\n",
    "        mz_table['Total Zero & Missing Values'] = mz_table['Zero Values'] + mz_table['Missing Values']\n",
    "        mz_table['% Total Zero & Missing Values'] = 100 * mz_table['Total Zero & Missing Values'] / len(df)\n",
    "        mz_table['Data Type'] = df.dtypes\n",
    "        mz_table = mz_table[\n",
    "            mz_table.iloc[:,1] != 0].sort_values(\n",
    "        '% of Total Values', ascending=False).round(1)\n",
    "        print (\"Your selected dataframe has \" + str(df.shape[1]) + \" columns and \" + str(df.shape[0]) + \" Rows.\\n\"      \n",
    "            \"There are \" + str(mz_table.shape[0]) +\n",
    "              \" columns that have missing values.\")\n",
    "#         mz_table.to_excel('D:/sampledata/missing_and_zero_values.xlsx', freeze_panes=(1,0), index = False)\n",
    "        return mz_table"
   ]
  },
  {
   "cell_type": "code",
   "execution_count": null,
   "id": "4725b7d6",
   "metadata": {},
   "outputs": [],
   "source": [
    "def draw_cm( actual, predicted ):\n",
    "    \n",
    "    import matplotlib.pyplot as   plt\n",
    "    import sklearn.metrics   as   metrics\n",
    "    import seaborn           as   sns\n",
    "    \n",
    "    cm = metrics.confusion_matrix( actual, predicted, [1,0] )\n",
    "    sns.heatmap(cm, annot=True, fmt='.2f', xticklabels = [\"Yes\", \"No\"] , yticklabels = [\"Yes\", \"No\"] )\n",
    "    plt.ylabel('True label')\n",
    "    plt.xlabel('Predicted label')\n",
    "    plt.show()   "
   ]
  },
  {
   "cell_type": "code",
   "execution_count": null,
   "id": "2d75c5ec",
   "metadata": {},
   "outputs": [],
   "source": [
    "def draw_roc( actual, probs ):\n",
    "\n",
    "    import pandas            as   pd\n",
    "    import numpy             as   np\n",
    "    import seaborn           as   sns\n",
    "    import matplotlib.pyplot as   plt\n",
    "    import sklearn.metrics   as   metrics\n",
    "    import seaborn           as   sns\n",
    "    \n",
    "    fpr, tpr, thresholds = metrics.roc_curve( actual, probs,\n",
    "    drop_intermediate = False )\n",
    "    auc_score = metrics.roc_auc_score( actual, probs )\n",
    "    plt.figure(figsize=(6, 4))\n",
    "    plt.plot( fpr, tpr, label='ROC curve (area = %0.2f)' % auc_score )\n",
    "    plt.plot([0, 1], [0, 1], 'k--')\n",
    "    plt.xlim([0.0, 1.0])\n",
    "    plt.ylim([0.0, 1.05])\n",
    "    plt.xlabel('False Positive Rate or [1 - True Negative Rate]')\n",
    "    plt.ylabel('True Positive Rate')\n",
    "    plt.title('Receiver operating characteristic curve')\n",
    "    plt.legend(loc=\"lower right\")\n",
    "    plt.show()\n",
    "    return fpr, tpr, thresholds"
   ]
  },
  {
   "cell_type": "code",
   "execution_count": null,
   "id": "c07fcdda",
   "metadata": {},
   "outputs": [],
   "source": [
    "def decision_tree_with_pruning(clf, X, y, flist, file_name):\n",
    "    from sklearn.tree            import export_graphviz\n",
    "    from six                     import StringIO\n",
    "    from IPython.core.pylabtools import figsize\n",
    "    from IPython.display         import Image\n",
    "    figsize(12.5, 6)\n",
    "    import pydot\n",
    "    #dot_data = StringIO()  \n",
    "    file_name_dot = file_name + '.dot'\n",
    "    file_name_png = file_name + '.png'\n",
    "    \n",
    "    export_graphviz(clf, out_file = file_name_dot, feature_names = flist,\n",
    "                    class_names = ['No Diabetes' , 'Diabetes'],\n",
    "                    filled = True, rounded = True)\n",
    "    (graph,) = pydot.graph_from_dot_file(file_name_dot)\n",
    "    graph.write_png(file_name_png)\n",
    "    return Image(file_name_png)"
   ]
  },
  {
   "cell_type": "code",
   "execution_count": null,
   "id": "2df5373b",
   "metadata": {},
   "outputs": [],
   "source": [
    "'''\n",
    "This function returns a set of rules defined in the Decision Tree which is easy to understand\n",
    "'''\n",
    "def tree_to_rules(tree, feature_names, class_names):\n",
    "\n",
    "    left = tree.tree_.children_left\n",
    "    right = tree.tree_.children_right\n",
    "    threshold = tree.tree_.threshold\n",
    "    features = [feature_names[i] for i in tree.tree_.feature]\n",
    "    value = tree.tree_.value\n",
    "\n",
    "    def recurse(left, right, threshold, features, node, depth=0):\n",
    "\n",
    "        indent = \"  \" * depth\n",
    "\n",
    "        if (threshold[node] != -2):\n",
    "\n",
    "            print(indent,\"if ( \" + features[node] + \" <= \" + str(threshold[node]) + \" ) {\")\n",
    "\n",
    "            if left[node] != -1:\n",
    "\n",
    "                recurse (left, right, threshold, features, left[node], depth+1)\n",
    "                print(indent,\"} else {\")\n",
    "\n",
    "                if right[node] != -1:\n",
    "                    recurse (left, right, threshold, features, right[node], depth+1)\n",
    "\n",
    "                print(indent,\"}\")\n",
    "\n",
    "        else:\n",
    "            if value[node][0,0] > value[node][0,1]:\n",
    "                classified = class_names[0]\n",
    "            else:\n",
    "                  classified = class_names[1]\n",
    "            print(indent,\"Class = \" + classified)\n",
    "    recurse(left, right, threshold, features, 0)"
   ]
  },
  {
   "cell_type": "code",
   "execution_count": null,
   "id": "d5692cd2",
   "metadata": {},
   "outputs": [],
   "source": [
    "def get_train_report(model):\n",
    "    train_pred = model.predict(X_train)\n",
    "    return(classification_report(y_train, train_pred))\n",
    "\n",
    "def get_test_report(model):\n",
    "    test_pred = model.predict(X_test)\n",
    "    return(classification_report(y_test, test_pred))"
   ]
  },
  {
   "cell_type": "code",
   "execution_count": null,
   "id": "23f4682c",
   "metadata": {},
   "outputs": [],
   "source": [
    "'''\n",
    "This function calculates the Youdens J score which gives the optimum cut-off\n",
    "point given the fpr, tpr and thresholds\n",
    "'''\n",
    "def get_youdens_j_cutoff(fpr,tpr,thresholds):\n",
    "    j_scores = tpr-fpr\n",
    "    j_ordered = sorted(zip(j_scores,thresholds))\n",
    "    return j_ordered[-1][1]"
   ]
  },
  {
   "cell_type": "markdown",
   "id": "e3ed4731",
   "metadata": {},
   "source": [
    "# 2 Data Preparation"
   ]
  },
  {
   "cell_type": "markdown",
   "id": "69ea2f1a",
   "metadata": {},
   "source": [
    "### 2.1 Read Data"
   ]
  },
  {
   "cell_type": "code",
   "execution_count": null,
   "id": "f9ab5b8f",
   "metadata": {},
   "outputs": [],
   "source": [
    "import os\n",
    "os.chdir(r'D:\\DSE_Capstone\\DSE-FT-JAN22-G4\\Data')"
   ]
  },
  {
   "cell_type": "code",
   "execution_count": null,
   "id": "8c5eb8df",
   "metadata": {
    "pycharm": {
     "name": "#%%\n"
    }
   },
   "outputs": [],
   "source": [
    "df = pd.read_excel('CapstoneData.xlsx')"
   ]
  },
  {
   "cell_type": "code",
   "execution_count": 11,
   "id": "095fc091",
   "metadata": {
    "pycharm": {
     "name": "#%%\n"
    }
   },
   "outputs": [],
   "source": [
    "pd.options.display.max_columns = None"
   ]
  },
  {
   "cell_type": "code",
   "execution_count": 12,
   "id": "a3e8b25a",
   "metadata": {
    "pycharm": {
     "name": "#%%\n"
    }
   },
   "outputs": [
    {
     "data": {
      "text/html": [
       "<div>\n",
       "<style scoped>\n",
       "    .dataframe tbody tr th:only-of-type {\n",
       "        vertical-align: middle;\n",
       "    }\n",
       "\n",
       "    .dataframe tbody tr th {\n",
       "        vertical-align: top;\n",
       "    }\n",
       "\n",
       "    .dataframe thead th {\n",
       "        text-align: right;\n",
       "    }\n",
       "</style>\n",
       "<table border=\"1\" class=\"dataframe\">\n",
       "  <thead>\n",
       "    <tr style=\"text-align: right;\">\n",
       "      <th></th>\n",
       "      <th>Type</th>\n",
       "      <th>Days for shipping (real)</th>\n",
       "      <th>Days for shipment (scheduled)</th>\n",
       "      <th>Benefit per order</th>\n",
       "      <th>Sales per customer</th>\n",
       "      <th>Delivery Status</th>\n",
       "      <th>Late_delivery_risk</th>\n",
       "      <th>Category Id</th>\n",
       "      <th>Category Name</th>\n",
       "      <th>Customer City</th>\n",
       "      <th>Customer Country</th>\n",
       "      <th>Customer Email</th>\n",
       "      <th>Customer Fname</th>\n",
       "      <th>Customer Id</th>\n",
       "      <th>Customer Lname</th>\n",
       "      <th>Customer Password</th>\n",
       "      <th>Customer Segment</th>\n",
       "      <th>Customer State</th>\n",
       "      <th>Customer Street</th>\n",
       "      <th>Customer Zipcode</th>\n",
       "      <th>Department Id</th>\n",
       "      <th>Department Name</th>\n",
       "      <th>Latitude</th>\n",
       "      <th>Longitude</th>\n",
       "      <th>Market</th>\n",
       "      <th>Order City</th>\n",
       "      <th>Order Country</th>\n",
       "      <th>Order Customer Id</th>\n",
       "      <th>order date (DateOrders)</th>\n",
       "      <th>Order Id</th>\n",
       "      <th>Order Item Cardprod Id</th>\n",
       "      <th>Order Item Discount</th>\n",
       "      <th>Order Item Discount Rate</th>\n",
       "      <th>Order Item Id</th>\n",
       "      <th>Order Item Product Price</th>\n",
       "      <th>Order Item Profit Ratio</th>\n",
       "      <th>Order Item Quantity</th>\n",
       "      <th>Sales</th>\n",
       "      <th>Order Item Total</th>\n",
       "      <th>Order Profit Per Order</th>\n",
       "      <th>Order Region</th>\n",
       "      <th>Order State</th>\n",
       "      <th>Order Status</th>\n",
       "      <th>Order Zipcode</th>\n",
       "      <th>Product Card Id</th>\n",
       "      <th>Product Category Id</th>\n",
       "      <th>Product Description</th>\n",
       "      <th>Product Image</th>\n",
       "      <th>Product Name</th>\n",
       "      <th>Product Price</th>\n",
       "      <th>Product Status</th>\n",
       "      <th>shipping date (DateOrders)</th>\n",
       "      <th>Shipping Mode</th>\n",
       "    </tr>\n",
       "  </thead>\n",
       "  <tbody>\n",
       "    <tr>\n",
       "      <th>0</th>\n",
       "      <td>DEBIT</td>\n",
       "      <td>3</td>\n",
       "      <td>4</td>\n",
       "      <td>91.250000</td>\n",
       "      <td>314.640015</td>\n",
       "      <td>Advance shipping</td>\n",
       "      <td>0</td>\n",
       "      <td>73</td>\n",
       "      <td>Sporting Goods</td>\n",
       "      <td>Caguas</td>\n",
       "      <td>Puerto Rico</td>\n",
       "      <td>XXXXXXXXX</td>\n",
       "      <td>Cally</td>\n",
       "      <td>20755</td>\n",
       "      <td>Holloway</td>\n",
       "      <td>XXXXXXXXX</td>\n",
       "      <td>Consumer</td>\n",
       "      <td>PR</td>\n",
       "      <td>5365 Noble Nectar Island</td>\n",
       "      <td>725.0</td>\n",
       "      <td>2</td>\n",
       "      <td>Fitness</td>\n",
       "      <td>18.251453</td>\n",
       "      <td>-66.037056</td>\n",
       "      <td>Pacific Asia</td>\n",
       "      <td>Bekasi</td>\n",
       "      <td>Indonesia</td>\n",
       "      <td>20755</td>\n",
       "      <td>1/31/2018 22:56</td>\n",
       "      <td>77202</td>\n",
       "      <td>1360</td>\n",
       "      <td>13.110000</td>\n",
       "      <td>0.04</td>\n",
       "      <td>180517</td>\n",
       "      <td>327.75</td>\n",
       "      <td>0.29</td>\n",
       "      <td>1</td>\n",
       "      <td>327.75</td>\n",
       "      <td>314.640015</td>\n",
       "      <td>91.250000</td>\n",
       "      <td>Southeast Asia</td>\n",
       "      <td>Java Occidental</td>\n",
       "      <td>COMPLETE</td>\n",
       "      <td>NaN</td>\n",
       "      <td>1360</td>\n",
       "      <td>73</td>\n",
       "      <td>NaN</td>\n",
       "      <td>http://images.acmesports.sports/Smart+watch</td>\n",
       "      <td>Smart watch</td>\n",
       "      <td>327.75</td>\n",
       "      <td>0</td>\n",
       "      <td>2018-03-02 22:56:00</td>\n",
       "      <td>Standard Class</td>\n",
       "    </tr>\n",
       "    <tr>\n",
       "      <th>1</th>\n",
       "      <td>TRANSFER</td>\n",
       "      <td>5</td>\n",
       "      <td>4</td>\n",
       "      <td>-249.089996</td>\n",
       "      <td>311.359985</td>\n",
       "      <td>Late delivery</td>\n",
       "      <td>1</td>\n",
       "      <td>73</td>\n",
       "      <td>Sporting Goods</td>\n",
       "      <td>Caguas</td>\n",
       "      <td>Puerto Rico</td>\n",
       "      <td>XXXXXXXXX</td>\n",
       "      <td>Irene</td>\n",
       "      <td>19492</td>\n",
       "      <td>Luna</td>\n",
       "      <td>XXXXXXXXX</td>\n",
       "      <td>Consumer</td>\n",
       "      <td>PR</td>\n",
       "      <td>2679 Rustic Loop</td>\n",
       "      <td>725.0</td>\n",
       "      <td>2</td>\n",
       "      <td>Fitness</td>\n",
       "      <td>18.279451</td>\n",
       "      <td>-66.037064</td>\n",
       "      <td>Pacific Asia</td>\n",
       "      <td>Bikaner</td>\n",
       "      <td>India</td>\n",
       "      <td>19492</td>\n",
       "      <td>1/13/2018 12:27</td>\n",
       "      <td>75939</td>\n",
       "      <td>1360</td>\n",
       "      <td>16.389999</td>\n",
       "      <td>0.05</td>\n",
       "      <td>179254</td>\n",
       "      <td>327.75</td>\n",
       "      <td>-0.80</td>\n",
       "      <td>1</td>\n",
       "      <td>327.75</td>\n",
       "      <td>311.359985</td>\n",
       "      <td>-249.089996</td>\n",
       "      <td>South Asia</td>\n",
       "      <td>Rajast·n</td>\n",
       "      <td>PENDING</td>\n",
       "      <td>NaN</td>\n",
       "      <td>1360</td>\n",
       "      <td>73</td>\n",
       "      <td>NaN</td>\n",
       "      <td>http://images.acmesports.sports/Smart+watch</td>\n",
       "      <td>Smart watch</td>\n",
       "      <td>327.75</td>\n",
       "      <td>0</td>\n",
       "      <td>1/18/2018 12:27</td>\n",
       "      <td>Standard Class</td>\n",
       "    </tr>\n",
       "    <tr>\n",
       "      <th>2</th>\n",
       "      <td>CASH</td>\n",
       "      <td>4</td>\n",
       "      <td>4</td>\n",
       "      <td>-247.779999</td>\n",
       "      <td>309.720001</td>\n",
       "      <td>Shipping on time</td>\n",
       "      <td>0</td>\n",
       "      <td>73</td>\n",
       "      <td>Sporting Goods</td>\n",
       "      <td>San Jose</td>\n",
       "      <td>EE. UU.</td>\n",
       "      <td>XXXXXXXXX</td>\n",
       "      <td>Gillian</td>\n",
       "      <td>19491</td>\n",
       "      <td>Maldonado</td>\n",
       "      <td>XXXXXXXXX</td>\n",
       "      <td>Consumer</td>\n",
       "      <td>CA</td>\n",
       "      <td>8510 Round Bear Gate</td>\n",
       "      <td>95125.0</td>\n",
       "      <td>2</td>\n",
       "      <td>Fitness</td>\n",
       "      <td>37.292233</td>\n",
       "      <td>-121.881279</td>\n",
       "      <td>Pacific Asia</td>\n",
       "      <td>Bikaner</td>\n",
       "      <td>India</td>\n",
       "      <td>19491</td>\n",
       "      <td>1/13/2018 12:06</td>\n",
       "      <td>75938</td>\n",
       "      <td>1360</td>\n",
       "      <td>18.030001</td>\n",
       "      <td>0.06</td>\n",
       "      <td>179253</td>\n",
       "      <td>327.75</td>\n",
       "      <td>-0.80</td>\n",
       "      <td>1</td>\n",
       "      <td>327.75</td>\n",
       "      <td>309.720001</td>\n",
       "      <td>-247.779999</td>\n",
       "      <td>South Asia</td>\n",
       "      <td>Rajast·n</td>\n",
       "      <td>CLOSED</td>\n",
       "      <td>NaN</td>\n",
       "      <td>1360</td>\n",
       "      <td>73</td>\n",
       "      <td>NaN</td>\n",
       "      <td>http://images.acmesports.sports/Smart+watch</td>\n",
       "      <td>Smart watch</td>\n",
       "      <td>327.75</td>\n",
       "      <td>0</td>\n",
       "      <td>1/17/2018 12:06</td>\n",
       "      <td>Standard Class</td>\n",
       "    </tr>\n",
       "    <tr>\n",
       "      <th>3</th>\n",
       "      <td>DEBIT</td>\n",
       "      <td>3</td>\n",
       "      <td>4</td>\n",
       "      <td>22.860001</td>\n",
       "      <td>304.809998</td>\n",
       "      <td>Advance shipping</td>\n",
       "      <td>0</td>\n",
       "      <td>73</td>\n",
       "      <td>Sporting Goods</td>\n",
       "      <td>Los Angeles</td>\n",
       "      <td>EE. UU.</td>\n",
       "      <td>XXXXXXXXX</td>\n",
       "      <td>Tana</td>\n",
       "      <td>19490</td>\n",
       "      <td>Tate</td>\n",
       "      <td>XXXXXXXXX</td>\n",
       "      <td>Home Office</td>\n",
       "      <td>CA</td>\n",
       "      <td>3200 Amber Bend</td>\n",
       "      <td>90027.0</td>\n",
       "      <td>2</td>\n",
       "      <td>Fitness</td>\n",
       "      <td>34.125946</td>\n",
       "      <td>-118.291016</td>\n",
       "      <td>Pacific Asia</td>\n",
       "      <td>Townsville</td>\n",
       "      <td>Australia</td>\n",
       "      <td>19490</td>\n",
       "      <td>1/13/2018 11:45</td>\n",
       "      <td>75937</td>\n",
       "      <td>1360</td>\n",
       "      <td>22.940001</td>\n",
       "      <td>0.07</td>\n",
       "      <td>179252</td>\n",
       "      <td>327.75</td>\n",
       "      <td>0.08</td>\n",
       "      <td>1</td>\n",
       "      <td>327.75</td>\n",
       "      <td>304.809998</td>\n",
       "      <td>22.860001</td>\n",
       "      <td>Oceania</td>\n",
       "      <td>Queensland</td>\n",
       "      <td>COMPLETE</td>\n",
       "      <td>NaN</td>\n",
       "      <td>1360</td>\n",
       "      <td>73</td>\n",
       "      <td>NaN</td>\n",
       "      <td>http://images.acmesports.sports/Smart+watch</td>\n",
       "      <td>Smart watch</td>\n",
       "      <td>327.75</td>\n",
       "      <td>0</td>\n",
       "      <td>1/16/2018 11:45</td>\n",
       "      <td>Standard Class</td>\n",
       "    </tr>\n",
       "    <tr>\n",
       "      <th>4</th>\n",
       "      <td>PAYMENT</td>\n",
       "      <td>2</td>\n",
       "      <td>4</td>\n",
       "      <td>134.210007</td>\n",
       "      <td>298.250000</td>\n",
       "      <td>Advance shipping</td>\n",
       "      <td>0</td>\n",
       "      <td>73</td>\n",
       "      <td>Sporting Goods</td>\n",
       "      <td>Caguas</td>\n",
       "      <td>Puerto Rico</td>\n",
       "      <td>XXXXXXXXX</td>\n",
       "      <td>Orli</td>\n",
       "      <td>19489</td>\n",
       "      <td>Hendricks</td>\n",
       "      <td>XXXXXXXXX</td>\n",
       "      <td>Corporate</td>\n",
       "      <td>PR</td>\n",
       "      <td>8671 Iron Anchor Corners</td>\n",
       "      <td>725.0</td>\n",
       "      <td>2</td>\n",
       "      <td>Fitness</td>\n",
       "      <td>18.253769</td>\n",
       "      <td>-66.037048</td>\n",
       "      <td>Pacific Asia</td>\n",
       "      <td>Townsville</td>\n",
       "      <td>Australia</td>\n",
       "      <td>19489</td>\n",
       "      <td>1/13/2018 11:24</td>\n",
       "      <td>75936</td>\n",
       "      <td>1360</td>\n",
       "      <td>29.500000</td>\n",
       "      <td>0.09</td>\n",
       "      <td>179251</td>\n",
       "      <td>327.75</td>\n",
       "      <td>0.45</td>\n",
       "      <td>1</td>\n",
       "      <td>327.75</td>\n",
       "      <td>298.250000</td>\n",
       "      <td>134.210007</td>\n",
       "      <td>Oceania</td>\n",
       "      <td>Queensland</td>\n",
       "      <td>PENDING_PAYMENT</td>\n",
       "      <td>NaN</td>\n",
       "      <td>1360</td>\n",
       "      <td>73</td>\n",
       "      <td>NaN</td>\n",
       "      <td>http://images.acmesports.sports/Smart+watch</td>\n",
       "      <td>Smart watch</td>\n",
       "      <td>327.75</td>\n",
       "      <td>0</td>\n",
       "      <td>1/15/2018 11:24</td>\n",
       "      <td>Standard Class</td>\n",
       "    </tr>\n",
       "  </tbody>\n",
       "</table>\n",
       "</div>"
      ],
      "text/plain": [
       "       Type  Days for shipping (real)  Days for shipment (scheduled)  \\\n",
       "0     DEBIT                         3                              4   \n",
       "1  TRANSFER                         5                              4   \n",
       "2      CASH                         4                              4   \n",
       "3     DEBIT                         3                              4   \n",
       "4   PAYMENT                         2                              4   \n",
       "\n",
       "   Benefit per order  Sales per customer   Delivery Status  \\\n",
       "0          91.250000          314.640015  Advance shipping   \n",
       "1        -249.089996          311.359985     Late delivery   \n",
       "2        -247.779999          309.720001  Shipping on time   \n",
       "3          22.860001          304.809998  Advance shipping   \n",
       "4         134.210007          298.250000  Advance shipping   \n",
       "\n",
       "   Late_delivery_risk  Category Id   Category Name Customer City  \\\n",
       "0                   0           73  Sporting Goods        Caguas   \n",
       "1                   1           73  Sporting Goods        Caguas   \n",
       "2                   0           73  Sporting Goods      San Jose   \n",
       "3                   0           73  Sporting Goods   Los Angeles   \n",
       "4                   0           73  Sporting Goods        Caguas   \n",
       "\n",
       "  Customer Country Customer Email Customer Fname  Customer Id Customer Lname  \\\n",
       "0      Puerto Rico      XXXXXXXXX          Cally        20755       Holloway   \n",
       "1      Puerto Rico      XXXXXXXXX          Irene        19492           Luna   \n",
       "2          EE. UU.      XXXXXXXXX        Gillian        19491      Maldonado   \n",
       "3          EE. UU.      XXXXXXXXX           Tana        19490           Tate   \n",
       "4      Puerto Rico      XXXXXXXXX           Orli        19489      Hendricks   \n",
       "\n",
       "  Customer Password Customer Segment Customer State           Customer Street  \\\n",
       "0         XXXXXXXXX         Consumer             PR  5365 Noble Nectar Island   \n",
       "1         XXXXXXXXX         Consumer             PR          2679 Rustic Loop   \n",
       "2         XXXXXXXXX         Consumer             CA      8510 Round Bear Gate   \n",
       "3         XXXXXXXXX      Home Office             CA           3200 Amber Bend   \n",
       "4         XXXXXXXXX        Corporate             PR  8671 Iron Anchor Corners   \n",
       "\n",
       "   Customer Zipcode  Department Id Department Name   Latitude   Longitude  \\\n",
       "0             725.0              2         Fitness  18.251453  -66.037056   \n",
       "1             725.0              2         Fitness  18.279451  -66.037064   \n",
       "2           95125.0              2         Fitness  37.292233 -121.881279   \n",
       "3           90027.0              2         Fitness  34.125946 -118.291016   \n",
       "4             725.0              2         Fitness  18.253769  -66.037048   \n",
       "\n",
       "         Market  Order City Order Country  Order Customer Id  \\\n",
       "0  Pacific Asia      Bekasi     Indonesia              20755   \n",
       "1  Pacific Asia     Bikaner         India              19492   \n",
       "2  Pacific Asia     Bikaner         India              19491   \n",
       "3  Pacific Asia  Townsville     Australia              19490   \n",
       "4  Pacific Asia  Townsville     Australia              19489   \n",
       "\n",
       "  order date (DateOrders)  Order Id  Order Item Cardprod Id  \\\n",
       "0         1/31/2018 22:56     77202                    1360   \n",
       "1         1/13/2018 12:27     75939                    1360   \n",
       "2         1/13/2018 12:06     75938                    1360   \n",
       "3         1/13/2018 11:45     75937                    1360   \n",
       "4         1/13/2018 11:24     75936                    1360   \n",
       "\n",
       "   Order Item Discount  Order Item Discount Rate  Order Item Id  \\\n",
       "0            13.110000                      0.04         180517   \n",
       "1            16.389999                      0.05         179254   \n",
       "2            18.030001                      0.06         179253   \n",
       "3            22.940001                      0.07         179252   \n",
       "4            29.500000                      0.09         179251   \n",
       "\n",
       "   Order Item Product Price  Order Item Profit Ratio  Order Item Quantity  \\\n",
       "0                    327.75                     0.29                    1   \n",
       "1                    327.75                    -0.80                    1   \n",
       "2                    327.75                    -0.80                    1   \n",
       "3                    327.75                     0.08                    1   \n",
       "4                    327.75                     0.45                    1   \n",
       "\n",
       "    Sales  Order Item Total  Order Profit Per Order    Order Region  \\\n",
       "0  327.75        314.640015               91.250000  Southeast Asia   \n",
       "1  327.75        311.359985             -249.089996      South Asia   \n",
       "2  327.75        309.720001             -247.779999      South Asia   \n",
       "3  327.75        304.809998               22.860001         Oceania   \n",
       "4  327.75        298.250000              134.210007         Oceania   \n",
       "\n",
       "       Order State     Order Status  Order Zipcode  Product Card Id  \\\n",
       "0  Java Occidental         COMPLETE            NaN             1360   \n",
       "1         Rajast·n          PENDING            NaN             1360   \n",
       "2         Rajast·n           CLOSED            NaN             1360   \n",
       "3       Queensland         COMPLETE            NaN             1360   \n",
       "4       Queensland  PENDING_PAYMENT            NaN             1360   \n",
       "\n",
       "   Product Category Id  Product Description  \\\n",
       "0                   73                  NaN   \n",
       "1                   73                  NaN   \n",
       "2                   73                  NaN   \n",
       "3                   73                  NaN   \n",
       "4                   73                  NaN   \n",
       "\n",
       "                                  Product Image  Product Name  Product Price  \\\n",
       "0  http://images.acmesports.sports/Smart+watch   Smart watch          327.75   \n",
       "1  http://images.acmesports.sports/Smart+watch   Smart watch          327.75   \n",
       "2  http://images.acmesports.sports/Smart+watch   Smart watch          327.75   \n",
       "3  http://images.acmesports.sports/Smart+watch   Smart watch          327.75   \n",
       "4  http://images.acmesports.sports/Smart+watch   Smart watch          327.75   \n",
       "\n",
       "   Product Status shipping date (DateOrders)   Shipping Mode  \n",
       "0               0        2018-03-02 22:56:00  Standard Class  \n",
       "1               0            1/18/2018 12:27  Standard Class  \n",
       "2               0            1/17/2018 12:06  Standard Class  \n",
       "3               0            1/16/2018 11:45  Standard Class  \n",
       "4               0            1/15/2018 11:24  Standard Class  "
      ]
     },
     "execution_count": 12,
     "metadata": {},
     "output_type": "execute_result"
    }
   ],
   "source": [
    "df.head()"
   ]
  },
  {
   "cell_type": "markdown",
   "id": "a64e8103",
   "metadata": {},
   "source": [
    "### 2.2 Check the Data"
   ]
  },
  {
   "cell_type": "code",
   "execution_count": 13,
   "id": "710efbd3",
   "metadata": {},
   "outputs": [
    {
     "data": {
      "text/plain": [
       "Index(['Type', 'Days for shipping (real)', 'Days for shipment (scheduled)',\n",
       "       'Benefit per order', 'Sales per customer', 'Delivery Status',\n",
       "       'Late_delivery_risk', 'Category Id', 'Category Name', 'Customer City',\n",
       "       'Customer Country', 'Customer Email', 'Customer Fname', 'Customer Id',\n",
       "       'Customer Lname', 'Customer Password', 'Customer Segment',\n",
       "       'Customer State', 'Customer Street', 'Customer Zipcode',\n",
       "       'Department Id', 'Department Name', 'Latitude', 'Longitude', 'Market',\n",
       "       'Order City', 'Order Country', 'Order Customer Id',\n",
       "       'order date (DateOrders)', 'Order Id', 'Order Item Cardprod Id',\n",
       "       'Order Item Discount', 'Order Item Discount Rate', 'Order Item Id',\n",
       "       'Order Item Product Price', 'Order Item Profit Ratio',\n",
       "       'Order Item Quantity', 'Sales', 'Order Item Total',\n",
       "       'Order Profit Per Order', 'Order Region', 'Order State', 'Order Status',\n",
       "       'Order Zipcode', 'Product Card Id', 'Product Category Id',\n",
       "       'Product Description', 'Product Image', 'Product Name', 'Product Price',\n",
       "       'Product Status', 'shipping date (DateOrders)', 'Shipping Mode'],\n",
       "      dtype='object')"
      ]
     },
     "execution_count": 13,
     "metadata": {},
     "output_type": "execute_result"
    }
   ],
   "source": [
    "df.columns"
   ]
  },
  {
   "cell_type": "code",
   "execution_count": 14,
   "id": "52458709",
   "metadata": {
    "pycharm": {
     "name": "#%%\n"
    }
   },
   "outputs": [
    {
     "name": "stdout",
     "output_type": "stream",
     "text": [
      "<class 'pandas.core.frame.DataFrame'>\n",
      "RangeIndex: 180519 entries, 0 to 180518\n",
      "Data columns (total 53 columns):\n",
      " #   Column                         Non-Null Count   Dtype  \n",
      "---  ------                         --------------   -----  \n",
      " 0   Type                           180519 non-null  object \n",
      " 1   Days for shipping (real)       180519 non-null  int64  \n",
      " 2   Days for shipment (scheduled)  180519 non-null  int64  \n",
      " 3   Benefit per order              180519 non-null  float64\n",
      " 4   Sales per customer             180519 non-null  float64\n",
      " 5   Delivery Status                180519 non-null  object \n",
      " 6   Late_delivery_risk             180519 non-null  int64  \n",
      " 7   Category Id                    180519 non-null  int64  \n",
      " 8   Category Name                  180519 non-null  object \n",
      " 9   Customer City                  180519 non-null  object \n",
      " 10  Customer Country               180519 non-null  object \n",
      " 11  Customer Email                 180519 non-null  object \n",
      " 12  Customer Fname                 180519 non-null  object \n",
      " 13  Customer Id                    180519 non-null  int64  \n",
      " 14  Customer Lname                 180511 non-null  object \n",
      " 15  Customer Password              180519 non-null  object \n",
      " 16  Customer Segment               180519 non-null  object \n",
      " 17  Customer State                 180519 non-null  object \n",
      " 18  Customer Street                180519 non-null  object \n",
      " 19  Customer Zipcode               180516 non-null  float64\n",
      " 20  Department Id                  180519 non-null  int64  \n",
      " 21  Department Name                180519 non-null  object \n",
      " 22  Latitude                       180519 non-null  float64\n",
      " 23  Longitude                      180519 non-null  float64\n",
      " 24  Market                         180519 non-null  object \n",
      " 25  Order City                     180519 non-null  object \n",
      " 26  Order Country                  180519 non-null  object \n",
      " 27  Order Customer Id              180519 non-null  int64  \n",
      " 28  order date (DateOrders)        180519 non-null  object \n",
      " 29  Order Id                       180519 non-null  int64  \n",
      " 30  Order Item Cardprod Id         180519 non-null  int64  \n",
      " 31  Order Item Discount            180519 non-null  float64\n",
      " 32  Order Item Discount Rate       180519 non-null  float64\n",
      " 33  Order Item Id                  180519 non-null  int64  \n",
      " 34  Order Item Product Price       180519 non-null  float64\n",
      " 35  Order Item Profit Ratio        180519 non-null  float64\n",
      " 36  Order Item Quantity            180519 non-null  int64  \n",
      " 37  Sales                          180519 non-null  float64\n",
      " 38  Order Item Total               180519 non-null  float64\n",
      " 39  Order Profit Per Order         180519 non-null  float64\n",
      " 40  Order Region                   180519 non-null  object \n",
      " 41  Order State                    180519 non-null  object \n",
      " 42  Order Status                   180519 non-null  object \n",
      " 43  Order Zipcode                  24840 non-null   float64\n",
      " 44  Product Card Id                180519 non-null  int64  \n",
      " 45  Product Category Id            180519 non-null  int64  \n",
      " 46  Product Description            0 non-null       float64\n",
      " 47  Product Image                  180519 non-null  object \n",
      " 48  Product Name                   180519 non-null  object \n",
      " 49  Product Price                  180519 non-null  float64\n",
      " 50  Product Status                 180519 non-null  int64  \n",
      " 51  shipping date (DateOrders)     180519 non-null  object \n",
      " 52  Shipping Mode                  180519 non-null  object \n",
      "dtypes: float64(15), int64(14), object(24)\n",
      "memory usage: 73.0+ MB\n"
     ]
    }
   ],
   "source": [
    "df.info()"
   ]
  },
  {
   "cell_type": "code",
   "execution_count": 15,
   "id": "57245731",
   "metadata": {},
   "outputs": [],
   "source": [
    "# Converting Datetime Variables\n",
    "df['order_date'] = pd.to_datetime(df['order date (DateOrders)'])\n",
    "\n",
    "df['order_year'] = pd.DatetimeIndex(df['order_date']).year\n",
    "df['order_month'] = pd.DatetimeIndex(df['order_date']).month\n",
    "df['order_day'] = pd.DatetimeIndex(df['order_date']).day\n",
    "\n",
    "df.drop(['order date (DateOrders)','shipping date (DateOrders)'],axis=1,inplace=True)\n",
    "df.drop(['order_date'],axis=1,inplace=True)"
   ]
  },
  {
   "cell_type": "markdown",
   "id": "0a4052e9",
   "metadata": {},
   "source": [
    "### 2.3 Remove Insignificant Varibles"
   ]
  },
  {
   "cell_type": "code",
   "execution_count": 16,
   "id": "e91fa6d7",
   "metadata": {},
   "outputs": [],
   "source": [
    "# Dropping irrelevant columns\n",
    "not_needed=['Product Image','Product Status','Customer Email','Customer Password','Customer Fname','Customer Lname','Product Name','Late_delivery_risk','Delivery Status']\n",
    "df.drop(not_needed,axis=1,inplace=True)"
   ]
  },
  {
   "cell_type": "code",
   "execution_count": 17,
   "id": "1e5816a1",
   "metadata": {
    "pycharm": {
     "name": "#%%\n"
    }
   },
   "outputs": [],
   "source": [
    "# Dropping Duplicate Columns\n",
    "dup_col = ['Product Category Id','Order Item Product Price','Order Item Cardprod Id','Order Profit Per Order','Sales per customer','Order Customer Id']\n",
    "df.drop(dup_col,axis=1,inplace=True)"
   ]
  },
  {
   "cell_type": "code",
   "execution_count": 18,
   "id": "9b46c719",
   "metadata": {},
   "outputs": [],
   "source": [
    "# Dropping Columns with many Missing Values\n",
    "miss_percent = (df.isnull().sum()*100/df.isnull().count())\n",
    "k = miss_percent[miss_percent>80]\n",
    "df.drop(k.index,axis=1,inplace=True)\n"
   ]
  },
  {
   "cell_type": "markdown",
   "id": "7ecbbc9c",
   "metadata": {},
   "source": [
    "# Fixing the target variable"
   ]
  },
  {
   "cell_type": "code",
   "execution_count": 19,
   "id": "17c596af",
   "metadata": {},
   "outputs": [],
   "source": [
    "def categorise(row):  \n",
    "    if row['Days for shipment (scheduled)'] <  row['Days for shipping (real)']:\n",
    "        return '1'\n",
    "    else:\n",
    "        return '0'"
   ]
  },
  {
   "cell_type": "markdown",
   "id": "96044879",
   "metadata": {},
   "source": [
    "If Days scheduled for shipment < Days for Shipping (real), the value 1 is assigned to our target variable, “Delay” else 0 is assigned. We treat all delays as same as it leads to customer churn"
   ]
  },
  {
   "cell_type": "code",
   "execution_count": 20,
   "id": "b280511a",
   "metadata": {},
   "outputs": [
    {
     "name": "stdout",
     "output_type": "stream",
     "text": [
      "                                                      0                 1  \\\n",
      "Type                                              DEBIT          TRANSFER   \n",
      "Days for shipping (real)                              3                 5   \n",
      "Days for shipment (scheduled)                         4                 4   \n",
      "Benefit per order                                 91.25       -249.089996   \n",
      "Category Id                                          73                73   \n",
      "Category Name                            Sporting Goods    Sporting Goods   \n",
      "Customer City                                    Caguas            Caguas   \n",
      "Customer Country                            Puerto Rico       Puerto Rico   \n",
      "Customer Id                                       20755             19492   \n",
      "Customer Segment                               Consumer          Consumer   \n",
      "Customer State                                       PR                PR   \n",
      "Customer Street                5365 Noble Nectar Island  2679 Rustic Loop   \n",
      "Customer Zipcode                                  725.0             725.0   \n",
      "Department Id                                         2                 2   \n",
      "Department Name                                 Fitness           Fitness   \n",
      "Latitude                                      18.251453         18.279451   \n",
      "Longitude                                    -66.037056        -66.037064   \n",
      "Market                                     Pacific Asia      Pacific Asia   \n",
      "Order City                                       Bekasi           Bikaner   \n",
      "Order Country                                 Indonesia             India   \n",
      "Order Id                                          77202             75939   \n",
      "Order Item Discount                               13.11         16.389999   \n",
      "Order Item Discount Rate                           0.04              0.05   \n",
      "Order Item Id                                    180517            179254   \n",
      "Order Item Profit Ratio                            0.29              -0.8   \n",
      "Order Item Quantity                                   1                 1   \n",
      "Sales                                            327.75            327.75   \n",
      "Order Item Total                             314.640015        311.359985   \n",
      "Order Region                             Southeast Asia        South Asia   \n",
      "Order State                             Java Occidental          Rajast·n   \n",
      "Order Status                                   COMPLETE           PENDING   \n",
      "Product Card Id                                    1360              1360   \n",
      "Product Price                                    327.75            327.75   \n",
      "Shipping Mode                            Standard Class    Standard Class   \n",
      "order_year                                         2018              2018   \n",
      "order_month                                           1                 1   \n",
      "order_day                                            31                13   \n",
      "Delay                                                 0                 1   \n",
      "\n",
      "                                                  2                3  \\\n",
      "Type                                           CASH            DEBIT   \n",
      "Days for shipping (real)                          4                3   \n",
      "Days for shipment (scheduled)                     4                4   \n",
      "Benefit per order                       -247.779999        22.860001   \n",
      "Category Id                                      73               73   \n",
      "Category Name                        Sporting Goods   Sporting Goods   \n",
      "Customer City                              San Jose      Los Angeles   \n",
      "Customer Country                            EE. UU.          EE. UU.   \n",
      "Customer Id                                   19491            19490   \n",
      "Customer Segment                           Consumer      Home Office   \n",
      "Customer State                                   CA               CA   \n",
      "Customer Street                8510 Round Bear Gate  3200 Amber Bend   \n",
      "Customer Zipcode                            95125.0          90027.0   \n",
      "Department Id                                     2                2   \n",
      "Department Name                             Fitness          Fitness   \n",
      "Latitude                                  37.292233        34.125946   \n",
      "Longitude                               -121.881279      -118.291016   \n",
      "Market                                 Pacific Asia     Pacific Asia   \n",
      "Order City                                  Bikaner       Townsville   \n",
      "Order Country                                 India        Australia   \n",
      "Order Id                                      75938            75937   \n",
      "Order Item Discount                       18.030001        22.940001   \n",
      "Order Item Discount Rate                       0.06             0.07   \n",
      "Order Item Id                                179253           179252   \n",
      "Order Item Profit Ratio                        -0.8             0.08   \n",
      "Order Item Quantity                               1                1   \n",
      "Sales                                        327.75           327.75   \n",
      "Order Item Total                         309.720001       304.809998   \n",
      "Order Region                             South Asia          Oceania   \n",
      "Order State                                Rajast·n       Queensland   \n",
      "Order Status                                 CLOSED         COMPLETE   \n",
      "Product Card Id                                1360             1360   \n",
      "Product Price                                327.75           327.75   \n",
      "Shipping Mode                        Standard Class   Standard Class   \n",
      "order_year                                     2018             2018   \n",
      "order_month                                       1                1   \n",
      "order_day                                        13               13   \n",
      "Delay                                             0                0   \n",
      "\n",
      "                                                      4  \n",
      "Type                                            PAYMENT  \n",
      "Days for shipping (real)                              2  \n",
      "Days for shipment (scheduled)                         4  \n",
      "Benefit per order                            134.210007  \n",
      "Category Id                                          73  \n",
      "Category Name                            Sporting Goods  \n",
      "Customer City                                    Caguas  \n",
      "Customer Country                            Puerto Rico  \n",
      "Customer Id                                       19489  \n",
      "Customer Segment                              Corporate  \n",
      "Customer State                                       PR  \n",
      "Customer Street                8671 Iron Anchor Corners  \n",
      "Customer Zipcode                                  725.0  \n",
      "Department Id                                         2  \n",
      "Department Name                                 Fitness  \n",
      "Latitude                                      18.253769  \n",
      "Longitude                                    -66.037048  \n",
      "Market                                     Pacific Asia  \n",
      "Order City                                   Townsville  \n",
      "Order Country                                 Australia  \n",
      "Order Id                                          75936  \n",
      "Order Item Discount                                29.5  \n",
      "Order Item Discount Rate                           0.09  \n",
      "Order Item Id                                    179251  \n",
      "Order Item Profit Ratio                            0.45  \n",
      "Order Item Quantity                                   1  \n",
      "Sales                                            327.75  \n",
      "Order Item Total                                 298.25  \n",
      "Order Region                                    Oceania  \n",
      "Order State                                  Queensland  \n",
      "Order Status                            PENDING_PAYMENT  \n",
      "Product Card Id                                    1360  \n",
      "Product Price                                    327.75  \n",
      "Shipping Mode                            Standard Class  \n",
      "order_year                                         2018  \n",
      "order_month                                           1  \n",
      "order_day                                            13  \n",
      "Delay                                                 0  \n"
     ]
    }
   ],
   "source": [
    "df['Delay']  =  df.apply(lambda row: categorise(row), axis=1)\n",
    "print(df.head().T)"
   ]
  },
  {
   "cell_type": "markdown",
   "id": "ce3caf06",
   "metadata": {},
   "source": [
    "Since we have derived a new variable, Delay from the two variables, 'Days for shipment (scheduled)' and 'Days for shipping (real)', we will drop these two columns used in deriving the target variable."
   ]
  },
  {
   "cell_type": "code",
   "execution_count": 21,
   "id": "db0f9297",
   "metadata": {},
   "outputs": [],
   "source": [
    "## Drop id variables such as 'Customer Id', 'Order Item Id'  \n",
    "## Add other variables that are collinear with Customer address details \n",
    "### a. Customer Street, b. Order Id, c. Longitude d. Latitude\n",
    "\n",
    "unwanted_cols =   ['Customer Id','Order Item Id','Product Card Id', 'Days for shipment (scheduled)','Days for shipping (real)']\n",
    "unwanted_cols +=  ['Customer Street','Order Id','Longitude','Latitude']\n",
    "df.drop(unwanted_cols,axis=1,inplace=True)"
   ]
  },
  {
   "cell_type": "markdown",
   "id": "c9ed35a0",
   "metadata": {},
   "source": [
    "### Detect Missing values "
   ]
  },
  {
   "cell_type": "code",
   "execution_count": 22,
   "id": "6b0cba12",
   "metadata": {},
   "outputs": [
    {
     "name": "stdout",
     "output_type": "stream",
     "text": [
      "Your selected dataframe has 29 columns and 180519 Rows.\n",
      "There are 1 columns that have missing values.\n"
     ]
    },
    {
     "data": {
      "text/html": [
       "<div>\n",
       "<style scoped>\n",
       "    .dataframe tbody tr th:only-of-type {\n",
       "        vertical-align: middle;\n",
       "    }\n",
       "\n",
       "    .dataframe tbody tr th {\n",
       "        vertical-align: top;\n",
       "    }\n",
       "\n",
       "    .dataframe thead th {\n",
       "        text-align: right;\n",
       "    }\n",
       "</style>\n",
       "<table border=\"1\" class=\"dataframe\">\n",
       "  <thead>\n",
       "    <tr style=\"text-align: right;\">\n",
       "      <th></th>\n",
       "      <th>Zero Values</th>\n",
       "      <th>Missing Values</th>\n",
       "      <th>% of Total Values</th>\n",
       "      <th>Total Zero &amp; Missing Values</th>\n",
       "      <th>% Total Zero &amp; Missing Values</th>\n",
       "      <th>Data Type</th>\n",
       "    </tr>\n",
       "  </thead>\n",
       "  <tbody>\n",
       "    <tr>\n",
       "      <th>Customer Zipcode</th>\n",
       "      <td>0</td>\n",
       "      <td>3</td>\n",
       "      <td>0.0</td>\n",
       "      <td>3</td>\n",
       "      <td>0.0</td>\n",
       "      <td>float64</td>\n",
       "    </tr>\n",
       "  </tbody>\n",
       "</table>\n",
       "</div>"
      ],
      "text/plain": [
       "                  Zero Values  Missing Values  % of Total Values  \\\n",
       "Customer Zipcode            0               3                0.0   \n",
       "\n",
       "                  Total Zero & Missing Values  % Total Zero & Missing Values  \\\n",
       "Customer Zipcode                            3                            0.0   \n",
       "\n",
       "                 Data Type  \n",
       "Customer Zipcode   float64  "
      ]
     },
     "execution_count": 22,
     "metadata": {},
     "output_type": "execute_result"
    }
   ],
   "source": [
    "missing_zero_values_table(df)"
   ]
  },
  {
   "cell_type": "markdown",
   "id": "b1dbdd3b",
   "metadata": {},
   "source": [
    "### Observation"
   ]
  },
  {
   "cell_type": "markdown",
   "id": "cc988bb6",
   "metadata": {},
   "source": [
    "Since there are only 3 missing values for one column, out of 180519 rows, it is very negligible. We can omit the missing values row-wise."
   ]
  },
  {
   "cell_type": "code",
   "execution_count": 23,
   "id": "d8da402b",
   "metadata": {},
   "outputs": [
    {
     "name": "stdout",
     "output_type": "stream",
     "text": [
      "Before (180519, 29)\n",
      "After (180516, 29)\n"
     ]
    }
   ],
   "source": [
    "print('Before {}'.format(df.shape))\n",
    "df.dropna(inplace = True)\n",
    "print('After {}'.format(df.shape))"
   ]
  },
  {
   "cell_type": "code",
   "execution_count": 24,
   "id": "df9f78b6",
   "metadata": {},
   "outputs": [
    {
     "data": {
      "text/html": [
       "<div>\n",
       "<style scoped>\n",
       "    .dataframe tbody tr th:only-of-type {\n",
       "        vertical-align: middle;\n",
       "    }\n",
       "\n",
       "    .dataframe tbody tr th {\n",
       "        vertical-align: top;\n",
       "    }\n",
       "\n",
       "    .dataframe thead th {\n",
       "        text-align: right;\n",
       "    }\n",
       "</style>\n",
       "<table border=\"1\" class=\"dataframe\">\n",
       "  <thead>\n",
       "    <tr style=\"text-align: right;\">\n",
       "      <th></th>\n",
       "      <th>Type</th>\n",
       "      <th>Benefit per order</th>\n",
       "      <th>Category Id</th>\n",
       "      <th>Category Name</th>\n",
       "      <th>Customer City</th>\n",
       "      <th>Customer Country</th>\n",
       "      <th>Customer Segment</th>\n",
       "      <th>Customer State</th>\n",
       "      <th>Customer Zipcode</th>\n",
       "      <th>Department Id</th>\n",
       "      <th>Department Name</th>\n",
       "      <th>Market</th>\n",
       "      <th>Order City</th>\n",
       "      <th>Order Country</th>\n",
       "      <th>Order Item Discount</th>\n",
       "      <th>Order Item Discount Rate</th>\n",
       "      <th>Order Item Profit Ratio</th>\n",
       "      <th>Order Item Quantity</th>\n",
       "      <th>Sales</th>\n",
       "      <th>Order Item Total</th>\n",
       "      <th>Order Region</th>\n",
       "      <th>Order State</th>\n",
       "      <th>Order Status</th>\n",
       "      <th>Product Price</th>\n",
       "      <th>Shipping Mode</th>\n",
       "      <th>order_year</th>\n",
       "      <th>order_month</th>\n",
       "      <th>order_day</th>\n",
       "      <th>Delay</th>\n",
       "    </tr>\n",
       "  </thead>\n",
       "  <tbody>\n",
       "  </tbody>\n",
       "</table>\n",
       "</div>"
      ],
      "text/plain": [
       "Empty DataFrame\n",
       "Columns: [Type, Benefit per order, Category Id, Category Name, Customer City, Customer Country, Customer Segment, Customer State, Customer Zipcode, Department Id, Department Name, Market, Order City, Order Country, Order Item Discount, Order Item Discount Rate, Order Item Profit Ratio, Order Item Quantity, Sales, Order Item Total, Order Region, Order State, Order Status, Product Price, Shipping Mode, order_year, order_month, order_day, Delay]\n",
       "Index: []"
      ]
     },
     "execution_count": 24,
     "metadata": {},
     "output_type": "execute_result"
    }
   ],
   "source": [
    "# For Customer Zipcode\n",
    "cust_zip = df[df['Customer Zipcode'].isnull()]\n",
    "cust_zip"
   ]
  },
  {
   "cell_type": "code",
   "execution_count": null,
   "id": "fa4febb0",
   "metadata": {},
   "outputs": [],
   "source": []
  },
  {
   "cell_type": "code",
   "execution_count": 25,
   "id": "d5ec770b",
   "metadata": {},
   "outputs": [],
   "source": [
    "for i in cust_zip.index:\n",
    "    df.iloc[i,df.columns.get_loc('Customer Zipcode')] = df.iloc[i,df.columns.get_loc('Customer State')]\n",
    "    df.iloc[i,df.columns.get_loc('Customer State')]   = df.iloc[i,df.columns.get_loc('Customer City')]\n",
    "    df.iloc[i,df.columns.get_loc('Customer City')]    = df.iloc[i,df.columns.get_loc('Customer Street')]"
   ]
  },
  {
   "cell_type": "code",
   "execution_count": 26,
   "id": "5bdca098",
   "metadata": {},
   "outputs": [],
   "source": [
    "df['Customer Zipcode'] = df['Customer Zipcode'].astype('float')"
   ]
  },
  {
   "cell_type": "code",
   "execution_count": 27,
   "id": "99f6fad8",
   "metadata": {},
   "outputs": [
    {
     "data": {
      "text/html": [
       "<div>\n",
       "<style scoped>\n",
       "    .dataframe tbody tr th:only-of-type {\n",
       "        vertical-align: middle;\n",
       "    }\n",
       "\n",
       "    .dataframe tbody tr th {\n",
       "        vertical-align: top;\n",
       "    }\n",
       "\n",
       "    .dataframe thead th {\n",
       "        text-align: right;\n",
       "    }\n",
       "</style>\n",
       "<table border=\"1\" class=\"dataframe\">\n",
       "  <thead>\n",
       "    <tr style=\"text-align: right;\">\n",
       "      <th></th>\n",
       "      <th>Type</th>\n",
       "      <th>Benefit per order</th>\n",
       "      <th>Category Id</th>\n",
       "      <th>Category Name</th>\n",
       "      <th>Customer City</th>\n",
       "      <th>Customer Country</th>\n",
       "      <th>Customer Segment</th>\n",
       "      <th>Customer State</th>\n",
       "      <th>Customer Zipcode</th>\n",
       "      <th>Department Id</th>\n",
       "      <th>Department Name</th>\n",
       "      <th>Market</th>\n",
       "      <th>Order City</th>\n",
       "      <th>Order Country</th>\n",
       "      <th>Order Item Discount</th>\n",
       "      <th>Order Item Discount Rate</th>\n",
       "      <th>Order Item Profit Ratio</th>\n",
       "      <th>Order Item Quantity</th>\n",
       "      <th>Sales</th>\n",
       "      <th>Order Item Total</th>\n",
       "      <th>Order Region</th>\n",
       "      <th>Order State</th>\n",
       "      <th>Order Status</th>\n",
       "      <th>Product Price</th>\n",
       "      <th>Shipping Mode</th>\n",
       "      <th>order_year</th>\n",
       "      <th>order_month</th>\n",
       "      <th>order_day</th>\n",
       "      <th>Delay</th>\n",
       "    </tr>\n",
       "  </thead>\n",
       "  <tbody>\n",
       "  </tbody>\n",
       "</table>\n",
       "</div>"
      ],
      "text/plain": [
       "Empty DataFrame\n",
       "Columns: [Type, Benefit per order, Category Id, Category Name, Customer City, Customer Country, Customer Segment, Customer State, Customer Zipcode, Department Id, Department Name, Market, Order City, Order Country, Order Item Discount, Order Item Discount Rate, Order Item Profit Ratio, Order Item Quantity, Sales, Order Item Total, Order Region, Order State, Order Status, Product Price, Shipping Mode, order_year, order_month, order_day, Delay]\n",
       "Index: []"
      ]
     },
     "execution_count": 27,
     "metadata": {},
     "output_type": "execute_result"
    }
   ],
   "source": [
    "df.iloc[cust_zip.index]"
   ]
  },
  {
   "cell_type": "markdown",
   "id": "6452bfd2",
   "metadata": {},
   "source": [
    "### 2.4 Label Encoding Categorical Variables"
   ]
  },
  {
   "cell_type": "code",
   "execution_count": 28,
   "id": "5731d753",
   "metadata": {},
   "outputs": [
    {
     "data": {
      "text/plain": [
       "Index(['Type', 'Category Name', 'Customer City', 'Customer Country',\n",
       "       'Customer Segment', 'Customer State', 'Department Name', 'Market',\n",
       "       'Order City', 'Order Country', 'Order Region', 'Order State',\n",
       "       'Order Status', 'Shipping Mode', 'Delay'],\n",
       "      dtype='object')"
      ]
     },
     "execution_count": 28,
     "metadata": {},
     "output_type": "execute_result"
    }
   ],
   "source": [
    "category =  df.select_dtypes(include='object').columns\n",
    "category"
   ]
  },
  {
   "cell_type": "code",
   "execution_count": 29,
   "id": "7b9f65dd",
   "metadata": {},
   "outputs": [],
   "source": [
    "lbl = LabelEncoder()\n",
    "\n",
    "for i in category:\n",
    "    df[i] = lbl.fit_transform(df[i])"
   ]
  },
  {
   "cell_type": "markdown",
   "id": "59ea6504",
   "metadata": {},
   "source": [
    "### 2.4 Distribution of Variables"
   ]
  },
  {
   "cell_type": "code",
   "execution_count": 30,
   "id": "286b631b",
   "metadata": {},
   "outputs": [],
   "source": [
    "numeric = df.select_dtypes(include='number').columns\n"
   ]
  },
  {
   "cell_type": "code",
   "execution_count": 31,
   "id": "470930ed",
   "metadata": {},
   "outputs": [
    {
     "data": {
      "text/plain": [
       "Index(['Type', 'Benefit per order', 'Category Id', 'Category Name',\n",
       "       'Customer City', 'Customer Country', 'Customer Segment',\n",
       "       'Customer State', 'Customer Zipcode', 'Department Id',\n",
       "       'Department Name', 'Market', 'Order City', 'Order Country',\n",
       "       'Order Item Discount', 'Order Item Discount Rate',\n",
       "       'Order Item Profit Ratio', 'Order Item Quantity', 'Sales',\n",
       "       'Order Item Total', 'Order Region', 'Order State', 'Order Status',\n",
       "       'Product Price', 'Shipping Mode', 'order_year', 'order_month',\n",
       "       'order_day', 'Delay'],\n",
       "      dtype='object')"
      ]
     },
     "execution_count": 31,
     "metadata": {},
     "output_type": "execute_result"
    }
   ],
   "source": [
    "numeric"
   ]
  },
  {
   "cell_type": "code",
   "execution_count": 32,
   "id": "1102351b",
   "metadata": {
    "pycharm": {
     "name": "#%%\n"
    }
   },
   "outputs": [
    {
     "data": {
      "image/png": "[encoded data removed]",
      "text/plain": [
       "<Figure size 1080x576 with 1 Axes>"
      ]
     },
     "metadata": {
      "needs_background": "light"
     },
     "output_type": "display_data"
    },
    {
     "name": "stdout",
     "output_type": "stream",
     "text": [
      "\n",
      " Skewness of  Type is :  0.02195154794716029\n"
     ]
    },
    {
     "data": {
      "image/png": "[encoded data removed]",
      "text/plain": [
       "<Figure size 1080x576 with 1 Axes>"
      ]
     },
     "metadata": {
      "needs_background": "light"
     },
     "output_type": "display_data"
    },
    {
     "name": "stdout",
     "output_type": "stream",
     "text": [
      "\n",
      " Skewness of  Benefit per order is :  -4.741796787312843\n"
     ]
    },
    {
     "data": {
      "image/png": "[encoded data removed]",
      "text/plain": [
       "<Figure size 1080x576 with 1 Axes>"
      ]
     },
     "metadata": {
      "needs_background": "light"
     },
     "output_type": "display_data"
    },
    {
     "name": "stdout",
     "output_type": "stream",
     "text": [
      "\n",
      " Skewness of  Category Id is :  0.36157141139709814\n"
     ]
    },
    {
     "data": {
      "image/png": "[encoded data removed]",
      "text/plain": [
       "<Figure size 1080x576 with 1 Axes>"
      ]
     },
     "metadata": {
      "needs_background": "light"
     },
     "output_type": "display_data"
    },
    {
     "name": "stdout",
     "output_type": "stream",
     "text": [
      "\n",
      " Skewness of  Category Name is :  0.06603706711928721\n"
     ]
    },
    {
     "data": {
      "image/png": "[encoded data removed]",
      "text/plain": [
       "<Figure size 1080x576 with 1 Axes>"
      ]
     },
     "metadata": {
      "needs_background": "light"
     },
     "output_type": "display_data"
    },
    {
     "name": "stdout",
     "output_type": "stream",
     "text": [
      "\n",
      " Skewness of  Customer City is :  0.7901980927784948\n"
     ]
    },
    {
     "data": {
      "image/png": "[encoded data removed]",
      "text/plain": [
       "<Figure size 1080x576 with 1 Axes>"
      ]
     },
     "metadata": {
      "needs_background": "light"
     },
     "output_type": "display_data"
    },
    {
     "name": "stdout",
     "output_type": "stream",
     "text": [
      "\n",
      " Skewness of  Customer Country is :  0.475698507243215\n"
     ]
    },
    {
     "data": {
      "image/png": "[encoded data removed]",
      "text/plain": [
       "<Figure size 1080x576 with 1 Axes>"
      ]
     },
     "metadata": {
      "needs_background": "light"
     },
     "output_type": "display_data"
    },
    {
     "name": "stdout",
     "output_type": "stream",
     "text": [
      "\n",
      " Skewness of  Customer Segment is :  0.6579930558959575\n"
     ]
    },
    {
     "data": {
      "image/png": "[encoded data removed]",
      "text/plain": [
       "<Figure size 1080x576 with 1 Axes>"
      ]
     },
     "metadata": {
      "needs_background": "light"
     },
     "output_type": "display_data"
    },
    {
     "name": "stdout",
     "output_type": "stream",
     "text": [
      "\n",
      " Skewness of  Customer State is :  -0.664760520813589\n"
     ]
    },
    {
     "data": {
      "image/png": "[encoded data removed]",
      "text/plain": [
       "<Figure size 1080x576 with 1 Axes>"
      ]
     },
     "metadata": {
      "needs_background": "light"
     },
     "output_type": "display_data"
    },
    {
     "name": "stdout",
     "output_type": "stream",
     "text": [
      "\n",
      " Skewness of  Customer Zipcode is :  0.49088340953712706\n"
     ]
    },
    {
     "data": {
      "image/png": "[encoded data removed]",
      "text/plain": [
       "<Figure size 1080x576 with 1 Axes>"
      ]
     },
     "metadata": {
      "needs_background": "light"
     },
     "output_type": "display_data"
    },
    {
     "name": "stdout",
     "output_type": "stream",
     "text": [
      "\n",
      " Skewness of  Department Id is :  0.27324179597496956\n"
     ]
    },
    {
     "data": {
      "image/png": "[encoded data removed]",
      "text/plain": [
       "<Figure size 1080x576 with 1 Axes>"
      ]
     },
     "metadata": {
      "needs_background": "light"
     },
     "output_type": "display_data"
    },
    {
     "name": "stdout",
     "output_type": "stream",
     "text": [
      "\n",
      " Skewness of  Department Name is :  0.24457663830108953\n"
     ]
    },
    {
     "data": {
      "image/png": "[encoded data removed]",
      "text/plain": [
       "<Figure size 1080x576 with 1 Axes>"
      ]
     },
     "metadata": {
      "needs_background": "light"
     },
     "output_type": "display_data"
    },
    {
     "name": "stdout",
     "output_type": "stream",
     "text": [
      "\n",
      " Skewness of  Market is :  0.09910321779125612\n"
     ]
    },
    {
     "data": {
      "image/png": "[encoded data removed]",
      "text/plain": [
       "<Figure size 1080x576 with 1 Axes>"
      ]
     },
     "metadata": {
      "needs_background": "light"
     },
     "output_type": "display_data"
    },
    {
     "name": "stdout",
     "output_type": "stream",
     "text": [
      "\n",
      " Skewness of  Order City is :  -0.1309432023917752\n"
     ]
    },
    {
     "data": {
      "image/png": "[encoded data removed]",
      "text/plain": [
       "<Figure size 1080x576 with 1 Axes>"
      ]
     },
     "metadata": {
      "needs_background": "light"
     },
     "output_type": "display_data"
    },
    {
     "name": "stdout",
     "output_type": "stream",
     "text": [
      "\n",
      " Skewness of  Order Country is :  0.3954177143663733\n"
     ]
    },
    {
     "data": {
      "image/png": "[encoded data removed]",
      "text/plain": [
       "<Figure size 1080x576 with 1 Axes>"
      ]
     },
     "metadata": {
      "needs_background": "light"
     },
     "output_type": "display_data"
    },
    {
     "name": "stdout",
     "output_type": "stream",
     "text": [
      "\n",
      " Skewness of  Order Item Discount is :  3.0399403308380126\n"
     ]
    },
    {
     "data": {
      "image/png": "[encoded data removed]",
      "text/plain": [
       "<Figure size 1080x576 with 1 Axes>"
      ]
     },
     "metadata": {
      "needs_background": "light"
     },
     "output_type": "display_data"
    },
    {
     "name": "stdout",
     "output_type": "stream",
     "text": [
      "\n",
      " Skewness of  Order Item Discount Rate is :  0.3409263043572849\n"
     ]
    },
    {
     "data": {
      "image/png": "[encoded data removed]",
      "text/plain": [
       "<Figure size 1080x576 with 1 Axes>"
      ]
     },
     "metadata": {
      "needs_background": "light"
     },
     "output_type": "display_data"
    },
    {
     "name": "stdout",
     "output_type": "stream",
     "text": [
      "\n",
      " Skewness of  Order Item Profit Ratio is :  -2.8935008398426443\n"
     ]
    },
    {
     "data": {
      "image/png": "[encoded data removed]",
      "text/plain": [
       "<Figure size 1080x576 with 1 Axes>"
      ]
     },
     "metadata": {
      "needs_background": "light"
     },
     "output_type": "display_data"
    },
    {
     "name": "stdout",
     "output_type": "stream",
     "text": [
      "\n",
      " Skewness of  Order Item Quantity is :  0.8802268217380301\n"
     ]
    },
    {
     "data": {
      "image/png": "[encoded data removed]",
      "text/plain": [
       "<Figure size 1080x576 with 1 Axes>"
      ]
     },
     "metadata": {
      "needs_background": "light"
     },
     "output_type": "display_data"
    },
    {
     "name": "stdout",
     "output_type": "stream",
     "text": [
      "\n",
      " Skewness of  Sales is :  2.884303920171953\n"
     ]
    },
    {
     "data": {
      "image/png": "[encoded data removed]",
      "text/plain": [
       "<Figure size 1080x576 with 1 Axes>"
      ]
     },
     "metadata": {
      "needs_background": "light"
     },
     "output_type": "display_data"
    },
    {
     "name": "stdout",
     "output_type": "stream",
     "text": [
      "\n",
      " Skewness of  Order Item Total is :  2.8884810873783624\n"
     ]
    },
    {
     "data": {
      "image/png": "[encoded data removed]",
      "text/plain": [
       "<Figure size 1080x576 with 1 Axes>"
      ]
     },
     "metadata": {
      "needs_background": "light"
     },
     "output_type": "display_data"
    },
    {
     "name": "stdout",
     "output_type": "stream",
     "text": [
      "\n",
      " Skewness of  Order Region is :  -0.03445873288565379\n"
     ]
    },
    {
     "data": {
      "image/png": "[encoded data removed]",
      "text/plain": [
       "<Figure size 1080x576 with 1 Axes>"
      ]
     },
     "metadata": {
      "needs_background": "light"
     },
     "output_type": "display_data"
    },
    {
     "name": "stdout",
     "output_type": "stream",
     "text": [
      "\n",
      " Skewness of  Order State is :  -0.012626529400382499\n"
     ]
    },
    {
     "data": {
      "image/png": "[encoded data removed]",
      "text/plain": [
       "<Figure size 1080x576 with 1 Axes>"
      ]
     },
     "metadata": {
      "needs_background": "light"
     },
     "output_type": "display_data"
    },
    {
     "name": "stdout",
     "output_type": "stream",
     "text": [
      "\n",
      " Skewness of  Order Status is :  0.12177231957094382\n"
     ]
    },
    {
     "data": {
      "image/png": "[encoded data removed]",
      "text/plain": [
       "<Figure size 1080x576 with 1 Axes>"
      ]
     },
     "metadata": {
      "needs_background": "light"
     },
     "output_type": "display_data"
    },
    {
     "name": "stdout",
     "output_type": "stream",
     "text": [
      "\n",
      " Skewness of  Product Price is :  3.191093007406851\n"
     ]
    },
    {
     "data": {
      "image/png": "[encoded data removed]",
      "text/plain": [
       "<Figure size 1080x576 with 1 Axes>"
      ]
     },
     "metadata": {
      "needs_background": "light"
     },
     "output_type": "display_data"
    },
    {
     "name": "stdout",
     "output_type": "stream",
     "text": [
      "\n",
      " Skewness of  Shipping Mode is :  -1.1664263180839645\n"
     ]
    },
    {
     "data": {
      "image/png": "[encoded data removed]",
      "text/plain": [
       "<Figure size 1080x576 with 1 Axes>"
      ]
     },
     "metadata": {
      "needs_background": "light"
     },
     "output_type": "display_data"
    },
    {
     "name": "stdout",
     "output_type": "stream",
     "text": [
      "\n",
      " Skewness of  order_year is :  0.1775322850663887\n"
     ]
    },
    {
     "data": {
      "image/png": "[encoded data removed]",
      "text/plain": [
       "<Figure size 1080x576 with 1 Axes>"
      ]
     },
     "metadata": {
      "needs_background": "light"
     },
     "output_type": "display_data"
    },
    {
     "name": "stdout",
     "output_type": "stream",
     "text": [
      "\n",
      " Skewness of  order_month is :  0.04212125514809873\n"
     ]
    },
    {
     "data": {
      "image/png": "[encoded data removed]",
      "text/plain": [
       "<Figure size 1080x576 with 1 Axes>"
      ]
     },
     "metadata": {
      "needs_background": "light"
     },
     "output_type": "display_data"
    },
    {
     "name": "stdout",
     "output_type": "stream",
     "text": [
      "\n",
      " Skewness of  order_day is :  0.002097738345393897\n"
     ]
    },
    {
     "data": {
      "image/png": "[encoded data removed]",
      "text/plain": [
       "<Figure size 1080x576 with 1 Axes>"
      ]
     },
     "metadata": {
      "needs_background": "light"
     },
     "output_type": "display_data"
    },
    {
     "name": "stdout",
     "output_type": "stream",
     "text": [
      "\n",
      " Skewness of  Delay is :  -0.2943261077873947\n"
     ]
    }
   ],
   "source": [
    "for i in df[numeric].columns:\n",
    "    sns.boxplot(df[i])\n",
    "    plt.show()\n",
    "    print('\\n','Skewness of ',i,'is : ',df[i].skew())\n",
    "    "
   ]
  },
  {
   "cell_type": "code",
   "execution_count": 33,
   "id": "7a7e7087",
   "metadata": {
    "pycharm": {
     "name": "#%%\n"
    }
   },
   "outputs": [],
   "source": [
    "for i in df.select_dtypes(include='object').columns:\n",
    "    plt.xticks(rotation=90)\n",
    "    sns.countplot(df[i])\n",
    "    print('\\n',i)\n",
    "    plt.show()"
   ]
  },
  {
   "cell_type": "code",
   "execution_count": 34,
   "id": "46c4b8f1",
   "metadata": {},
   "outputs": [
    {
     "name": "stdout",
     "output_type": "stream",
     "text": [
      "Index(['Type', 'Benefit per order', 'Category Id', 'Category Name',\n",
      "       'Customer City', 'Customer Country', 'Customer Segment',\n",
      "       'Customer State', 'Customer Zipcode', 'Department Id',\n",
      "       'Department Name', 'Market', 'Order City', 'Order Country',\n",
      "       'Order Item Discount', 'Order Item Discount Rate',\n",
      "       'Order Item Profit Ratio', 'Order Item Quantity', 'Sales',\n",
      "       'Order Item Total', 'Order Region', 'Order State', 'Order Status',\n",
      "       'Product Price', 'Shipping Mode', 'order_year', 'order_month',\n",
      "       'order_day'],\n",
      "      dtype='object')\n"
     ]
    }
   ],
   "source": [
    "feature_names  =  df.columns.drop('Delay')\n",
    "print(feature_names)"
   ]
  },
  {
   "cell_type": "code",
   "execution_count": 35,
   "id": "3e9f7b8c",
   "metadata": {},
   "outputs": [
    {
     "name": "stdout",
     "output_type": "stream",
     "text": [
      "(180516, 28)\n",
      "(180516,)\n"
     ]
    },
    {
     "data": {
      "text/plain": [
       "1    [103399, 57.27968711914733]\n",
       "0     [77117, 42.72031288085267]\n",
       "Name: Delay, dtype: object"
      ]
     },
     "execution_count": 35,
     "metadata": {},
     "output_type": "execute_result"
    }
   ],
   "source": [
    "X              =  df.loc[:,feature_names] \n",
    "y              =  df.loc[:,'Delay']\n",
    "label_names    =  y.unique()\n",
    "print(X.shape)\n",
    "print(y.shape)\n",
    "\n",
    "y.value_counts().apply(lambda x: [x, ( x * 100) / df.shape[0]])"
   ]
  },
  {
   "cell_type": "markdown",
   "id": "002ba24b",
   "metadata": {},
   "source": [
    "### Observation\n",
    "\n",
    "Since the two classes of the target variable are not in the proportion of 50:50, we conclude that there is slight imbalance in the dataset."
   ]
  },
  {
   "cell_type": "markdown",
   "id": "78d6a0f7",
   "metadata": {},
   "source": [
    "## Model Building"
   ]
  },
  {
   "cell_type": "markdown",
   "id": "8ceaff02",
   "metadata": {},
   "source": [
    "Recursive partitioning is a fundamental tool in data mining. It helps us explore the structure of a set of data, while developing easy to visualize decision rules for predicting a categorical (classification tree) or continuous (regression tree) outcome.\n",
    "\n",
    "CART Modeling via DecisionTreeClassifier\n",
    "\n",
    "Classification and Regression Trees (as described by Brieman, Freidman, Olshenm and Stone) can be generated through the DecisionTreeClassifier package.\n",
    "\n",
    "i) Grow the tree\n",
    "\n",
    "For controlling tree growth, we set the following parameters:\n",
    "* max_depth: The maximum depth of the tree.\n",
    "* min_samples_split: The minimum number of samples required to split an internal node\n",
    "* min_samples_leaf: min no of samples at a leaf node\n",
    "* min_impurity_decrease : A node will be split if this split induces a decrease of the impurity greater than or equal to this value. "
   ]
  },
  {
   "cell_type": "markdown",
   "id": "88770147",
   "metadata": {},
   "source": [
    "### 2.7 Train Test Split"
   ]
  },
  {
   "cell_type": "code",
   "execution_count": 36,
   "id": "d0787f9c",
   "metadata": {},
   "outputs": [
    {
     "name": "stdout",
     "output_type": "stream",
     "text": [
      "X_train (144412, 28)\n",
      "y_train (144412,)\n",
      "X_test (36104, 28)\n",
      "y_test (36104,)\n"
     ]
    }
   ],
   "source": [
    "X_train, X_test, y_train, y_test = train_test_split(X, y, random_state= 10, test_size = 0.2)\n",
    "\n",
    "print('X_train', X_train.shape)\n",
    "print('y_train', y_train.shape)\n",
    "\n",
    "print('X_test', X_test.shape)\n",
    "print('y_test', y_test.shape)"
   ]
  },
  {
   "cell_type": "markdown",
   "id": "5b355dc0",
   "metadata": {},
   "source": [
    "#### Create a generalized function to calculate the metrics for the train and the test set."
   ]
  },
  {
   "cell_type": "code",
   "execution_count": 37,
   "id": "81d5318a",
   "metadata": {},
   "outputs": [],
   "source": [
    "decision_tree_classification = DecisionTreeClassifier(criterion = 'entropy', random_state = 10)\n",
    "\n",
    "decision_tree = decision_tree_classification.fit(X_train, y_train)"
   ]
  },
  {
   "cell_type": "code",
   "execution_count": 38,
   "id": "02d01c34",
   "metadata": {},
   "outputs": [
    {
     "name": "stdout",
     "output_type": "stream",
     "text": [
      "\n",
      "Training Data\n",
      "[[61879     0]\n",
      " [    0 82533]]\n"
     ]
    },
    {
     "data": {
      "image/png": "[encoded data removed]",
      "text/plain": [
       "<Figure size 1080x576 with 2 Axes>"
      ]
     },
     "metadata": {
      "needs_background": "light"
     },
     "output_type": "display_data"
    },
    {
     "name": "stdout",
     "output_type": "stream",
     "text": [
      "Training Accuracy: 100.000%\n"
     ]
    }
   ],
   "source": [
    "#Predict the response for train dataset\n",
    "predicted_train    = decision_tree.predict(X_train)\n",
    "matrix             = confusion_matrix(y_train, predicted_train)\n",
    "print(\"\\nTraining Data\")\n",
    "print(matrix)\n",
    "draw_cm(y_train, predicted_train )\n",
    "    \n",
    "accuracy_train = decision_tree.score(X_train, y_train) \n",
    "print(\"Training Accuracy: %.3f%%\" % (accuracy_train * 100.0))"
   ]
  },
  {
   "cell_type": "code",
   "execution_count": 39,
   "id": "b9163d65",
   "metadata": {},
   "outputs": [
    {
     "name": "stdout",
     "output_type": "stream",
     "text": [
      "\n",
      "Training data\n"
     ]
    },
    {
     "data": {
      "image/png": "[encoded data removed]",
      "text/plain": [
       "<Figure size 432x288 with 1 Axes>"
      ]
     },
     "metadata": {
      "needs_background": "light"
     },
     "output_type": "display_data"
    },
    {
     "data": {
      "text/plain": [
       "(array([0., 0., 1.]), array([0., 1., 1.]), array([2, 1, 0]))"
      ]
     },
     "execution_count": 39,
     "metadata": {},
     "output_type": "execute_result"
    }
   ],
   "source": [
    "print(\"\\nTraining data\")\n",
    "draw_roc( y_train, predicted_train)  "
   ]
  },
  {
   "cell_type": "code",
   "execution_count": 40,
   "id": "855cf0c8",
   "metadata": {},
   "outputs": [],
   "source": [
    "#Predict the response for test dataset\n",
    "predicted_testing = decision_tree.predict(X_test)"
   ]
  },
  {
   "cell_type": "code",
   "execution_count": 41,
   "id": "63d391dc",
   "metadata": {},
   "outputs": [
    {
     "name": "stdout",
     "output_type": "stream",
     "text": [
      "\n",
      "Testing Data\n",
      "[[12401  2837]\n",
      " [ 2826 18040]]\n"
     ]
    },
    {
     "data": {
      "image/png": "[encoded data removed]",
      "text/plain": [
       "<Figure size 1080x576 with 2 Axes>"
      ]
     },
     "metadata": {
      "needs_background": "light"
     },
     "output_type": "display_data"
    },
    {
     "name": "stdout",
     "output_type": "stream",
     "text": [
      "Testing Accuracy: 84.315%\n"
     ]
    }
   ],
   "source": [
    "matrix             = confusion_matrix(y_test, predicted_testing)\n",
    "print(\"\\nTesting Data\")\n",
    "print(matrix)\n",
    "draw_cm(y_test, predicted_testing )\n",
    "    \n",
    "accuracy_train = decision_tree.score(X_test, y_test) \n",
    "print(\"Testing Accuracy: %.3f%%\" % (accuracy_train * 100.0))"
   ]
  },
  {
   "cell_type": "code",
   "execution_count": 42,
   "id": "ebe2b9be",
   "metadata": {},
   "outputs": [
    {
     "name": "stdout",
     "output_type": "stream",
     "text": [
      "\n",
      "Testing  data\n"
     ]
    },
    {
     "data": {
      "image/png": "[encoded data removed]",
      "text/plain": [
       "<Figure size 432x288 with 1 Axes>"
      ]
     },
     "metadata": {
      "needs_background": "light"
     },
     "output_type": "display_data"
    },
    {
     "data": {
      "text/plain": [
       "(array([0.        , 0.18617929, 1.        ]),\n",
       " array([0.        , 0.86456436, 1.        ]),\n",
       " array([2, 1, 0]))"
      ]
     },
     "execution_count": 42,
     "metadata": {},
     "output_type": "execute_result"
    }
   ],
   "source": [
    "print(\"\\nTesting  data\")\n",
    "draw_roc( y_test, predicted_testing)  "
   ]
  },
  {
   "cell_type": "code",
   "execution_count": 43,
   "id": "3f4eb59e",
   "metadata": {},
   "outputs": [
    {
     "name": "stdout",
     "output_type": "stream",
     "text": [
      "              precision    recall  f1-score   support\n",
      "\n",
      "           0       1.00      1.00      1.00     61879\n",
      "           1       1.00      1.00      1.00     82533\n",
      "\n",
      "    accuracy                           1.00    144412\n",
      "   macro avg       1.00      1.00      1.00    144412\n",
      "weighted avg       1.00      1.00      1.00    144412\n",
      "\n"
     ]
    }
   ],
   "source": [
    "train_report = get_train_report(decision_tree)\n",
    "\n",
    "print(train_report)"
   ]
  },
  {
   "cell_type": "code",
   "execution_count": 44,
   "id": "93beb3ec",
   "metadata": {},
   "outputs": [
    {
     "name": "stdout",
     "output_type": "stream",
     "text": [
      "              precision    recall  f1-score   support\n",
      "\n",
      "           0       0.81      0.81      0.81     15238\n",
      "           1       0.86      0.86      0.86     20866\n",
      "\n",
      "    accuracy                           0.84     36104\n",
      "   macro avg       0.84      0.84      0.84     36104\n",
      "weighted avg       0.84      0.84      0.84     36104\n",
      "\n"
     ]
    }
   ],
   "source": [
    "test_report = get_test_report(decision_tree)\n",
    "\n",
    "print(test_report)"
   ]
  },
  {
   "cell_type": "code",
   "execution_count": 45,
   "id": "27be5c9b",
   "metadata": {},
   "outputs": [],
   "source": [
    "# feature_names \n",
    "class_names   =  ['No Delay','Delay']"
   ]
  },
  {
   "cell_type": "markdown",
   "id": "1759ba37",
   "metadata": {},
   "source": [
    "### Plot variable importance plot"
   ]
  },
  {
   "cell_type": "code",
   "execution_count": 46,
   "id": "56b03b21",
   "metadata": {},
   "outputs": [
    {
     "data": {
      "text/plain": [
       "Text(0.5, 0, 'Decision Tree Feature Importance')"
      ]
     },
     "execution_count": 46,
     "metadata": {},
     "output_type": "execute_result"
    },
    {
     "data": {
      "image/png": "[encoded data removed]",
      "text/plain": [
       "<Figure size 1080x576 with 1 Axes>"
      ]
     },
     "metadata": {
      "needs_background": "light"
     },
     "output_type": "display_data"
    }
   ],
   "source": [
    "sorted_idx = decision_tree.feature_importances_.argsort()\n",
    "plt.barh(feature_names[sorted_idx], decision_tree.feature_importances_[sorted_idx])\n",
    "plt.xlabel(\"Decision Tree Feature Importance\")"
   ]
  },
  {
   "cell_type": "markdown",
   "id": "3f4db53b",
   "metadata": {},
   "source": [
    "### Observation\n",
    "\n",
    "Top six variables influencing the target variable, Delay\n",
    "1.  Shipping Mode\n",
    "2.  Order City\n",
    "3.  Order Day\n",
    "4.  Customer ZIP code, Customer City\n",
    "5.  Order Status\n",
    "6.  Order Region"
   ]
  },
  {
   "cell_type": "code",
   "execution_count": null,
   "id": "5dcb0d6c",
   "metadata": {},
   "outputs": [],
   "source": []
  }
 ],
 "metadata": {
  "kernelspec": {
   "display_name": "Python 3 (ipykernel)",
   "language": "python",
   "name": "python3"
  },
  "language_info": {
   "codemirror_mode": {
    "name": "ipython",
    "version": 3
   },
   "file_extension": ".py",
   "mimetype": "text/x-python",
   "name": "python",
   "nbconvert_exporter": "python",
   "pygments_lexer": "ipython3",
   "version": "3.9.12"
  }
 },
 "nbformat": 4,
 "nbformat_minor": 5
}
