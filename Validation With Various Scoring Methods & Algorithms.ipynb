{
 "cells": [
  {
   "cell_type": "code",
   "execution_count": 3,
   "id": "1e0a14d1",
   "metadata": {},
   "outputs": [],
   "source": [
    "import pandas                             as    pd\n",
    "import numpy                              as    np\n",
    "import matplotlib.pyplot                  as    plt\n",
    "import seaborn                            as    sns\n",
    "\n",
    "from warnings import filterwarnings\n",
    "filterwarnings('ignore')\n",
    "\n",
    "from sklearn.model_selection              import train_test_split\n",
    "\n",
    "import statsmodels\n",
    "import statsmodels.api                    as      sm\n",
    "\n",
    "from sklearn.preprocessing                import   StandardScaler,LabelEncoder\n",
    "\n",
    "from sklearn                              import   metrics\n",
    "from sklearn.metrics                      import   classification_report\n",
    "from sklearn.metrics                      import   cohen_kappa_score\n",
    "from sklearn.metrics                      import   confusion_matrix\n",
    "from sklearn.metrics                      import   roc_curve, roc_auc_score\n",
    "from sklearn.metrics                      import   accuracy_score\n",
    "from sklearn.metrics                      import   ConfusionMatrixDisplay\n",
    "\n",
    "from sklearn.linear_model                 import   LogisticRegression\n",
    "from sklearn.tree                         import   DecisionTreeClassifier\n",
    "from sklearn.ensemble                     import   RandomForestClassifier\n",
    "from sklearn                              import   tree\n",
    "from sklearn.model_selection              import   GridSearchCV\n",
    "\n",
    "import pydotplus\n",
    "from IPython.display import Image \n",
    "\n",
    "import time\n",
    "from datetime import timedelta\n"
   ]
  },
  {
   "cell_type": "code",
   "execution_count": 4,
   "id": "5c4e20cf",
   "metadata": {},
   "outputs": [],
   "source": [
    "\"\"\"\n",
    "  Function Name: compare_models\n",
    "\n",
    "  Description: This **function** compares various algorithms on \n",
    "                 1) AUROC 2) Precision, 3) Recall\n",
    "   \n",
    "  Input:  1) splits for k fold \n",
    "          2) random seed number\n",
    "          3) Training data for predictor variables\n",
    "          4) Training data for target variable\n",
    "\n",
    "   Output: Model comparison on these metrics 1) AUROC 2) Metrics - Precision, Recall\n",
    "   \n",
    "\"\"\"\n",
    "\n",
    "def compare_models(n_splits, random_state, X, Y):  \n",
    "\n",
    "    ### To compare algorithms\n",
    "    \n",
    "    import  matplotlib.pyplot              as       plt\n",
    "    from    sklearn.model_selection        import   KFold\n",
    "    from    sklearn.model_selection        import   RepeatedStratifiedKFold\n",
    "    from    sklearn.model_selection        import   cross_val_score\n",
    "    \n",
    "    from    sklearn.linear_model           import   LogisticRegression ### -------  Model 1 ----------------------\n",
    "    from    sklearn.tree                   import   DecisionTreeClassifier ### -------  Model 2 ----------------------\n",
    "    from    sklearn.neighbors              import   KNeighborsClassifier ### -------  Model 3 ----------------------\n",
    "    from    sklearn.naive_bayes            import   GaussianNB ### -------  Model 4 ----------------------\n",
    "    from    sklearn.ensemble               import   RandomForestClassifier ### -------  Model 5 ----------------------\n",
    "    from    xgboost                        import   XGBClassifier ### -------  Model 6 ----------------------\n",
    "    from    sklearn.ensemble               import   AdaBoostClassifier ### -------  Model 7 ----------------------\n",
    "    from    sklearn.ensemble               import   GradientBoostingClassifier ### -------  Model 8 ----------------------\n",
    "    from    sklearn.discriminant_analysis  import   LinearDiscriminantAnalysis as LDA ### -------  Model 9 ------------------\n",
    "    from    sklearn.svm                    import   SVC ### -------  Model 10 ----------------------\n",
    "\n",
    "    ### Prepare models\n",
    "    \n",
    "    models  = []\n",
    "\n",
    "    models.append(('LR',   LogisticRegression())) # 1\n",
    "    models.append(('CART', DecisionTreeClassifier())) # 2\n",
    "    models.append(('RF',   RandomForestClassifier()))\n",
    "    models.append(('KNN',  KNeighborsClassifier())) # 3 \n",
    "    models.append(('NB',   GaussianNB())) # 4\n",
    "     # 5\n",
    "    models.append(('XGB',  XGBClassifier())) # 6 \n",
    "    models.append(('ADA',  AdaBoostClassifier())) # 7 \n",
    "    models.append(('GB',   GradientBoostingClassifier ())) # 8     \n",
    "    models.append(('LDA',  LDA())) # 9 \n",
    "    ## models.append(('SVC',  SVC(gamma = 'auto', kernel = 'rbf'))) # 10\n",
    "\n",
    "   \n",
    "    ### Evaluate model in turn\n",
    "    \n",
    "    scores_req             =     ['roc_auc','precision','recall','accuracy']\n",
    "    \n",
    "    for i in range(len(scores_req)):\n",
    "\n",
    "        results                =     []\n",
    "\n",
    "        names                  =     []\n",
    "        \n",
    "        scoring                =     scores_req[i]\n",
    "        \n",
    "        print(scoring)\n",
    "        \n",
    "        for name, model in models:\n",
    "                print(\"\\n n_splits %d random_state %d\" % (n_splits, random_state))        \t\n",
    "                rskf            =   RepeatedStratifiedKFold(n_splits=2, n_repeats=2, random_state=36851234)\n",
    "                cv_results      =   cross_val_score(model, X, Y, cv = rskf, scoring = scoring)\n",
    "               \n",
    "                results.append(cv_results)\n",
    "                \n",
    "                names.append(name)\n",
    "                msg = \"%s: %f (%f)\" % (name, cv_results.mean(), cv_results.std())\n",
    "                print(msg)\n",
    "                \n",
    "        ### Box plot algorithm comparison\n",
    "        \n",
    "        sub_title = 'Algorithm Comparison using ' + scoring\n",
    "        \n",
    "        fig = plt.figure()\n",
    "        fig.suptitle(sub_title)\n",
    "        ax  = fig.add_subplot(111)\n",
    "        plt.boxplot(results)\n",
    "        ax.set_xticklabels(labels = names, rotation = 90)\n",
    "        plt.show()"
   ]
  },
  {
   "cell_type": "code",
   "execution_count": 5,
   "id": "387317e8",
   "metadata": {},
   "outputs": [
    {
     "ename": "NameError",
     "evalue": "name 'clf' is not defined",
     "output_type": "error",
     "traceback": [
      "\u001b[1;31m---------------------------------------------------------------------------\u001b[0m",
      "\u001b[1;31mNameError\u001b[0m                                 Traceback (most recent call last)",
      "Input \u001b[1;32mIn [5]\u001b[0m, in \u001b[0;36m<cell line: 6>\u001b[1;34m()\u001b[0m\n\u001b[0;32m      1\u001b[0m \u001b[38;5;28;01mfrom\u001b[39;00m \u001b[38;5;21;01msklearn\u001b[39;00m\u001b[38;5;21;01m.\u001b[39;00m\u001b[38;5;21;01mmodel_selection\u001b[39;00m \u001b[38;5;28;01mimport\u001b[39;00m cross_validate\n\u001b[0;32m      3\u001b[0m scoring \u001b[38;5;241m=\u001b[39m {\u001b[38;5;124m'\u001b[39m\u001b[38;5;124macc\u001b[39m\u001b[38;5;124m'\u001b[39m: \u001b[38;5;124m'\u001b[39m\u001b[38;5;124maccuracy\u001b[39m\u001b[38;5;124m'\u001b[39m,\n\u001b[0;32m      4\u001b[0m            \u001b[38;5;124m'\u001b[39m\u001b[38;5;124mprec_macro\u001b[39m\u001b[38;5;124m'\u001b[39m: \u001b[38;5;124m'\u001b[39m\u001b[38;5;124mprecision_macro\u001b[39m\u001b[38;5;124m'\u001b[39m,\n\u001b[0;32m      5\u001b[0m            \u001b[38;5;124m'\u001b[39m\u001b[38;5;124mrec_micro\u001b[39m\u001b[38;5;124m'\u001b[39m: \u001b[38;5;124m'\u001b[39m\u001b[38;5;124mrecall_macro\u001b[39m\u001b[38;5;124m'\u001b[39m}\n\u001b[1;32m----> 6\u001b[0m scores \u001b[38;5;241m=\u001b[39m cross_validate(\u001b[43mclf\u001b[49m, X, Y, scoring\u001b[38;5;241m=\u001b[39mscoring,\n\u001b[0;32m      7\u001b[0m                          cv\u001b[38;5;241m=\u001b[39m\u001b[38;5;241m5\u001b[39m, return_train_score\u001b[38;5;241m=\u001b[39m\u001b[38;5;28;01mTrue\u001b[39;00m)\n\u001b[0;32m      8\u001b[0m \u001b[38;5;28mprint\u001b[39m(scores\u001b[38;5;241m.\u001b[39mkeys())\n\u001b[0;32m      9\u001b[0m \u001b[38;5;28mprint\u001b[39m(scores[\u001b[38;5;124m'\u001b[39m\u001b[38;5;124mtest_acc\u001b[39m\u001b[38;5;124m'\u001b[39m])\n",
      "\u001b[1;31mNameError\u001b[0m: name 'clf' is not defined"
     ]
    }
   ],
   "source": [
    "from sklearn.model_selection import cross_validate\n",
    "\n",
    "scoring = {'acc': 'accuracy',\n",
    "           'prec_macro': 'precision_macro',\n",
    "           'rec_micro': 'recall_macro'}\n",
    "scores = cross_validate(clf, X, Y, scoring=scoring,\n",
    "                         cv=5, return_train_score=True)\n",
    "print(scores.keys())\n",
    "print(scores['test_acc']) "
   ]
  },
  {
   "cell_type": "code",
   "execution_count": null,
   "id": "26548388",
   "metadata": {},
   "outputs": [],
   "source": [
    "df = pd.read_csv('DataCoSupplyChainDataset.csv', encoding='latin')"
   ]
  },
  {
   "cell_type": "code",
   "execution_count": null,
   "id": "4a45ace1",
   "metadata": {},
   "outputs": [],
   "source": [
    "pd.options.display.max_columns = None"
   ]
  },
  {
   "cell_type": "code",
   "execution_count": null,
   "id": "df2ad028",
   "metadata": {},
   "outputs": [],
   "source": [
    "df.head()"
   ]
  },
  {
   "cell_type": "code",
   "execution_count": null,
   "id": "be5a855d",
   "metadata": {},
   "outputs": [],
   "source": [
    "# Converting Datetime Variables\n",
    "df['order_date'] = pd.to_datetime(df['order date (DateOrders)'])\n",
    "\n",
    "df['order_year'] = pd.DatetimeIndex(df['order_date']).year\n",
    "df['order_month'] = pd.DatetimeIndex(df['order_date']).month\n",
    "df['order_day'] = pd.DatetimeIndex(df['order_date']).day\n",
    "\n",
    "df.drop(['order date (DateOrders)','shipping date (DateOrders)'],axis=1,inplace=True)\n",
    "df.drop(['order_date'],axis=1,inplace=True)"
   ]
  },
  {
   "cell_type": "code",
   "execution_count": null,
   "id": "15ca6f5c",
   "metadata": {},
   "outputs": [],
   "source": [
    "# Dropping irrelevant columns\n",
    "not_needed=['Product Image','Product Status','Customer Email','Customer Password','Customer Fname','Customer Lname','Product Name','Delivery Status']\n",
    "df.drop(not_needed,axis=1,inplace=True)"
   ]
  },
  {
   "cell_type": "code",
   "execution_count": null,
   "id": "4bf2d144",
   "metadata": {},
   "outputs": [],
   "source": [
    "# Dropping Duplicate Columns\n",
    "dup_col = ['Product Category Id','Order Item Product Price','Order Item Cardprod Id','Order Profit Per Order','Sales per customer','Order Customer Id']\n",
    "df.drop(dup_col,axis=1,inplace=True)"
   ]
  },
  {
   "cell_type": "code",
   "execution_count": null,
   "id": "c13edfd5",
   "metadata": {},
   "outputs": [],
   "source": [
    "# Dropping Columns with many Missing Values\n",
    "miss_percent = (df.isnull().sum()*100/df.isnull().count())\n",
    "k = miss_percent[miss_percent>80]\n",
    "df.drop(k.index,axis=1,inplace=True)"
   ]
  },
  {
   "cell_type": "code",
   "execution_count": null,
   "id": "dad72423",
   "metadata": {},
   "outputs": [],
   "source": [
    "category =  df.select_dtypes(include='object').columns\n",
    "category"
   ]
  },
  {
   "cell_type": "code",
   "execution_count": null,
   "id": "78719986",
   "metadata": {},
   "outputs": [],
   "source": [
    "numeric = df.select_dtypes(include='number').columns\n",
    "numeric = numeric.drop('Late_delivery_risk')"
   ]
  },
  {
   "cell_type": "code",
   "execution_count": null,
   "id": "2534f485",
   "metadata": {},
   "outputs": [],
   "source": [
    "numeric"
   ]
  },
  {
   "cell_type": "code",
   "execution_count": null,
   "id": "7a5c418b",
   "metadata": {},
   "outputs": [],
   "source": [
    "df.isnull().sum()>0"
   ]
  },
  {
   "cell_type": "code",
   "execution_count": null,
   "id": "fae08cd9",
   "metadata": {},
   "outputs": [],
   "source": [
    "# For Customer Zipcode\n",
    "cust_zip = df[df['Customer Zipcode'].isnull()]\n",
    "cust_zip"
   ]
  },
  {
   "cell_type": "code",
   "execution_count": null,
   "id": "fd7a45f6",
   "metadata": {},
   "outputs": [],
   "source": [
    "for i in cust_zip.index:\n",
    "    df.iloc[i,df.columns.get_loc('Customer Zipcode')] = df.iloc[i,df.columns.get_loc('Customer State')]\n",
    "    df.iloc[i,df.columns.get_loc('Customer State')]   = df.iloc[i,df.columns.get_loc('Customer City')]\n",
    "    df.iloc[i,df.columns.get_loc('Customer City')]    = df.iloc[i,df.columns.get_loc('Customer Street')]"
   ]
  },
  {
   "cell_type": "code",
   "execution_count": null,
   "id": "7946352a",
   "metadata": {},
   "outputs": [],
   "source": [
    "df['Customer Zipcode'] = df['Customer Zipcode'].astype('float')"
   ]
  },
  {
   "cell_type": "code",
   "execution_count": null,
   "id": "b017c0fa",
   "metadata": {},
   "outputs": [],
   "source": [
    "df.iloc[cust_zip.index]"
   ]
  },
  {
   "cell_type": "code",
   "execution_count": null,
   "id": "f4ff6760",
   "metadata": {},
   "outputs": [],
   "source": [
    "Q1 = df.quantile(0.25)\n",
    "Q3 = df.quantile(0.75)\n",
    "\n",
    "IQR = Q3 - Q1\n",
    "\n",
    "df_iqr = df[~((df < (Q1 - 1.5 * IQR)) | (df > (Q3 + 1.5 * IQR))).any(axis=1)]\n",
    "\n",
    "df_iqr.head()"
   ]
  },
  {
   "cell_type": "code",
   "execution_count": null,
   "id": "0f3754e5",
   "metadata": {},
   "outputs": [],
   "source": [
    "df_iqr.shape"
   ]
  },
  {
   "cell_type": "code",
   "execution_count": null,
   "id": "421bdb3f",
   "metadata": {},
   "outputs": [],
   "source": [
    "lbl=LabelEncoder()\n",
    "\n",
    "for i in category:\n",
    "    df_iqr[i] = lbl.fit_transform(df_iqr[i])"
   ]
  },
  {
   "cell_type": "code",
   "execution_count": null,
   "id": "4c8df9a7",
   "metadata": {},
   "outputs": [],
   "source": [
    "ss=StandardScaler()\n",
    "\n",
    "for i in numeric:\n",
    "    df_iqr[i] = ss.fit_transform(df_iqr[[i]])"
   ]
  },
  {
   "cell_type": "code",
   "execution_count": null,
   "id": "caa2ee24",
   "metadata": {},
   "outputs": [],
   "source": [
    "unwanted_cols =   ['Customer Id','Order Item Id','Product Card Id', 'Days for shipment (scheduled)','Days for shipping (real)', \n",
    "                   'Customer Street','Order Id','Longitude','Latitude']\n",
    "df_iqr.drop(unwanted_cols,axis=1,inplace=True)"
   ]
  },
  {
   "cell_type": "code",
   "execution_count": null,
   "id": "69fa5792",
   "metadata": {},
   "outputs": [],
   "source": [
    "df_iqr.shape"
   ]
  },
  {
   "cell_type": "code",
   "execution_count": null,
   "id": "b1d20b3e",
   "metadata": {},
   "outputs": [],
   "source": []
  },
  {
   "cell_type": "code",
   "execution_count": null,
   "id": "c3ff3d7a",
   "metadata": {},
   "outputs": [],
   "source": []
  },
  {
   "cell_type": "code",
   "execution_count": null,
   "id": "7f744ebd",
   "metadata": {},
   "outputs": [],
   "source": []
  },
  {
   "cell_type": "code",
   "execution_count": null,
   "id": "50a55c31",
   "metadata": {},
   "outputs": [],
   "source": [
    "feature_names  =  df_iqr.columns.drop('Late_delivery_risk')\n",
    "print(feature_names)"
   ]
  },
  {
   "cell_type": "code",
   "execution_count": null,
   "id": "f8837cd0",
   "metadata": {},
   "outputs": [],
   "source": [
    "X = df_iqr.drop('Late_delivery_risk',axis=1)\n",
    "y = df_iqr['Late_delivery_risk']"
   ]
  },
  {
   "cell_type": "code",
   "execution_count": null,
   "id": "c1ead67b",
   "metadata": {},
   "outputs": [],
   "source": [
    "print('X dimension {}'. format(X.shape))\n",
    "print('y dimension {}'. format(y.shape))"
   ]
  },
  {
   "cell_type": "code",
   "execution_count": null,
   "id": "8f737148",
   "metadata": {},
   "outputs": [],
   "source": [
    "start_time = time.time()"
   ]
  },
  {
   "cell_type": "code",
   "execution_count": 42,
   "id": "bbfc225c",
   "metadata": {
    "scrolled": false
   },
   "outputs": [
    {
     "name": "stdout",
     "output_type": "stream",
     "text": [
      "roc_auc\n",
      "\n",
      " n_splits 5 random_state 12345\n",
      "LR: 0.705460 (0.001346)\n",
      "\n",
      " n_splits 5 random_state 12345\n",
      "CART: 0.734056 (0.009230)\n",
      "\n",
      " n_splits 5 random_state 12345\n",
      "RF: 0.837575 (0.001148)\n",
      "\n",
      " n_splits 5 random_state 12345\n",
      "KNN: 0.662133 (0.001301)\n",
      "\n",
      " n_splits 5 random_state 12345\n",
      "NB: 0.730693 (0.000940)\n",
      "\n",
      " n_splits 5 random_state 12345\n",
      "[18:00:26] WARNING: ..\\src\\learner.cc:1115: Starting in XGBoost 1.3.0, the default evaluation metric used with the objective 'binary:logistic' was changed from 'error' to 'logloss'. Explicitly set eval_metric if you'd like to restore the old behavior.\n",
      "[18:00:28] WARNING: ..\\src\\learner.cc:1115: Starting in XGBoost 1.3.0, the default evaluation metric used with the objective 'binary:logistic' was changed from 'error' to 'logloss'. Explicitly set eval_metric if you'd like to restore the old behavior.\n",
      "[18:00:29] WARNING: ..\\src\\learner.cc:1115: Starting in XGBoost 1.3.0, the default evaluation metric used with the objective 'binary:logistic' was changed from 'error' to 'logloss'. Explicitly set eval_metric if you'd like to restore the old behavior.\n",
      "[18:00:31] WARNING: ..\\src\\learner.cc:1115: Starting in XGBoost 1.3.0, the default evaluation metric used with the objective 'binary:logistic' was changed from 'error' to 'logloss'. Explicitly set eval_metric if you'd like to restore the old behavior.\n",
      "XGB: 0.812097 (0.002018)\n",
      "\n",
      " n_splits 5 random_state 12345\n",
      "ADA: 0.772086 (0.000621)\n",
      "\n",
      " n_splits 5 random_state 12345\n",
      "GB: 0.777337 (0.000783)\n",
      "\n",
      " n_splits 5 random_state 12345\n",
      "LDA: 0.726078 (0.000713)\n"
     ]
    },
    {
     "data": {
      "image/png": "[encoded data removed]",
      "text/plain": [
       "<Figure size 432x288 with 1 Axes>"
      ]
     },
     "metadata": {
      "needs_background": "light"
     },
     "output_type": "display_data"
    },
    {
     "name": "stdout",
     "output_type": "stream",
     "text": [
      "precision\n",
      "\n",
      " n_splits 5 random_state 12345\n",
      "LR: 0.716125 (0.003070)\n",
      "\n",
      " n_splits 5 random_state 12345\n",
      "CART: 0.757505 (0.007662)\n",
      "\n",
      " n_splits 5 random_state 12345\n",
      "RF: 0.837201 (0.002680)\n",
      "\n",
      " n_splits 5 random_state 12345\n",
      "KNN: 0.647949 (0.000922)\n",
      "\n",
      " n_splits 5 random_state 12345\n",
      "NB: 0.812963 (0.001518)\n",
      "\n",
      " n_splits 5 random_state 12345\n",
      "[18:11:04] WARNING: ..\\src\\learner.cc:1115: Starting in XGBoost 1.3.0, the default evaluation metric used with the objective 'binary:logistic' was changed from 'error' to 'logloss'. Explicitly set eval_metric if you'd like to restore the old behavior.\n",
      "[18:11:06] WARNING: ..\\src\\learner.cc:1115: Starting in XGBoost 1.3.0, the default evaluation metric used with the objective 'binary:logistic' was changed from 'error' to 'logloss'. Explicitly set eval_metric if you'd like to restore the old behavior.\n",
      "[18:11:07] WARNING: ..\\src\\learner.cc:1115: Starting in XGBoost 1.3.0, the default evaluation metric used with the objective 'binary:logistic' was changed from 'error' to 'logloss'. Explicitly set eval_metric if you'd like to restore the old behavior.\n",
      "[18:11:09] WARNING: ..\\src\\learner.cc:1115: Starting in XGBoost 1.3.0, the default evaluation metric used with the objective 'binary:logistic' was changed from 'error' to 'logloss'. Explicitly set eval_metric if you'd like to restore the old behavior.\n",
      "XGB: 0.825291 (0.001261)\n",
      "\n",
      " n_splits 5 random_state 12345\n",
      "ADA: 0.878058 (0.004176)\n",
      "\n",
      " n_splits 5 random_state 12345\n",
      "GB: 0.864587 (0.005266)\n",
      "\n",
      " n_splits 5 random_state 12345\n",
      "LDA: 0.803128 (0.001110)\n"
     ]
    },
    {
     "data": {
      "image/png": "[encoded data removed]",
      "text/plain": [
       "<Figure size 432x288 with 1 Axes>"
      ]
     },
     "metadata": {
      "needs_background": "light"
     },
     "output_type": "display_data"
    },
    {
     "name": "stdout",
     "output_type": "stream",
     "text": [
      "recall\n",
      "\n",
      " n_splits 5 random_state 12345\n",
      "LR: 0.612374 (0.003013)\n",
      "\n",
      " n_splits 5 random_state 12345\n",
      "CART: 0.760863 (0.009656)\n",
      "\n",
      " n_splits 5 random_state 12345\n",
      "RF: 0.671413 (0.001891)\n",
      "\n",
      " n_splits 5 random_state 12345\n",
      "KNN: 0.672092 (0.002403)\n",
      "\n",
      " n_splits 5 random_state 12345\n",
      "NB: 0.544867 (0.000898)\n",
      "\n",
      " n_splits 5 random_state 12345\n",
      "[18:21:54] WARNING: ..\\src\\learner.cc:1115: Starting in XGBoost 1.3.0, the default evaluation metric used with the objective 'binary:logistic' was changed from 'error' to 'logloss'. Explicitly set eval_metric if you'd like to restore the old behavior.\n",
      "[18:21:55] WARNING: ..\\src\\learner.cc:1115: Starting in XGBoost 1.3.0, the default evaluation metric used with the objective 'binary:logistic' was changed from 'error' to 'logloss'. Explicitly set eval_metric if you'd like to restore the old behavior.\n",
      "[18:21:57] WARNING: ..\\src\\learner.cc:1115: Starting in XGBoost 1.3.0, the default evaluation metric used with the objective 'binary:logistic' was changed from 'error' to 'logloss'. Explicitly set eval_metric if you'd like to restore the old behavior.\n",
      "[18:21:58] WARNING: ..\\src\\learner.cc:1115: Starting in XGBoost 1.3.0, the default evaluation metric used with the objective 'binary:logistic' was changed from 'error' to 'logloss'. Explicitly set eval_metric if you'd like to restore the old behavior.\n",
      "XGB: 0.640138 (0.004176)\n",
      "\n",
      " n_splits 5 random_state 12345\n",
      "ADA: 0.548101 (0.003396)\n",
      "\n",
      " n_splits 5 random_state 12345\n",
      "GB: 0.565421 (0.003845)\n",
      "\n",
      " n_splits 5 random_state 12345\n",
      "LDA: 0.583765 (0.000282)\n"
     ]
    },
    {
     "data": {
      "image/png": "[encoded data removed]",
      "text/plain": [
       "<Figure size 432x288 with 1 Axes>"
      ]
     },
     "metadata": {
      "needs_background": "light"
     },
     "output_type": "display_data"
    },
    {
     "name": "stdout",
     "output_type": "stream",
     "text": [
      "accuracy\n",
      "\n",
      " n_splits 5 random_state 12345\n",
      "LR: 0.654788 (0.001342)\n",
      "\n",
      " n_splits 5 random_state 12345\n",
      "CART: 0.737000 (0.009432)\n",
      "\n",
      " n_splits 5 random_state 12345\n",
      "RF: 0.747387 (0.001873)\n",
      "\n",
      " n_splits 5 random_state 12345\n",
      "KNN: 0.620464 (0.000278)\n",
      "\n",
      " n_splits 5 random_state 12345\n",
      "NB: 0.682119 (0.000387)\n",
      "\n",
      " n_splits 5 random_state 12345\n",
      "[18:32:51] WARNING: ..\\src\\learner.cc:1115: Starting in XGBoost 1.3.0, the default evaluation metric used with the objective 'binary:logistic' was changed from 'error' to 'logloss'. Explicitly set eval_metric if you'd like to restore the old behavior.\n",
      "[18:32:52] WARNING: ..\\src\\learner.cc:1115: Starting in XGBoost 1.3.0, the default evaluation metric used with the objective 'binary:logistic' was changed from 'error' to 'logloss'. Explicitly set eval_metric if you'd like to restore the old behavior.\n",
      "[18:32:54] WARNING: ..\\src\\learner.cc:1115: Starting in XGBoost 1.3.0, the default evaluation metric used with the objective 'binary:logistic' was changed from 'error' to 'logloss'. Explicitly set eval_metric if you'd like to restore the old behavior.\n",
      "[18:32:55] WARNING: ..\\src\\learner.cc:1115: Starting in XGBoost 1.3.0, the default evaluation metric used with the objective 'binary:logistic' was changed from 'error' to 'logloss'. Explicitly set eval_metric if you'd like to restore the old behavior.\n",
      "XGB: 0.728726 (0.001430)\n",
      "\n",
      " n_splits 5 random_state 12345\n",
      "ADA: 0.710839 (0.000893)\n",
      "\n",
      " n_splits 5 random_state 12345\n",
      "GB: 0.713499 (0.000627)\n",
      "\n",
      " n_splits 5 random_state 12345\n",
      "LDA: 0.693706 (0.000503)\n"
     ]
    },
    {
     "data": {
      "image/png": "[encoded data removed]",
      "text/plain": [
       "<Figure size 432x288 with 1 Axes>"
      ]
     },
     "metadata": {
      "needs_background": "light"
     },
     "output_type": "display_data"
    }
   ],
   "source": [
    "n_splits     =    5\n",
    "random_state =    12345\n",
    "\n",
    "compare_models(n_splits, random_state, X, y)"
   ]
  },
  {
   "cell_type": "raw",
   "id": "127bdba2",
   "metadata": {},
   "source": []
  },
  {
   "cell_type": "code",
   "execution_count": 30,
   "id": "ec7e7b6e",
   "metadata": {
    "scrolled": true
   },
   "outputs": [
    {
     "data": {
      "text/plain": [
       "['accuracy',\n",
       " 'adjusted_mutual_info_score',\n",
       " 'adjusted_rand_score',\n",
       " 'average_precision',\n",
       " 'balanced_accuracy',\n",
       " 'completeness_score',\n",
       " 'explained_variance',\n",
       " 'f1',\n",
       " 'f1_macro',\n",
       " 'f1_micro',\n",
       " 'f1_samples',\n",
       " 'f1_weighted',\n",
       " 'fowlkes_mallows_score',\n",
       " 'homogeneity_score',\n",
       " 'jaccard',\n",
       " 'jaccard_macro',\n",
       " 'jaccard_micro',\n",
       " 'jaccard_samples',\n",
       " 'jaccard_weighted',\n",
       " 'max_error',\n",
       " 'mutual_info_score',\n",
       " 'neg_brier_score',\n",
       " 'neg_log_loss',\n",
       " 'neg_mean_absolute_error',\n",
       " 'neg_mean_absolute_percentage_error',\n",
       " 'neg_mean_gamma_deviance',\n",
       " 'neg_mean_poisson_deviance',\n",
       " 'neg_mean_squared_error',\n",
       " 'neg_mean_squared_log_error',\n",
       " 'neg_median_absolute_error',\n",
       " 'neg_root_mean_squared_error',\n",
       " 'normalized_mutual_info_score',\n",
       " 'precision',\n",
       " 'precision_macro',\n",
       " 'precision_micro',\n",
       " 'precision_samples',\n",
       " 'precision_weighted',\n",
       " 'r2',\n",
       " 'rand_score',\n",
       " 'recall',\n",
       " 'recall_macro',\n",
       " 'recall_micro',\n",
       " 'recall_samples',\n",
       " 'recall_weighted',\n",
       " 'roc_auc',\n",
       " 'roc_auc_ovo',\n",
       " 'roc_auc_ovo_weighted',\n",
       " 'roc_auc_ovr',\n",
       " 'roc_auc_ovr_weighted',\n",
       " 'top_k_accuracy',\n",
       " 'v_measure_score']"
      ]
     },
     "execution_count": 30,
     "metadata": {},
     "output_type": "execute_result"
    }
   ],
   "source": [
    "import sklearn\n",
    "sorted(sklearn.metrics.SCORERS.keys())"
   ]
  },
  {
   "cell_type": "code",
   "execution_count": null,
   "id": "f8cfbaa9",
   "metadata": {},
   "outputs": [],
   "source": []
  }
 ],
 "metadata": {
  "kernelspec": {
   "display_name": "Python 3 (ipykernel)",
   "language": "python",
   "name": "python3"
  },
  "language_info": {
   "codemirror_mode": {
    "name": "ipython",
    "version": 3
   },
   "file_extension": ".py",
   "mimetype": "text/x-python",
   "name": "python",
   "nbconvert_exporter": "python",
   "pygments_lexer": "ipython3",
   "version": "3.9.12"
  }
 },
 "nbformat": 4,
 "nbformat_minor": 5
}
